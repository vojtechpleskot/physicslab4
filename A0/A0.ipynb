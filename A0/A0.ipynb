{
 "cells": [
  {
   "cell_type": "code",
   "execution_count": null,
   "metadata": {},
   "outputs": [],
   "source": [
    "from header import header\n",
    "_ = header(student=\"Jmeno Studenta\", date=\"Datum mereni\", task_no=0)"
   ]
  },
  {
   "cell_type": "code",
   "execution_count": null,
   "metadata": {},
   "outputs": [],
   "source": [
    "# import stuff including the one for interactive plots\n",
    "%matplotlib widget\n",
    "import ipympl, ipywidgets\n",
    "\n",
    "import matplotlib.pyplot as plt\n",
    "import numpy as np\n",
    "import pandas as pd"
   ]
  },
  {
   "cell_type": "markdown",
   "metadata": {},
   "source": [
    "# Studium spekter $\\gamma$-záření polovodičovým spektrometrem"
   ]
  },
  {
   "cell_type": "markdown",
   "metadata": {},
   "source": [
    "# Pracovní úkoly  \n",
    " 1. Proveďte kalibraci spektrometru pomocí preparátu obsahujícího $^{226}\\mathrm{Ra}$.\n",
    " 2. Změřte spektrum $\\gamma$ zářiče $^{137}\\mathrm{Cs}$. Analyzujte jej.\n",
    " 3. Změřte spektrum $\\gamma$-záření aktivované kuchyňské soli. Analyzujte jej.\n",
    " 4. Vysvětlete mechanizmy vzniku pozorovaných objektů v aparaturních spektrech.\n",
    " 5. Porovnejte změřené energie všech pozorovaných objektů ve spektrech s tabulkovými nebo teoretickými hodnotami.\n",
    " 6. Proveďte fit závislosti šířky píku na jejich energii."
   ]
  },
  {
   "cell_type": "markdown",
   "metadata": {},
   "source": [
    "# Úvod\n",
    "\n",
    "$\\color{red}{\\textbf{TODO}}$ Tady bude výtah návodu."
   ]
  },
  {
   "cell_type": "code",
   "execution_count": null,
   "metadata": {},
   "outputs": [],
   "source": [
    "# during Theory it might be benefitial to create functions computing energies of object we expect to measure later\n",
    "ME = 510.99895  # m_e c^2 in keV\n",
    "\n",
    "def compton_edge(E):\n",
    "    \"\"\"\n",
    "    All functions below have structure similar to the following:\n",
    "\n",
    "    Returns energy of Compton's edge for initial gamma with energy E.\n",
    "\n",
    "    Parameters: E : float or array-like of FEP(s) in keV.\n",
    "\n",
    "    Returns: CE : float or ndarray of energies of Compton's edges in keV.\n",
    "    \"\"\"\n",
    "    E = np.asarray(E, dtype=float)\n",
    "    Eprime = E / (1.0 + 2.0*E/ME)   # energie of gamma after 180° scattering\n",
    "    CE = E - Eprime\n",
    "    return CE if CE.shape else float(CE)\n",
    "\n",
    "def backscatter_edge(E):\n",
    "    E = np.asarray(E, dtype=float)\n",
    "    Eprime = E / (1.0 + 2.0*E/ME)\n",
    "    return Eprime if Eprime.shape else float(Eprime)\n",
    "\n",
    "def double_compton(E):\n",
    "    E = np.asarray(E, dtype=float)\n",
    "    DE = 4*E**2 / (ME + 4*E)\n",
    "    return DE if DE.shape else float(DE)\n",
    "\n",
    "def SEP(E):\n",
    "    E = np.asarray(E, dtype=float)\n",
    "    SEP = E - ME\n",
    "    return SEP if SEP.shape else float(SEP)\n",
    "\n",
    "def DEP(E):\n",
    "    E = np.asarray(E, dtype=float)\n",
    "    DEP = E - 2*ME\n",
    "    return DEP if DEP.shape else float(DEP)\n"
   ]
  },
  {
   "cell_type": "code",
   "execution_count": null,
   "metadata": {},
   "outputs": [],
   "source": [
    "# and also a function to calculate uncertainty of peak's energy from FWHM and NetArea\n",
    "def StatUncE(FWHM, NetArea):\n",
    "    uncE = FWHM / np.sqrt(8.*np.log(2)) / np.sqrt(NetArea)\n",
    "    return uncE"
   ]
  },
  {
   "cell_type": "markdown",
   "metadata": {},
   "source": [
    "# Postup měření\n",
    "\n",
    "Nakalibrujeme spektrometr pomocí spektra nabraného s preparátem obsahujícím $^{226}\\mathrm{Ra}$. Dále naměříme spektrum zářiče $^{137}\\mathrm{Cs}$ (asi 10 minut) a spektrum aktivované kuchyňské soli (co nejdelší čas). Při každém měření označíme relevantní píky a uložíme si výpis s výsledky jejich fitů. Polohy hran a hraničních energií odečteme \"ručně\", jejich nejistoty odhadneme (na základě šířky binu apod.)."
   ]
  },
  {
   "cell_type": "markdown",
   "metadata": {},
   "source": [
    "# Výsledky měření\n",
    "\n",
    "$\\color{red}{\\textbf{Úkol:}}$ Proveďte kalibraci spektrometru pomocí preparátu obsahujícího $^{226}\\mathrm{Ra}$. Použijte tabelované energie pěti singletních, lokálně nejintenzivnějších píků. Výpočet kalibrace provádí spektrometrický software, uvažuje lineární (a kvadratický) přepočet mezi kanálem a energií. Diskutujte výslednou kalibraci, systematickou nejistotu určování energií píků z kalibrace odhadněte pomocí dalších intenzivních singletních píků ve spektru, případně píku přirozeného pozadí $^{40}\\mathrm{K}$."
   ]
  },
  {
   "cell_type": "markdown",
   "metadata": {},
   "source": [
    "$\\color{red}{\\textbf{Řešení:}}$  \n",
    "$\\color{red}{\\textbf{TODO sem musime dodat opravdova data namerena na A0 v praktiku (hodinky? smolinec?)}}$  "
   ]
  },
  {
   "cell_type": "markdown",
   "metadata": {},
   "source": [
    "Ke kalibraci jsme použili hodinky/smolinec/zářič od A4/jiný zářič. Izotop $^{226}\\mathrm{Ra}$ je členem rozpadové řadu $^{238}\\mathrm{U}$. Většina námi pozorovaných $\\gamma$ linek pochází z izotopů s $A=214$, jejich tabelované energie jsme získaly z databáze ENSDF [1]. Z níže uvedeného grafu a z koeficientů uvedených ve .Spe souboru lze vyvodit, že lineární kalibrace je dostačující. Odchylky měřených energií od tabelovaných se pohybují mezi -0.05 a 0.05 keV bez očividné závislosti na energii. Proto konzervativně odhadneme systematickou nejistotu energie na 0.05 keV."
   ]
  },
  {
   "cell_type": "code",
   "execution_count": null,
   "metadata": {},
   "outputs": [],
   "source": [
    "# From the SW output (on screen or .Rpt file):\n",
    "#  CENTROID -> exp_E[keV]\n",
    "#  NET -> NetArea\n",
    "#  +/- -> unc_NetArea\n",
    "\n",
    "# Elements of the inner list are:\n",
    "#   [\"ID\", tab_E(keV), exp_E(keV), FWHM (keV), NetArea, unc_NetArea]\n",
    "\n",
    "# TODO zatim jsem sem placnul data z A4\n",
    "# The most intense lines are as follows, everyone should use the 5 calibration ones and surely see and use at least 3 others. Depends on particular source used for the calibration.\n",
    "# 226Ra α decay: 186.211 13 ; \n",
    "# 214Pb β− decay: 241.995(4) ; 295.224(2) ; 351.9320(21) ; 785.96(9) ; 839.06(9) \n",
    "# 214Bi β− decay: 609.321(7) ; 768.360(7) ; 934.056(8) ; 1120.294(6) ; 1238.122(10) ; 1764.491(14) ; 2204.10(4) ; 2447.69(3)\n",
    "# 40K ε decay: 1460.820(5)\n",
    "\n",
    "calibration_peaks = [\n",
    "    [1, 351.932, 351.91, 1.68, 42966, 765],\n",
    "    [2, 609.321, 609.33, 2.05, 80709, 613],\n",
    "    [3, 1120.294, 1120.32, 2.94, 23530, 233],\n",
    "    [4, 1764.491, 1764.45, 4.33, 19308, 176],\n",
    "    [5, 2204.10, 2204.12, 5.02, 5112, 138],\n",
    "]\n",
    "\n",
    "other_peaks = [\n",
    "    [1, 295.224, 295.19, 1.55, 14039, 274],\n",
    "    [2, 1238.122, 1238.16, 3.23, 8871, 156],\n",
    "    [3, 1460.82, 1460.78, 2.20, 612, 202],\n",
    "    [4, 2447.69, 2447.38, 6.03, 1453, 51],\n",
    "]\n",
    "\n",
    "# construct DataFrame\n",
    "cols = [\"ID\", \"tab_E[keV]\", \"exp_E[keV]\", \"FWHM (keV)\", \"NetArea\", \"unc_NetArea\"]\n",
    "\n",
    "# define DataFrame\n",
    "df1 = pd.DataFrame(calibration_peaks, columns=cols)\n",
    "df2 = pd.DataFrame(other_peaks, columns=cols)\n",
    "\n",
    "# unite the data\n",
    "df = pd.concat([df1, df2], ignore_index=True)\n",
    "\n",
    "# construct the differences between tabulated and calibrated energies\n",
    "df[\"diff\"] = df[\"tab_E[keV]\"] - df[\"exp_E[keV]\"]\n",
    "df[\"diff_unc\"] = df[\"FWHM (keV)\"] / np.sqrt(8.*np.log(2)) / np.sqrt(df[\"NetArea\"])\n",
    "\n",
    "# create the plot\n",
    "plt.close('all')  # kill any stale canvases\n",
    "\n",
    "fig, ax = plt.subplots(figsize=(7,4), constrained_layout=True)  # avoid tight_layout with ipympl\n",
    "ax.errorbar(df[\"tab_E[keV]\"], df[\"diff\"],\n",
    "            yerr=df[\"diff_unc\"], fmt=\"o\", capsize=4, label=r\"$^{226}$Ra\")\n",
    "\n",
    "ax.axhline(0, color=\"gray\", linestyle=\"--\")\n",
    "\n",
    "ax.set_xlabel(\"Tabulovaná energie (keV)\")\n",
    "ax.set_ylabel(\"(Tabulovaná - Měřená) energie (keV)\")\n",
    "\n",
    "ax.legend()\n",
    "ax.grid(True, which=\"both\", linestyle=\":\", linewidth=0.7)\n",
    "\n",
    "ax.set_ylim(-0.05, 0.35)\n",
    "\n",
    "fig.canvas.draw_idle()"
   ]
  },
  {
   "cell_type": "markdown",
   "metadata": {},
   "source": [
    "$\\color{red}{\\textbf{Úkol:}}$ Změřte spektrum $\\gamma$ zářiče $^{137}\\mathrm{Cs}$. Analyzujte jej.  \n",
    "Z aparaturního spektra určete:  \n",
    "i)   energii $\\gamma$-záření (FEP),  \n",
    "ii)  polohu Comptonovy hrany,  \n",
    "iii) hraniční energii dvojného Comptonova rozptylu,  \n",
    "iv)  polohu píku zpětného rozptylu,  \n",
    "v)   energie $\\gamma$-záření přirozeného pozadí a identifikujte zdroje."
   ]
  },
  {
   "cell_type": "markdown",
   "metadata": {},
   "source": [
    "$\\color{red}{\\textbf{Řešení:}}$ \n",
    "1) Připravíme si ?funkci? pro čtení .Spe souborů."
   ]
  },
  {
   "cell_type": "code",
   "execution_count": null,
   "metadata": {},
   "outputs": [],
   "source": [
    "def read_spe_with_cal(filename, verbose=True):\n",
    "    \"\"\"\n",
    "    This reads the ORTEC/MAESTRO .Spe file.\n",
    "    Returns: Energies [keV] (or Channels when $ENER_FIT is missing) and Counts.\n",
    "    \"\"\"\n",
    "    counts = []\n",
    "    a = b = None\n",
    "    start_chan = end_chan = None\n",
    "    in_data = False\n",
    "\n",
    "    # files might have different newline characters/encoding; latin-1 is usually the safe choice\n",
    "    with open(filename, \"r\", encoding=\"latin-1\", errors=\"replace\") as f:\n",
    "        lines = f.readlines()\n",
    "\n",
    "    for i, raw_line in enumerate(lines):\n",
    "        line = raw_line.strip()\n",
    "\n",
    "        # catch the calibration coefficients using $ENER_FIT\n",
    "        if line.startswith(\"$ENER_FIT:\"):\n",
    "            if i + 1 < len(lines):\n",
    "                a, b = map(float, lines[i + 1].split())\n",
    "                if verbose:\n",
    "                    print(f\"[ENER_FIT] a={a}, b={b}\")\n",
    "            continue\n",
    "\n",
    "        # catch the start of the data using $DATA\n",
    "        if line.startswith(\"$DATA:\"):\n",
    "            in_data = True\n",
    "            continue\n",
    "\n",
    "        # read the data\n",
    "        if in_data:\n",
    "            if line.startswith(\"$\"):  # end of data\n",
    "                in_data = False\n",
    "                continue\n",
    "            parts = line.split()\n",
    "            if start_chan is None and len(parts) == 2:\n",
    "                start_chan, end_chan = map(int, parts)\n",
    "                if verbose:\n",
    "                    print(f\"[DATA range] {start_chan}..{end_chan}\")\n",
    "                continue\n",
    "            # individual counts\n",
    "            if len(parts) == 1 and parts[0].isdigit():\n",
    "                counts.append(int(parts[0]))\n",
    "            # empty/other lines are ignored\n",
    "\n",
    "    if start_chan is None or end_chan is None:\n",
    "        raise ValueError(\"V $DATA: sekci nebyl nalezen rozsah kanálů (první řádek po $DATA:).\")\n",
    "\n",
    "    channels = np.arange(start_chan, end_chan + 1, dtype=float)\n",
    "    counts = np.asarray(counts, dtype=float)\n",
    "\n",
    "    if len(counts) != len(channels):\n",
    "        raise ValueError(f\"Počet načtených hodnot ({len(counts)}) neodpovídá počtu kanálů ({len(channels)}).\")\n",
    "\n",
    "    # Calculate energies from channels using calibration coefficients (if available from $ENER_FIT)\n",
    "    if a is not None and b is not None:\n",
    "        energies = a + b * channels\n",
    "    else:\n",
    "        energies = channels  # no calibration -> use channels\n",
    "\n",
    "    return energies, counts"
   ]
  },
  {
   "cell_type": "markdown",
   "metadata": {},
   "source": [
    "2) Načteme si spektrum cesia a vykreslíme ho do grafu."
   ]
  },
  {
   "cell_type": "code",
   "execution_count": null,
   "metadata": {},
   "outputs": [],
   "source": [
    "energies, counts = read_spe_with_cal(\"example_Cs.Spe\", True) # change second argument to False to disable debug output\n",
    "\n",
    "# additional output for debuging\n",
    "print(\"Energie (keV):\", energies[23:33])\n",
    "print(\"Četnost:\", counts[23:33])\n",
    "\n",
    "# create the plot\n",
    "plt.close('all')  # kill any stale canvases\n",
    "\n",
    "fig, ax = plt.subplots(figsize=(6,4), constrained_layout=True)  # avoid tight_layout with ipympl\n",
    "\n",
    "ax.step(energies, counts, where=\"mid\", label=\"$^{137}$Cs\")\n",
    "ax.set_xlabel(\"Energie (keV)\" if np.any(energies != np.arange(len(energies))) else \"Kanál\")\n",
    "ax.set_ylabel(\"Četnost\")\n",
    "ax.grid(True, which=\"both\", linestyle=\":\", linewidth=0.7)\n",
    "ax.legend()\n",
    "\n",
    "# log scale is useful when you want to see the whole spectrum\n",
    "ax.set_yscale(\"log\")\n",
    "\n",
    "# set limits AFTER plotting, below the Cs part of the whole spectrum\n",
    "ax.set_xlim(25, 750)\n",
    "ax.set_ylim(2e1, 3e4)\n",
    "\n",
    "# example of zoom (on the Compton edge)\n",
    "# ax.set_xlim(450, 550)\n",
    "# ax.set_ylim(2e1, 5e2)\n",
    "\n",
    "fig.canvas.draw_idle()  # gentle redraw for ipympl"
   ]
  },
  {
   "cell_type": "markdown",
   "metadata": {},
   "source": [
    "3) Do spektra bychom měli vyznačit objekty i) - v), níže pak jejich energie porovnat s tabelovanými (teoretickými)."
   ]
  },
  {
   "cell_type": "code",
   "execution_count": null,
   "metadata": {},
   "outputs": [],
   "source": [
    "energies, counts = read_spe_with_cal(\"example_Cs.Spe\",False)\n",
    "\n",
    "plt.close('all')  # kill any stale canvases\n",
    "\n",
    "# create the plot\n",
    "fig, ax = plt.subplots(figsize=(6,4), constrained_layout=True)\n",
    "\n",
    "ax.step(energies, counts, where=\"mid\")\n",
    "\n",
    "ax.set_xlabel(\"Energie (keV)\" if np.any(energies != np.arange(len(energies))) else \"Kanál\")\n",
    "ax.set_ylabel(\"Četnost\")\n",
    "ax.set_yscale(\"log\")\n",
    "ax.grid(True, which=\"both\", linestyle=\":\", linewidth=0.7)\n",
    "\n",
    "ax.set_xlim(25, 700)      # custom range for X axis\n",
    "ax.set_ylim(2e1, 3e4)     # custom range for Y axis\n",
    "\n",
    "ax.annotate(\"FEP 662 keV\",\n",
    "            xy=(662, 1e4),\n",
    "            xytext=(550, 2e4),\n",
    "            arrowprops=dict(arrowstyle=\"->\", color=\"black\"),\n",
    "            fontsize=12, color=\"black\")\n",
    "\n",
    "ax.annotate(\"Comptonova hrana\",\n",
    "            xy=(478, 5e2),\n",
    "            xytext=(400, 2000),\n",
    "            arrowprops=dict(arrowstyle=\"->\", color=\"black\"),\n",
    "            fontsize=12, color=\"black\")\n",
    "\n",
    "ax.annotate(\"Hrana zpětného rozptylu\",\n",
    "            xy=(185, 9e2),\n",
    "            xytext=(100, 2500),\n",
    "            arrowprops=dict(arrowstyle=\"->\", color=\"black\"),\n",
    "            fontsize=12, color=\"black\")\n",
    "\n",
    "ax.annotate(\"Hraniční E dvojného\\nComptonova rozp.\",\n",
    "            xy=(550, 120),\n",
    "            xytext=(400, 30),\n",
    "            arrowprops=dict(arrowstyle=\"->\", color=\"black\"),\n",
    "            fontsize=12, color=\"black\")\n",
    "\n",
    "ax.annotate(\"Pozadí 609 keV\",\n",
    "            xy=(609, 380),\n",
    "            xytext=(520, 5e3),\n",
    "            arrowprops=dict(arrowstyle=\"->\", color=\"black\"),\n",
    "            fontsize=12, color=\"black\")\n",
    "\n",
    "ax.annotate(\"RTG píky\",\n",
    "            xy=(75, 8e2),\n",
    "            xytext=(80, 1e2),\n",
    "            arrowprops=dict(arrowstyle=\"->\", color=\"black\"),\n",
    "            fontsize=12, color=\"black\")\n",
    "\n",
    "fig.canvas.draw_idle()  # gentle redraw for ipympl"
   ]
  },
  {
   "cell_type": "markdown",
   "metadata": {},
   "source": [
    "4) Vytvořme tabulku objektů pozorovaných ve spektru $^{137}\\mathrm{Cs}$, porovnejme jejich energie s tabelovanými/teoretickými."
   ]
  },
  {
   "cell_type": "code",
   "execution_count": null,
   "metadata": {},
   "outputs": [],
   "source": [
    "# Hardcode the data\n",
    "\n",
    "Cs_data = [\n",
    "    [\"FEP\", 661.657, 0.003, 661.64, np.sqrt(np.pow(StatUncE(1.63, 69072),2) + np.pow(0.05,2))],\n",
    "    [\"Comptonova hrana\", compton_edge(661.657), 0.003, 477., 3.],\n",
    "    [\"Hraniční E dvojného CR\", double_compton(661.657), 0.003, 558., 5.],\n",
    "    [\"Hrana zpětného rozptylu\", backscatter_edge(661.657), 0.003, 184., 2.],\n",
    "    [\"Pozadí Bi-214\", 609.321, 0.007, 609.31, np.sqrt(np.pow(StatUncE(1.46,721),2) + np.pow(0.05,2))],\n",
    "    [\"Pozadí K-40\", 1460.820, 0.005, 1460.72, np.sqrt(np.pow(StatUncE(1.84,346),2) + np.pow(0.05,2))]\n",
    "]\n",
    "\n",
    "# Create DataFrame\n",
    "Cs_df = pd.DataFrame(Cs_data, columns=[\"Object\", \"tab_E[keV]\", \"unc_tab_E[keV]\", \"exp_E[keV]\", \"unc_exp_E[keV]\"])\n",
    "\n",
    "# Print DataFrame out\n",
    "Cs_df.round(3)\n",
    "# or\n",
    "# print(Cs_df.round(3).to_string(index=False, col_space=10, header=[\"Objekt\", \"Tab./Teor. E (keV)\", \"Nej. Tab./Teor. E (keV)\", \"Měřená E (keV)\", \"Nej. měřené E (keV)\"]))\n"
   ]
  },
  {
   "cell_type": "markdown",
   "metadata": {},
   "source": [
    "5) Vizualizujme si výsledky."
   ]
  },
  {
   "cell_type": "code",
   "execution_count": null,
   "metadata": {},
   "outputs": [],
   "source": [
    "# construct the differences between tabulated and calibrated energies\n",
    "Cs_df[\"diff\"] = Cs_df[\"tab_E[keV]\"] - Cs_df[\"exp_E[keV]\"]\n",
    "Cs_df[\"diff_unc\"] = np.sqrt( np.pow(Cs_df[\"unc_tab_E[keV]\"],2) + np.pow(Cs_df[\"unc_exp_E[keV]\"],2) )\n",
    "\n",
    "plt.close('all')  # kill any stale canvases\n",
    "\n",
    "# Plot\n",
    "fig, (ax1, ax2) = plt.subplots(2, 1, sharex=True, figsize=(6,4),\n",
    "                               gridspec_kw={'height_ratios': [2,1]}, constrained_layout=True)\n",
    "\n",
    "# Horní panel – celý rozsah\n",
    "ax1.errorbar(Cs_df[\"tab_E[keV]\"], Cs_df[\"diff\"],\n",
    "             yerr=Cs_df[\"diff_unc\"], fmt=\"o\", capsize=4, label=\"$^{137}$Cs\")\n",
    "ax1.axhline(0, color=\"gray\", linestyle=\"--\")\n",
    "ax1.set_ylabel(\"(Tab./Teor. E - Měřená E) (keV)\")\n",
    "ax1.legend()\n",
    "ax1.grid(True, which=\"both\", linestyle=\":\", linewidth=0.7)\n",
    "\n",
    "# Dolní panel – zoom na ±0.1 keV kolem nuly (uprav dle potřeby)\n",
    "ax2.errorbar(Cs_df[\"tab_E[keV]\"], Cs_df[\"diff\"],\n",
    "             yerr=Cs_df[\"diff_unc\"], fmt=\"o\", capsize=4)\n",
    "ax2.axhline(0, color=\"gray\", linestyle=\"--\")\n",
    "ax2.set_xlabel(\"Tab./Teor. E (keV)\")\n",
    "ax2.set_ylabel(\"(Tab./Teor. E - Měřená E) (keV)\")\n",
    "ax2.set_ylim(-.2, .2)   # zoom kolem nuly\n",
    "ax2.grid(True, which=\"both\", linestyle=\":\", linewidth=0.7)\n",
    "\n",
    "fig.canvas.draw_idle()  # gentle redraw for ipympl"
   ]
  },
  {
   "cell_type": "markdown",
   "metadata": {},
   "source": [
    "$\\color{red}{\\textbf{Úkol:}}$ Změřte spektrum $\\gamma$-záření aktivované kuchyňské soli. Analyzujte jej.  \n",
    "Z aparaturního spektra určete:  \n",
    "i)   energii $\\gamma$-záření (FEP1, FEP2, ...),  \n",
    "ii)  polohy Comptonových hran k FEP1 a FEP2,  \n",
    "iii) polohy hran/píků zpětného rozptylu (pokud možno),  \n",
    "iv)  polohy viditelných únikových píků (SEP2, DEP2, ...),  \n",
    "v)   polohu anihilačního píku."
   ]
  },
  {
   "cell_type": "markdown",
   "metadata": {},
   "source": [
    "$\\color{red}{\\textbf{Řešení:}}$ \n",
    "Při ozařování kuchyňské soli dochází na stabilních izotopech sodíku a chlóru k radiačnímu záchytu neutronů. Vznikají izotopy s o jednotku vyšším nukleonovým číslem, které jsou nestabilní a přeměňují se $\\beta^-$ rozpadem na stabilní izotopy hořčíku, resp. argonu. Při těchto $\\beta^-$ přeměnách mohou dceřinná jádra vznikat ve vzbuzených stavech a deexcitovat se emisí $\\gamma$. Technicky vzato tedy námi pozorované píky přísluší např. $^{24}\\mathrm{Mg}$ a dle tohoto volíme zdroj tabelovaných energií [2].\n",
    "\n",
    "1) Načteme si spektrum soli a vykreslíme ho do grafu. Funkci již máme hotovou."
   ]
  },
  {
   "cell_type": "code",
   "execution_count": null,
   "metadata": {},
   "outputs": [],
   "source": [
    "import matplotlib.pyplot as plt\n",
    "energies, counts = read_spe_with_cal(\"example_NaCl.Spe\", False)\n",
    "\n",
    "plt.close('all')  # kill any stale canvases\n",
    "\n",
    "# create the plot\n",
    "fig, ax = plt.subplots(figsize=(7,5), constrained_layout=True)\n",
    "\n",
    "ax.step(energies, counts, where=\"mid\")\n",
    "\n",
    "ax.set_xlabel(\"Energie (keV)\" if np.any(energies != np.arange(len(energies))) else \"Kanál\")\n",
    "ax.set_ylabel(\"Četnost\")\n",
    "ax.set_yscale(\"log\")\n",
    "ax.grid(True, which=\"both\", linestyle=\":\", linewidth=0.7)\n",
    "\n",
    "ax.set_xlim(25, 2850)     # custom range for X axis\n",
    "ax.set_ylim(1e0, 2e3)     # custom range for Y axis\n",
    "\n",
    "fig.canvas.draw_idle()  # gentle redraw for ipympl"
   ]
  },
  {
   "cell_type": "markdown",
   "metadata": {},
   "source": [
    "2) Do spektra vyznačíme objekty i) - v)."
   ]
  },
  {
   "cell_type": "code",
   "execution_count": null,
   "metadata": {},
   "outputs": [],
   "source": [
    "import matplotlib.pyplot as plt\n",
    "energies, counts = read_spe_with_cal(\"example_NaCl.Spe\", False)\n",
    "\n",
    "plt.close('all')  # kill any stale canvases\n",
    "\n",
    "# create the plot\n",
    "fig, ax = plt.subplots(figsize=(7,5), constrained_layout=True)\n",
    "\n",
    "ax.step(energies, counts, where=\"mid\")\n",
    "\n",
    "ax.set_xlabel(\"Energie (keV)\" if np.any(energies != np.arange(len(energies))) else \"Kanál\")\n",
    "ax.set_ylabel(\"Četnost\")\n",
    "ax.set_yscale(\"log\")\n",
    "ax.grid(True, which=\"both\", linestyle=\":\", linewidth=0.7)\n",
    "\n",
    "ax.set_xlim(25, 2850)     # custom range for X axis\n",
    "ax.set_ylim(1e0, 2e3)     # custom range for Y axis\n",
    "\n",
    "ax.annotate(\"FEP2 2753 keV\",\n",
    "            xy=(2754, 5e2),\n",
    "            xytext=(22e2, 7e2),\n",
    "            arrowprops=dict(arrowstyle=\"->\", color=\"black\"),\n",
    "            fontsize=12, color=\"black\")\n",
    "\n",
    "ax.annotate(\"Comptonova hrana FEP2\",\n",
    "            xy=(2520, 25),\n",
    "            xytext=(19e2, 3e2),\n",
    "            arrowprops=dict(arrowstyle=\"->\", color=\"black\"),\n",
    "            fontsize=12, color=\"black\")\n",
    "\n",
    "ax.annotate(\"FEP1 1368 keV\",\n",
    "            xy=(1368, 14e2),\n",
    "            xytext=(7e2, 15e2),\n",
    "            arrowprops=dict(arrowstyle=\"->\", color=\"black\"),\n",
    "            fontsize=12, color=\"black\")\n",
    "\n",
    "ax.annotate(\"Anihilační pík\",\n",
    "            xy=(511, 2e2),\n",
    "            xytext=(3e2, 7e2),\n",
    "            arrowprops=dict(arrowstyle=\"->\", color=\"black\"),\n",
    "            fontsize=12, color=\"black\")\n",
    "\n",
    "fig.canvas.draw_idle()  # gentle redraw for ipympl"
   ]
  },
  {
   "cell_type": "markdown",
   "metadata": {},
   "source": [
    "3) Vytvoříme tabulku objektů pozorovaných ve spektru soli a porovnáme jejich energie s tabelovanými/teoretickými."
   ]
  },
  {
   "cell_type": "code",
   "execution_count": null,
   "metadata": {},
   "outputs": [],
   "source": [
    "# Hardcode the data\n",
    "\n",
    "sul_data = [\n",
    "    [\"FEP2\", 2754.008, 0.011, 2753.93, np.sqrt(np.pow(StatUncE(2.61, 3102),2) + np.pow(0.05,2))],\n",
    "    [\"Comptonova hrana FEP2\", compton_edge(2754.008), 0.011, 2520., 5.],\n",
    "    [\"SEP2\", SEP(2754.008), 0.011, 2242.93, np.sqrt(np.pow(StatUncE(2.97, 510),2) + np.pow(0.05,2))],\n",
    "    [\"DEP2\", DEP(2754.008), 0.011, 1731.95, np.sqrt(np.pow(StatUncE(2.50, 1371),2) + np.pow(0.05,2))],\n",
    "    [\"FEP1\", 1368.625, 0.005, 1368.56, np.sqrt(np.pow(StatUncE(2.02, 7245),2) + np.pow(0.05,2))],\n",
    "    [\"Anihilační pík\", 510.99895, 0.0, 510.98, np.sqrt(np.pow(StatUncE(2.35, 750),2) + np.pow(0.05,2))],\n",
    "    [\"DEP1\", DEP(1368.625), 0.005, 351.99, np.sqrt(np.pow(StatUncE(1.50, 158),2) + np.pow(0.05,2))],\n",
    "    [\"pozadí Pb-214 \", 351.9320, 0.0021, 351.99, np.sqrt(np.pow(StatUncE(1.50, 158),2) + np.pow(0.05,2))],\n",
    "]\n",
    "\n",
    "# Create DataFrame\n",
    "sul_df = pd.DataFrame(sul_data, columns=[\"Object\", \"tab_E[keV]\", \"unc_tab_E[keV]\", \"exp_E[keV]\", \"unc_exp_E[keV]\"])\n",
    "\n",
    "# Print DataFrame out\n",
    "print(sul_df.round(3).to_string(index=False, col_space=10, header=[\"Objekt\", \"Tab./Teor. E (keV)\", \"Nej. Tab./Teor. E (keV)\", \"Měřená E (keV)\", \"Nej. měřené E (keV)\"]))"
   ]
  },
  {
   "cell_type": "markdown",
   "metadata": {},
   "source": [
    "4) Vizualizujme si výsledky."
   ]
  },
  {
   "cell_type": "code",
   "execution_count": null,
   "metadata": {},
   "outputs": [],
   "source": [
    "# construct the differences between tabulated and calibrated energies\n",
    "sul_df[\"diff\"] = sul_df[\"tab_E[keV]\"] - sul_df[\"exp_E[keV]\"]\n",
    "sul_df[\"diff_unc\"] = np.sqrt( np.pow(sul_df[\"unc_tab_E[keV]\"],2) + np.pow(sul_df[\"unc_exp_E[keV]\"],2) )\n",
    "\n",
    "plt.close('all')  # kill any stale canvases\n",
    "\n",
    "# Plot\n",
    "fig, ax = plt.subplots(figsize=(6,3), constrained_layout=True)\n",
    "\n",
    "ax.errorbar(sul_df[\"tab_E[keV]\"], sul_df[\"diff\"],\n",
    "            yerr=sul_df[\"diff_unc\"], fmt=\"o\", capsize=4, label=\"NaCl\")\n",
    "\n",
    "ax.axhline(0, color=\"gray\", linestyle=\"--\")\n",
    "\n",
    "ax.set_xlabel(\"Tab./Teor. energie (keV)\")\n",
    "ax.set_ylabel(\"(Tab./Teor. - Měřená) energie (keV)\")\n",
    "\n",
    "ax.legend()\n",
    "ax.grid(True, which=\"both\", linestyle=\":\", linewidth=0.7)\n",
    "\n",
    "ax.set_ylim(-6, 0.5)\n",
    "\n",
    "fig.canvas.draw_idle()  # gentle redraw for ipympl\n"
   ]
  },
  {
   "cell_type": "markdown",
   "metadata": {},
   "source": [
    "$\\color{red}{\\textbf{Úkol:}}$ Vysvětlete mechanizmy vzniku pozorovaných objektů v aparaturních spektrech.  "
   ]
  },
  {
   "cell_type": "markdown",
   "metadata": {},
   "source": [
    "$\\color{red}{\\textbf{Řešení:}}$ \n",
    "Je možné/žádoucí, že tohle je dostatečně popsáno v Úvodu."
   ]
  },
  {
   "cell_type": "markdown",
   "metadata": {},
   "source": [
    "$\\color{red}{\\textbf{Úkol:}}$ Proveďte fit závislosti šířky píku na jejich energii."
   ]
  },
  {
   "cell_type": "markdown",
   "metadata": {},
   "source": [
    "$\\color{red}{\\textbf{Řešení:}}$  \n",
    "1) Napišme si funkci pro čtení .Rpt souborů."
   ]
  },
  {
   "cell_type": "code",
   "execution_count": null,
   "metadata": {},
   "outputs": [],
   "source": [
    "import pandas as pd\n",
    "\n",
    "def read_roi_report(path):\n",
    "    \"\"\"\n",
    "    Načte textový report ROI (viz příklad v zadání) a vrátí DataFrame\n",
    "    se sloupci:\n",
    "        ROI, E_centroid_keV, FWHM_keV, NET_counts, u_NET_counts,\n",
    "        range_lo_keV, range_hi_keV\n",
    "    \"\"\"\n",
    "    rows = []\n",
    "    in_roi = False\n",
    "\n",
    "    with open(path, \"r\", encoding=\"latin-1\", errors=\"ignore\") as f:\n",
    "        for line in f:\n",
    "            s = line.strip()\n",
    "            if not s:\n",
    "                continue\n",
    "\n",
    "            # začátek tabulky s ROI\n",
    "            if s.startswith(\"ROI#\"):\n",
    "                in_roi = True\n",
    "                continue\n",
    "\n",
    "            if not in_roi:\n",
    "                continue\n",
    "\n",
    "            # typická ROI řádka začíná číslem a má aspoň ~9–10 tokenů\n",
    "            parts = s.split()\n",
    "            if not parts or not parts[0].isdigit():\n",
    "                continue\n",
    "            if len(parts) < 9:\n",
    "                continue\n",
    "\n",
    "            try:\n",
    "                roi_idx         = int(parts[0])\n",
    "                range_lo_keV    = float(parts[1])\n",
    "                range_hi_keV    = float(parts[2])\n",
    "                gross_counts    = int(parts[3])              # (nepotřebujeme, ale může se hodit)\n",
    "                net_counts      = int(parts[4])              # NET\n",
    "                u_net_counts    = int(parts[5])              # sloupec \"+/-\"\n",
    "                centroid_keV    = float(parts[6])            # energie (centroid)\n",
    "                fwhm_keV        = float(parts[7])            # FWHM\n",
    "                # parts[8] je FW(1/5)M – ignorujeme\n",
    "            except ValueError:\n",
    "                # řádka nesedí formátu – přeskoč\n",
    "                continue\n",
    "\n",
    "            rows.append({\n",
    "                \"ROI\": roi_idx,\n",
    "                \"E_keV\": centroid_keV,\n",
    "                \"FWHM_keV\": fwhm_keV,\n",
    "                \"NET_counts\": net_counts,\n",
    "                \"u_NET_counts\": u_net_counts,\n",
    "                \"range_lo_keV\": range_lo_keV,\n",
    "                \"range_hi_keV\": range_hi_keV,\n",
    "            })\n",
    "\n",
    "    if not rows:\n",
    "        raise ValueError(\"V souboru se nenašly žádné ROI řádky.\")\n",
    "\n",
    "    df = pd.DataFrame(rows).sort_values(\"ROI\").reset_index(drop=True)\n",
    "    return df\n"
   ]
  },
  {
   "cell_type": "markdown",
   "metadata": {},
   "source": [
    "2) Načtěme naše .Rpt soubory. Jednotlivé DataFrame spojme do jednoho."
   ]
  },
  {
   "cell_type": "code",
   "execution_count": null,
   "metadata": {},
   "outputs": [],
   "source": [
    "# read the .Rpt files using the above function\n",
    "# peaks_Ra = read_roi_report(\"Ra.Rpt\")\n",
    "peaks_Cs = read_roi_report(\"example_Cs.Rpt\")\n",
    "peaks_Na = read_roi_report(\"example_NaCl.Rpt\")\n",
    "\n",
    "# debug line to print out the result of reading\n",
    "# print(peaks_Cs.to_string(index=False))\n",
    "\n",
    "# unite the peak data\n",
    "df_peaks = pd.concat([peaks_Cs, peaks_Na], ignore_index=True)\n",
    "\n",
    "# create uncertainties\n",
    "df_peaks[\"unc_FWHM_keV\"] = df_peaks[\"FWHM_keV\"] / np.sqrt(2*df_peaks[\"NET_counts\"])\n",
    "\n",
    "print(df_peaks.to_string(index=False))\n"
   ]
  },
  {
   "cell_type": "markdown",
   "metadata": {},
   "source": [
    "3) Nakreslíme závislost FWHM na energii a nafitujeme."
   ]
  },
  {
   "cell_type": "code",
   "execution_count": null,
   "metadata": {},
   "outputs": [],
   "source": [
    "import matplotlib.pyplot as plt\n",
    "\n",
    "def plot_with_fit(\n",
    "    x, y, y_err,\n",
    "    x_fit, y_fit, y_fit_lower, y_fit_upper,\n",
    "    xlabel=\"\", ylabel=\"\",\n",
    "    data_label=\"Data\",\n",
    "    fit_label=\"Fit\",\n",
    "    band_label=\"Fit uncertainty\",\n",
    "    data_color=\"black\",\n",
    "    fit_color=\"C3\",\n",
    "    ax=None,\n",
    "    grid=True,\n",
    "    show=True,\n",
    "):\n",
    "    \"\"\"\n",
    "    Vykreslí data s chybami + fit křivku + interval nejistoty (band).\n",
    "    Vrací (fig, ax). Pokud ax není zadán, vytvoří nové fig/ax.\n",
    "\n",
    "    Parametry:\n",
    "      x, y, y_err ........... data a jejich nejistoty (stejné délky)\n",
    "      x_fit, y_fit .......... vzorkování fitu\n",
    "      y_fit_lower, y_fit_upper interval nejistoty pro fit\n",
    "      xlabel, ylabel ........ popisky os\n",
    "      *_label, *_color ...... popisky a barvy\n",
    "      ax .................... existující axes (nepovinné)\n",
    "      grid, show ............ zapnout mřížku a rovnou zobrazit\n",
    "    \"\"\"\n",
    "    created_fig = False\n",
    "    if ax is None:\n",
    "        fig, ax = plt.subplots(figsize=(7,4), constrained_layout=True)\n",
    "        created_fig = True\n",
    "    else:\n",
    "        fig = ax.figure\n",
    "\n",
    "    # data\n",
    "    ax.errorbar(x, y, yerr=y_err, fmt=\"o\", capsize=4,\n",
    "                label=data_label, color=data_color)\n",
    "\n",
    "    # band + fit křivka\n",
    "    band = ax.fill_between(x_fit, y_fit_lower, y_fit_upper,\n",
    "                           color=fit_color, alpha=0.3, label=band_label)\n",
    "    line, = ax.plot(x_fit, y_fit, \"-\", color=fit_color, lw=2, label=fit_label)\n",
    "\n",
    "    # popisky, mřížka, legenda\n",
    "    ax.set_xlabel(xlabel)\n",
    "    ax.set_ylabel(ylabel)\n",
    "    if grid:\n",
    "        ax.grid(True, which=\"both\", linestyle=\":\", linewidth=0.7)\n",
    "\n",
    "    # posbírat a vypsat legendu (žádné hacky s tuple)\n",
    "    handles, labels = ax.get_legend_handles_labels()\n",
    "    ax.legend(handles, labels)\n",
    "\n",
    "    if show and created_fig:\n",
    "        fig.show()\n",
    "\n",
    "    return fig, ax\n"
   ]
  },
  {
   "cell_type": "code",
   "execution_count": null,
   "metadata": {},
   "outputs": [],
   "source": [
    "# Fitujme FWHM v závislosti na energii pomocí funkce: $FWHM(E) = \\sqrt{a + b*E + c*E^2}$.\n",
    "# Určíme parametry $a$, $b$ a $c$ a jejich nejistoty.\n",
    "# Vykreslíme datové body a fitovanou funkci do stejného grafu.\n",
    "# Při výpočtu nejistoty fitované funkce nezapomeňme zohlednit korelaci mezi fitovanými parametry!\n",
    "\n",
    "from scipy.optimize import curve_fit\n",
    "import uncertainties\n",
    "import uncertainties.unumpy\n",
    "import numpy as np\n",
    "\n",
    "# Definujme mocninnou funkci.\n",
    "def FWHM_law(E, a, b, c):\n",
    "    return ((a + b*E + c*E**2)**0.5)\n",
    "\n",
    "# Unless specified otherwise, fit will start from values 1 for all parameters.\n",
    "# We know from Theory that some of our parameters are very different, so we better initialize them:\n",
    "p0=[0.5, 1e-3, 1e-8]\n",
    "# We need to omit some peaks from the fit - anihilation, SEP, ...\n",
    "mask_drop = df_peaks[\"E_keV\"].round().isin([186, 239, 352, 511, 2203, 2243])\n",
    "df_fit = df_peaks.loc[~mask_drop].copy()\n",
    "print(df_fit.to_string(index=False))\n",
    "# Nafitujme mocninnou funkci na naše data.\n",
    "nom, cov = curve_fit(FWHM_law, df_fit['E_keV'], df_fit['FWHM_keV'], sigma=df_fit['unc_FWHM_keV'], absolute_sigma=True, p0=p0, bounds=(0, np.inf))\n",
    "\n",
    "# Vypočítejme nejistoty fitovaných parametrů. Výsledky fitu vypišme.\n",
    "a, b, c = uncertainties.correlated_values(nom, cov)\n",
    "print(f'a = {a:.2uP} -> sqrt(a) = {a**0.5:.2uP}')\n",
    "print(f'b = {b:.4uP}')\n",
    "print(f'c = {c:.4uP}')\n",
    "print(f'correlation submatrix:')\n",
    "print(f'{cov[0, 1] / np.sqrt(cov[0, 0] * cov[1, 1]):.3f} {cov[0, 2] / np.sqrt(cov[0, 0] * cov[2, 2]):.3f}')\n",
    "print(f'      {cov[1, 2] / np.sqrt(cov[1, 1] * cov[2, 2]):.3f}')\n",
    "\n",
    "# Vypočítejme fitovanou funkci na celočíselných hodnotách Z.\n",
    "E_fit = np.linspace(df_peaks['E_keV'].min(), df_peaks['E_keV'].max(), 100)\n",
    "FWHM_fit = FWHM_law(E_fit, a, b, c)\n",
    "FWHM_fit_nom = uncertainties.unumpy.nominal_values(FWHM_fit)\n",
    "FWHM_fit_std = uncertainties.unumpy.std_devs(FWHM_fit)\n",
    "\n",
    "# Vykreslíme data a výslednou fitovanou funkci\n",
    "plt.close('all')  # kill any stale canvases\n",
    "\n",
    "fig, ax = plt.subplots(figsize=(6,4), constrained_layout=True)\n",
    "# fig, ax = plot_with_fit(x=df_peaks['E_keV'], y=df_peaks['FWHM_keV'], y_err=df_peaks['unc_FWHM_keV'],x_fit=E_fit, y_fit=FWHM_fit_nom, y_fit_lower=(FWHM_fit_nom - FWHM_fit_std), y_fit_upper=(FWHM_fit_nom + FWHM_fit_std), xlabel=r\"$E\\ \\mathrm{(keV)}$\", ylabel=r\"$\\mathrm{FWHM\\ (keV)}$\", data_label=\"\", fit_label=\"\", band_label=\"\", ax=ax)\n",
    "fig, ax = plot_with_fit(x=df_fit['E_keV'], y=df_fit['FWHM_keV'], y_err=df_fit['unc_FWHM_keV'],x_fit=E_fit, y_fit=FWHM_fit_nom, y_fit_lower=(FWHM_fit_nom - FWHM_fit_std), y_fit_upper=(FWHM_fit_nom + FWHM_fit_std), xlabel=r\"$E\\ \\mathrm{(keV)}$\", ylabel=r\"$\\mathrm{FWHM\\ (keV)}$\", data_label=\"\", fit_label=\"\", band_label=\"\", ax=ax)\n"
   ]
  },
  {
   "cell_type": "markdown",
   "metadata": {},
   "source": [
    "$\\color{red}{\\textbf{Úkol:}}$ Diskutuj měření a výsledky."
   ]
  },
  {
   "cell_type": "markdown",
   "metadata": {},
   "source": [
    "$\\color{red}{\\textbf{Řešení:}}$\n",
    "# Diskuse\n",
    "\n",
    "-> diskutujte zde <-"
   ]
  },
  {
   "cell_type": "markdown",
   "metadata": {},
   "source": [
    "$\\color{red}{\\textbf{Úkol:}}$ Sepište Závěr."
   ]
  },
  {
   "cell_type": "markdown",
   "metadata": {},
   "source": [
    "$\\color{red}{\\textbf{Řešení:}}$\n",
    "# Závěr\n",
    "\n",
    "-> závěrujte zde <-"
   ]
  },
  {
   "cell_type": "markdown",
   "metadata": {},
   "source": [
    "# Literatura\n",
    "\n",
    "[1] S. Zhu and E. A. McCutchan, Nuclear Data Sheets for A=214, Nucl. Data Sheets 175 (2021) 1–149. DOI: 10.1016/j.nds.2021.06.001 , dostupné na https://www.nndc.bnl.gov/ensdf/ .  \n",
    "[2] M. S. Basunia and A. Chakraborty, Nuclear Data Sheets for A = 24, Nucl. Data Sheets 186 (2022) 3–262. DOI: 10.1016/j.nds.2022.11.002, dostupné na https://www.nndc.bnl.gov/ensdf/ ."
   ]
  },
  {
   "cell_type": "code",
   "execution_count": null,
   "metadata": {},
   "outputs": [],
   "source": []
  }
 ],
 "metadata": {
  "kernelspec": {
   "display_name": "praktikum",
   "language": "python",
   "name": "praktikum"
  },
  "language_info": {
   "codemirror_mode": {
    "name": "ipython",
    "version": 3
   },
   "file_extension": ".py",
   "mimetype": "text/x-python",
   "name": "python",
   "nbconvert_exporter": "python",
   "pygments_lexer": "ipython3",
   "version": "3.9.21"
  }
 },
 "nbformat": 4,
 "nbformat_minor": 4
}
