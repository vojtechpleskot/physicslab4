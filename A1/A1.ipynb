{
 "cells": [
  {
   "cell_type": "code",
   "execution_count": null,
   "id": "7ce6606c",
   "metadata": {},
   "outputs": [],
   "source": [
    "# TODO: Replace the string \"Your Name\" with your actual name and \"DD.MM.YYYY\" with the actual measurement date.\n",
    "\n",
    "from header import header\n",
    "header(student = \"Your Name\", date = \"DD.MM.YYYY\", task_no = 1)"
   ]
  },
  {
   "cell_type": "markdown",
   "id": "132234fa",
   "metadata": {},
   "source": [
    "# Fyzika částic na LHC\n",
    "\n",
    "Standardní model (SM) je naše nejúspěšnější teorie popisující základní stavební kameny vesmíru a jejich vzájemné působení. Základními částicemi jsou kvarky a leptony. Na tyto částice působí čtyři fundamentální síly: elektromagnetická, silná, slabá a gravitační. Kromě gravitace jsou tyto síly zprostředkovány výměnou intermediálních bosonů. Gravitaci SM nepopisuje.\n",
    "\n",
    "## Bosony Z a Higgs\n",
    "\n",
    "Z boson je neutrální částice, která spolu s nabitými bosony $W^{\\pm}$ zprostředkovává slabou sílu. Z boson se produkuje ve velkém množství při vysokoenergetických srážkách protonů ve Velkém hadronovém urychlovači (LHC). Má hmotnost 91 GeV$\\cdot c^{-2}$ a velmi krátkou dobu života. Téměř okamžitě se rozpadá na lehčí částice. Tyto lehčí produkty rozpadu, jako jsou páry nabitých leptonů (například elektrony a miony), jsou to, co vědci skutečně detekují.\n",
    "\n",
    "Higgsův boson je poslední objevenou částicí Standardního modelu. Jeho objev byl ohlášen v roce 2012 experimenty ATLAS a CMS v CERNu. Má hmotnost 125 GeV$\\cdot c^{-2}$ a stejně jako Z boson je vysoce nestabilní, rychle se rozpadá. Higgsův boson nikdy není pozorován přímo. Místo toho jsou detekovány produkty jeho rozpadu.\n",
    "\n",
    "## Hledání nové fyziky\n",
    "\n",
    "Vysokoenergetické srážky protonů na LHC otevírají možnost objevit nové částice za hranicemi Standardního modelu. Jednou z teoretických předpovědí je existence těžší verze Z bosonu, nazývané boson Z'. Očekává se, že jeho vlastnosti by byly podobné vlastnostem Z bosonu, jen by měl vyšší hmotnost.\n",
    "\n",
    "## Pozadí a signál\n",
    "\n",
    "Při srážkách vysokoenergetických protonů se produkuje mnoho různých částic. Pojmem \"signál\" označujeme částice, na které se v dané analýze zaměřujeme (např. bosony Z nebo Higgsův boson), zatímco do pojmu \"pozadí\" zahrnujeme všechny ostatní procesy, které mají podobný konečný stav a je obtížné je odlišit od signálu. Pro separaci signálu a pozadí fyzici používají specifická kritéria, jako je měření celkového náboje produktů rozpadu. Některé procesy pozadí jsou \"neredukovatelné\", což znamená, že nemohou být odstraněny a musí být zahrnuty do statistické analýzy.\n"
   ]
  },
  {
   "cell_type": "markdown",
   "id": "56cf6b36-049b-405a-9b5a-5296399826de",
   "metadata": {},
   "source": [
    "# Analýza událostí ATLAS pomocí programu Hypatia\n",
    "\n",
    "Experiment ATLAS v CERNu používá velký detektor k registraci částic vzniklých při srážkách protonů. Měří vlastnosti těchto částic - jejich typ, náboj, hybnost a energii. K vizualizaci těchto událostí používáme program nazvaný Hypatia. Hledáme události, které obsahují produkty rozpadu Higgsova nebo Z bosonu.\n",
    "Dané bosony se sice mohou rozpadat na různé částice, ale u Z v této úloze hledáme pouze rozpady na páry nabitých leptonů (elektrony, nebo miony) a u Higgsova bosonu rozpady na pár fotonů. Ještě také hledáme rozpady Higgsova bosonu na čtyři leptony. Tyto kanály rozpadu se snadněji identifikují než jiné a mají nižší pozadí.\n",
    "\n",
    "## Uspořádání detektoru ATLAS\n",
    "\n",
    "Detektor ATLAS je přístroj navržený k zachycení široké škály částic. Sestává z několika navzájem se doplňujících vrstev. Jeho hlavní části jsou:\n",
    "\n",
    "1. **Vnitřní detektor**: Zde jsou detekovány dráhy nabitých částic. Skládá se z křemíkových pixelových a stripových detektorů a z detektoru na identifikaci vysokoenergetických elektronů založeném na přechodovém záření.\n",
    "\n",
    "2. **Kalorimetry**: Používají se k měření energie částic. Elektromagnetický kalorimetr je navržen k absorpci fotonů a elektronů, zatímco hadronový kalorimetr (spolu s elektromagnetickým kalorimetrem) absorbuje hadrony.\n",
    "\n",
    "3. **Mionový systém**: Detekuje miony. Miony interagují s hmotou málo, jejich energetické ztráty jsou v podstatě jen ionizační. To jim umožňuje proniknout vnitřním detektorem a kalorimetry. Mionový systém se nachází vně kalorimetrů a skládá se z několika vrstev detektorů.\n",
    "\n",
    "4. **Magnety**: Velký supravodivý solenoidní magnet obklopuje vnitřní detektor a vytváří magnetické pole, které ohýbá dráhy nabitých částic. To umožňuje měření jejich hybnosti. Další obrovský magnetický systém, skládající se z toroidních magnetů, obklopuje kalorimetry a mionový systém a ohýbá dráhy mionů.\n",
    "\n",
    "\n",
    "## Identifikace částic\n",
    "\n",
    "V experimentu ATLAS vědci identifikují částice pozorováním jejich interakce s různými vrstvami detektoru. Každá částice zanechává jedinečný \"podpis\", který nám pomáhá určit její vlastnosti.\n",
    "Následující obrázek ilustruje, jak různé částice interagují s různými částmi detektoru ATLAS:\n",
    "\n",
    "![Podpisy částic v detektoru ATLAS](particle_identification.png)\n",
    "\n"
   ]
  },
  {
   "cell_type": "markdown",
   "id": "2c6ee7a8",
   "metadata": {},
   "source": [
    "### Elektrony a pozitrony\n",
    "\n",
    "Tyto nabité částice zanechávají stopu ve vnitřním detektoru a deponují veškerou svou energii v elektromagnetickém kalorimetru. Do ostatních vrstev neprojdou, a proto v nich nevzbuzují žádný signál. Mezi elektronem a pozitronem rozlišujeme podle jejich opačného náboje, který způsobuje, že jejich dráhy v magnetickém poli detektoru zahýbají do opačných směrů.\n",
    "\n",
    "$\\color{red}{\\textbf{Úkol:}}$ Identifikujte páry elektron-pozitron v poskytnutých událostech z detektoru ATLAS zachycujících jednotlivé srážky protonů. Hledejte stopy ve vnitřním detektoru, které míří do shluku energie v elektromagnetickém kalorimetru. Níže vložte jeden obrázek s identifikovaným párem elektron-pozitron:\n"
   ]
  },
  {
   "attachments": {},
   "cell_type": "markdown",
   "id": "7e195b75",
   "metadata": {},
   "source": [
    "$\\color{red}{\\textbf{Řešení:}}$\n",
    "\n",
    "<!-- Insert the image by dragging it here from your computer into this cell.\n",
    "You can also upload it to the notebook folder and use the following syntax: \n",
    "![Electron-positron pair](electron_positron_example.png) -->\n",
    "\n",
    "![Pár elektron-pozitron](electron_positron_example.png)"
   ]
  },
  {
   "cell_type": "markdown",
   "id": "f738d78b",
   "metadata": {},
   "source": [
    "### Miony\n",
    "\n",
    "Miony jsou také nabité částice, a tedy také zanechávají stopu ve vnitřním detektoru. Jsou však mnohem těžší než elektrony, takže ztrácejí pouze malé množství energie v kalorimetrech, a jsou to jediné nabíté částice, které doletí až do mionových komor.\n",
    "\n",
    "$\\color{red}{\\textbf{Úkol:}}$ Identifikujte páry mion-antimion v poskytnutých událostech zachycujících jednotlivé srážky protonů. Hledejte stopy ve vnitřním detektoru, které pokračují skrz kalorimetry a zasáhnou mionové detektory. Níže vložte jeden obrázek s identifikovaným párem mion-antimion:\n"
   ]
  },
  {
   "cell_type": "markdown",
   "id": "d6672c7d",
   "metadata": {},
   "source": [
    "$\\color{red}{\\textbf{Řešení:}}$\n",
    "\n",
    "<!-- Insert the image by dragging it here from your computer into this cell.\n",
    "You can also upload it to the notebook folder and use the following syntax: \n",
    "![muon-antimuon pair](muon_antimuon_example.png) -->\n",
    "\n",
    "![Pár mion-antimion](muon_antimuon_example.png)"
   ]
  },
  {
   "cell_type": "markdown",
   "id": "6cf2e750",
   "metadata": {},
   "source": [
    "### Fotony\n",
    "\n",
    "Jakožto neutrální částice nezanechávají fotony stopu ve vnitřním detektoru. Identifikovány jsou podle energie, kterou deponují v elektromagnetickém kalorimetru.\n",
    "\n",
    "$\\color{red}{\\textbf{Úkol:}}$ Identifikujte páry fotonů v poskytnutých obrázcích zachycujících jednotlivé srážky protonů. Hledejte shluky energie v elektromagnetickém kalorimetru bez odpovídajících stop ve vnitřním detektoru. Níže vložte jeden obrázek s identifikovaným párem fotonů:\n"
   ]
  },
  {
   "cell_type": "markdown",
   "id": "73a610b0",
   "metadata": {},
   "source": [
    "$\\color{red}{\\textbf{Řešení:}}$\n",
    "\n",
    "<!-- Insert the image by dragging it here from your computer into this cell.\n",
    "You can also upload it to the notebook folder and use the following syntax: \n",
    "![Photon pair](photon_pair_example.png) -->\n",
    "\n",
    "![Pár fotonů](photon_pair_example.png)\n"
   ]
  },
  {
   "cell_type": "markdown",
   "id": "bdb901a1",
   "metadata": {},
   "source": [
    "## Lov bosonů Z a Higgsova bosonu\n",
    "\n",
    "Protože bosony Z i Higgs žijí příliš krátkou dobu na to, aby byly detekovány přímo, fyzici analyzují produkty jejich rozpadů.\n",
    "Energie a hybnost produktů rozpadu se používají k rekonstrukci hmotnosti původní \"mateřské\" částice pomocí Einsteinova slavného vztahu $E=mc^2$ a zákonů zachování energie a hybnosti.\n",
    "Vynesením rekonstruované hmotnosti z mnoha událostí do histogramu se může objevit pík na jedinečné hmotnosti mateřské částice, což vědcům umožňuje ji identifikovat.\n",
    "Tato metoda pomáhá potvrdit existenci známých částic a hledat nové, hypotetické částice.\n",
    "Pokud se mateřská částice rozpadne na dvě dceřiné částice, pak lze její hmotnost určit pomocí vzorce:\n",
    "\n",
    "$m_0 c^2 = \\sqrt{(E_1 + E_2)^2 - |\\vec{p}_1 + \\vec{p}_2|^2 c^2}$,\n",
    "\n",
    "kde $m_0$ je klidová hmotnost mateřské částice, $E_1$ a $E_2$ jsou energie dceřiných částic a $\\vec{p}_1$ a $\\vec{p}_2$ jsou vektory jejich hybností.\n",
    "Veličina $m_0$ se často označuje jako invariantní hmotnost, když je vyhodnocována pomocí systému dceřiných částic.\n"
   ]
  },
  {
   "cell_type": "markdown",
   "id": "04e3f242",
   "metadata": {},
   "source": [
    "$\\color{red}{\\textbf{Úkol:}}$ Zpracujte přibližně 50 událostí a identifikujte ty, které obsahují:\n",
    "- páry elektronů, nebo mionů (potenciální rozpady Z bosonu)\n",
    "- páry fotonů (potenciální rozpady Higgsova bosonu)\n",
    "- $4e$, $4\\mu$ nebo $2e2\\mu$ (potenciální rozpady Higgsova bosonu)\n",
    "\n",
    "Zobrazte histogramy invariantní hmotnosti pro různé koncové stavy pomocí frameworku ROOT."
   ]
  },
  {
   "cell_type": "markdown",
   "id": "9af0dc0b",
   "metadata": {},
   "source": [
    "$\\color{red}{\\textbf{Řešení:}}$\n",
    "\n",
    "\n",
    "<!-- Insert the image by dragging it here from your computer into this cell.\n",
    "You can also upload it to the notebook folder and use the following syntax: \n",
    "![Analyzovaná data](analyzed_data.png) -->\n",
    "\n",
    "![Analyzovaná data](analyzed_data.png)\n"
   ]
  },
  {
   "cell_type": "markdown",
   "id": "f9ecadee",
   "metadata": {},
   "source": [
    "$\\color{red}{\\textbf{Úkol:}}$ Zobrazte stejné histogramy jako výše, ale použijte data zanalyzovaná všemi studenty dohromady."
   ]
  },
  {
   "cell_type": "markdown",
   "id": "bf0e83d2",
   "metadata": {},
   "source": [
    "$\\color{red}{\\textbf{Řešení:}}$\n",
    "\n",
    "<!-- Insert the image by dragging it here from your computer into this cell.\n",
    "You can also upload it to the notebook folder and use the following syntax: \n",
    "![Data všech studentů](all_students_data.png) -->\n",
    "\n",
    "![Data všech studentů](all_students_data.png)\n"
   ]
  },
  {
   "cell_type": "markdown",
   "id": "fea8ad73",
   "metadata": {},
   "source": [
    "$\\color{red}{\\textbf{Úkol:}}$ \n",
    "- Popište, co ukazují histogramy výše.\n",
    "- Diskutujte pozorované píky.\n",
    "- Identifikujte Z boson a odhadněte jeho hmotnost a šířku pomocí gaussovského fitu.\n",
    "- Vidíte píky odpovídající některým dalším částicím?\n",
    "- Pokud ano, jaké jsou to částice a jaké jsou jejich hmotnosti a šířky?\n",
    "- Je Higgsův pík viditelný v některém z histogramů?\n",
    "- Pokud v některém z nich není viditelný, vysvětlete proč.\n"
   ]
  },
  {
   "cell_type": "markdown",
   "id": "d06969be",
   "metadata": {},
   "source": [
    "$\\color{red}{\\textbf{Řešení:}}$"
   ]
  },
  {
   "cell_type": "markdown",
   "id": "19231312",
   "metadata": {},
   "source": [
    "## Analýza Z píku\n",
    "\n",
    "Invariantní hmotnost, kterou měříme, není ve všech událostech identická, ale pohybuje se kolem určité centrální hodnoty.\n",
    "Šířka píku je ovlivněna faktory jako doba života dané částice a rozlišení detektoru.\n",
    "Čím více dat máme, tím je počet událostí v píku vyšší a hmotnost částice můžeme určit s větší jistotou.\n",
    "K hrubému určení hmotnosti můžeme fitovat normální rozdělení (gaussovu křivku) na data v pozorovaném píku (normální rozdělení je velmi zjednodušeným modelem - skutečná křivka fitovaná v reálných experimentech je mnohem složitější).\n",
    "Gaussova křivka je parametrizovaná dvěma parametry: střední hodnotou, $\\mu$, a šířkou, $\\sigma$.\n",
    "Fit nám dává odhady obou parametrů, $\\hat{\\mu}$ a $\\hat{\\sigma}$.\n",
    "Jelikož jsou to odhady založené na konečném počtu událostí, jsou zatížené statistickou neurčitostí.\n",
    "Neurčitosti obou paramatrů můžou být také odhadnuty; klesají s druhou odmocninou počtu událostí:\n",
    "\n",
    "$\\hat{\\sigma}_{\\hat{\\mu}} \\propto \\frac{1}{\\sqrt{N}}$,\n",
    "\n",
    "$\\hat{\\sigma}_{\\hat{\\sigma}} \\propto \\frac{1}{\\sqrt{2N}}$,\n",
    "\n",
    "kde $\\hat{\\sigma}_{\\hat{\\mu}}$ a $\\hat{\\sigma}_{\\hat{\\sigma}}$ jsou neurčitosti hodnot $\\hat{\\mu}$ a $\\hat{\\sigma}$, a $N$ je počet událostí v píku."
   ]
  },
  {
   "cell_type": "markdown",
   "id": "9a38cd22",
   "metadata": {},
   "source": [
    "$\\color{red}{\\textbf{Úkol:}}$ Odhadněte hmotnost Z bosonu $m$ a šířku $\\Gamma$ z histogramu párů leptonů. Použijte gaussovský fit a předpoklady $\\hat{m} = \\hat{\\mu}$, $\\hat{\\Gamma} = \\hat{\\sigma}$. Proveďte to šestkrát a použijte vzorky rostoucí velikosti (např. 50, 100, 200, 500, 1000 a všechny dostupné události). Pro každý vzorek uveďte odhadované hodnoty $\\hat{m}$ a $\\hat{\\Gamma}$ spolu s jejich neurčitostmi. Vyneste odhadované hodnoty $\\hat{m}$ a $\\hat{\\Gamma}$ jako funkce počtu událostí použitých ve fitu. Vyneste odhadované neurčitosti jako funkci počtu událostí.\n"
   ]
  },
  {
   "cell_type": "markdown",
   "id": "6b93de85",
   "metadata": {},
   "source": [
    "$\\color{red}{\\textbf{Řešení:}}$\n",
    "\n",
    "<!-- Insert the image by dragging it here from your computer into this cell.\n",
    "You can also upload it to the notebook folder and use the following syntax: \n",
    "![Z pík](z_peak.png) -->\n",
    "\n",
    "![Z pík](z_peak.png)\n"
   ]
  },
  {
   "cell_type": "markdown",
   "id": "a9cd7d4e",
   "metadata": {},
   "source": [
    "$\\color{red}{\\textbf{Úkol:}}$ Vytvořte pandas DataFrame pro uložení vašich měření hmotnosti a šířky Z bosonu spolu s jejich neurčitostmi."
   ]
  },
  {
   "cell_type": "code",
   "execution_count": null,
   "id": "32059ae8",
   "metadata": {},
   "outputs": [],
   "source": [
    "# Solution.\n",
    "\n",
    "# TODO: Insert your data to the DataFrame below.\n",
    "\n",
    "import pandas as pd\n",
    "\n",
    "data = pd.DataFrame({\n",
    "    'N_events': [50, 100, 200, 500, 1000, 3125],\n",
    "    'mass [GeV]': [90.34, 89.79, 90.61, 90.50, 90.13, 90.21],\n",
    "    'mass unc. [GeV]': [0.90, 0.47, 0.31, 0.21, 0.13, 0.080],\n",
    "    'width [GeV]': [3.83, 3.39, 3.37, 3.55, 3.21, 3.56],\n",
    "    'width unc. [GeV]': [1.57, 0.63, 0.38, 0.24, 0.13, 0.084]\n",
    "})\n",
    "\n",
    "# Display the DataFrame, skipping the index.\n",
    "print(data.to_string(index=False))\n",
    "\n"
   ]
  },
  {
   "cell_type": "markdown",
   "id": "b690976e",
   "metadata": {},
   "source": [
    "$\\color{red}{\\textbf{Úkol:}}$\n",
    "- Fitujte hmotnost vs. počet událostí konstantní funkcí.\n",
    "- Fitujte šířku vs. počet událostí konstantní funkcí.\n",
    "- Fitujte nejistotu hmotnosti vs. počet událostí funkcí $k \\times \\hat{\\Gamma}_\\mathrm{N max} / \\sqrt{N}$.\n",
    "- Fitujte nejistotu šířky vs. počet událostí funkcí $k \\times \\hat{\\Gamma}_\\mathrm{N max} / \\sqrt{2N}$.\n",
    "\n",
    "$\\hat{\\Gamma}_\\mathrm{N max}$ je šířka Z píku odhadnutá pomocí všech dostupných událostí.\n",
    "Extrahujte parametry fitu a jejich nejistoty.\n"
   ]
  },
  {
   "cell_type": "code",
   "execution_count": null,
   "id": "35fc4d16",
   "metadata": {},
   "outputs": [],
   "source": [
    "# Solution.\n",
    "\n",
    "# Fit mass vs. number of events with a constant function, and plot the result.\n",
    "import numpy as np\n",
    "import matplotlib.pyplot as plt\n",
    "from scipy.optimize import curve_fit\n",
    "\n",
    "# Plotting function.\n",
    "def plot_with_fit(x, y, yerr, x_fit, y_fit, x_label, y_label, title):\n",
    "    plt.errorbar(x, y, yerr=yerr, fmt='o', label='Data', color='black')\n",
    "    plt.plot(x_fit, y_fit, '-', label=\"Fit\", color='red')\n",
    "    # Swap the items in the legend to have the Data first.\n",
    "    handles, labels = plt.gca().get_legend_handles_labels()\n",
    "    plt.legend(handles[::-1], labels[::-1])\n",
    "    plt.xlabel(x_label)\n",
    "    plt.ylabel(y_label)\n",
    "    plt.title(title)\n",
    "    plt.show() \n",
    "\n",
    "# Define the constant function for fitting.\n",
    "def constant(x, a):\n",
    "    return a\n",
    "\n",
    "# For simple manipulation, create np.arrays from the DataFrame columns.\n",
    "x = np.array(data['N_events'])\n",
    "m = np.array(data['mass [GeV]'])\n",
    "m_unc = np.array(data['mass unc. [GeV]'])\n",
    "gamma = np.array(data['width [GeV]'])\n",
    "gamma_unc = np.array(data['width unc. [GeV]'])\n",
    "\n",
    "# Prepare common ingredients for fitting and plotting.\n",
    "x_fit = np.linspace(min(x), max(x), 100)\n",
    "Gamma_Nmax = gamma[-1]  # Using the last value as Gamma_Nmax\n",
    "\n",
    "# Fit mass vs. number of events with a constant function.\n",
    "# Plot the results.\n",
    "popt_mass, pcov_mass = curve_fit(constant, x, m)\n",
    "y_fit = np.ones_like(x_fit) * popt_mass[0]\n",
    "plot_with_fit(x, m, m_unc, x_fit, y_fit, \"Number of events\", \"Mass [GeV]\", \"Mass vs. Number of Events\")\n",
    "print(f\"Fitted mass: {popt_mass[0]:.2f} ± {np.sqrt(pcov_mass[0,0]):.2f} GeV\")\n",
    "\n",
    "# Fit width vs. number of events with a constant function.\n",
    "# Plot the results.\n",
    "popt_width, pcov_width = curve_fit(constant, x, gamma)\n",
    "y_fit = np.ones_like(x_fit) * popt_width[0]\n",
    "plot_with_fit(x, gamma, gamma_unc, x_fit, y_fit, \"Number of events\", \"Width [GeV]\", \"Width vs. Number of Events\")\n",
    "print(f\"Fitted width: {popt_width[0]:.2f} ± {np.sqrt(pcov_width[0,0]):.2f} GeV\")\n",
    "\n",
    "# Fit mass uncertainty vs. number of events with a k * Gamma_Nmax / sqrt(N) function.\n",
    "# Plot the results.\n",
    "def mass_uncertainty_func(N, k):\n",
    "    return k * Gamma_Nmax / np.sqrt(N)\n",
    "popt_mass_unc, pcov_mass_unc = curve_fit(mass_uncertainty_func, x, m_unc)\n",
    "y_fit = mass_uncertainty_func(x_fit, *popt_mass_unc)\n",
    "plot_with_fit(x, m_unc, None, x_fit, y_fit, \"Number of events\", \"Mass Uncertainty [GeV]\", \"Mass Uncertainty vs. Number of Events\")\n",
    "print(f\"Fitted k for mass uncertainty: {popt_mass_unc[0]:.2f} ± {np.sqrt(pcov_mass_unc[0,0]):.2f}\")\n",
    "\n",
    "# Fit width uncertainty vs. number of events with a k * Gamma_Nmax / sqrt(2N) function.\n",
    "# Plot the results.\n",
    "def width_uncertainty_func(N, k):\n",
    "    return k * Gamma_Nmax / np.sqrt(2 * N)\n",
    "popt_width_unc, pcov_width_unc = curve_fit(width_uncertainty_func, x, gamma_unc)\n",
    "y_fit = width_uncertainty_func(x_fit, *popt_width_unc)\n",
    "plot_with_fit(x, gamma_unc, None, x_fit, y_fit, \"Number of events\", \"Width Uncertainty [GeV]\", \"Width Uncertainty vs. Number of Events\")\n",
    "print(f\"Fitted k for width uncertainty: {popt_width_unc[0]:.2f} ± {np.sqrt(pcov_width_unc[0,0]):.2f}\")"
   ]
  },
  {
   "cell_type": "markdown",
   "id": "8c073f34",
   "metadata": {},
   "source": [
    "$\\color{red}{\\textbf{Úkol:}}$ Diskutujte výsledky fitů. Následují data očekávané trendy? Jaká je očekávaná hodnota $k$? Souhlasí fitované hodnoty s očekáváním? "
   ]
  },
  {
   "cell_type": "markdown",
   "id": "18b1d062",
   "metadata": {},
   "source": [
    "$\\color{red}{\\textbf{Řešení:}}$"
   ]
  },
  {
   "cell_type": "markdown",
   "id": "f3c220ef",
   "metadata": {},
   "source": [
    "## Objevy částic a testování hypotéz\n",
    "\n",
    "Ke každému procesu měřenému na LHC existuje určité množství událostí pozadí. Pro rozlišení signálu (částice, které hledáme) od tohoto pozadí často vytváříme histogram invariantní hmotnosti. Události, ve kterých se zrodila studovaná částice vytvářejí na tomto histogramu pík. Procesy pozadí jsou rozptýlené a vytváří hladké spojité rozdělení. Pro běžné částice jako Z boson je signální pík snadno viditelný. Nicméně pro vzácné nebo nové hypotetické částice může být signál pouze malý \"výčnělek\", který je těžké rozlišit od náhodné fluktuace pozadí.\n",
    "\n",
    "Při posuzování statistické významnosti pozorovaného píku používáme metodu nazývanou testování hypotéz. Začínáme s nulovou hypotézou $H_0$, která tvrdí, že nová částice neexistuje a data jsou pouze vzorkem procesů pozadí. Máme také alternativní hypotézu $H_1$ tvrdící, že nová částice existuje.\n",
    "Cílem je shromáždit dostatek důkazů z dat k zamítnutí nulové hypotézy.\n",
    "Definujeme tzv. testovací statistiku, neboli funkci, která je numerickým shrnutím dat a pomáhá nám rozhodnout mezi hypotézami $H_0$ a $H_1$.\n",
    "Jelikož je testovací statistika funkcí dat, jedná se o náhodnou proměnnou.\n",
    "Můžeme vyhodnotit její rozdělení pod nulovou hypotézou, např. simulací mnoha experimentů.\n",
    "Pokud hodnota testovací statistiky padne do extrémního konce tohoto rozdělení, máme silný důkaz proti nulové hypotéze.\n",
    "Vypočítáme \"p-hodnotu\", která udává pravděpodobnost, že hodnota testovací statistiky bude přinejmenším tak nekompatibilní s očekáváním nulové hypotézy jako její pozorovaná hodnota.\n",
    "Pro vyhlášení objevu ve fyzice částic musí být p-hodnota extrémně nízká, typicky menší než $3 \\times 10^{-7}$.\n",
    "To odpovídá takzvané $5\\sigma$ signifikanci, která je zlatým standardem pro vyhlášení objevu.\n",
    "Při signifikanci rovné $5\\sigma$ je extrémně nízká pravděpodobnost (3 ku 10 000 000) toho, že pozorovaný signál (pík na hladké křivce) je pouze náhodná fluktuace pozadí. Tato vysoká úroveň jistoty je vyžadována pro to, aby fyzici mohli oznámit objev nové částice.\n"
   ]
  },
  {
   "cell_type": "markdown",
   "id": "3bcca371",
   "metadata": {},
   "source": [
    "$\\color{red}{\\textbf{Úkol:}}$ Spusťte statistickou analýzu pro hledání hypotetického bosonu Z' a gravitonu v dostupném rozsahu hmotností. Zobrazte výsledky."
   ]
  },
  {
   "cell_type": "markdown",
   "id": "c1e13bde",
   "metadata": {},
   "source": [
    "$\\color{red}{\\textbf{Řešení:}}$\n",
    "\n",
    "<!-- Insert the image by dragging it here from your computer into this cell.\n",
    "You can also upload it to the notebook folder and use the following syntax: \n",
    "![Statistický test](statistical_test.png) -->\n",
    "\n",
    "![Statistický test](statistical_test.png)\n"
   ]
  },
  {
   "cell_type": "markdown",
   "id": "8f8c6a62",
   "metadata": {},
   "source": [
    "$\\color{red}{\\textbf{Úkol:}}$ Diskutujte výsledky statistických testů.\n",
    "- Našli jste nějaké významné píky, které by mohly indikovat existenci nové částice?\n",
    "- Jaká je signifikance nejmarkantnějších píků, které jste pozorovali?\n",
    "- Jakým částicím by tyto píky mohly odpovídat? Proč?"
   ]
  },
  {
   "cell_type": "markdown",
   "id": "87b5ac64",
   "metadata": {},
   "source": [
    "$\\color{red}{\\textbf{Řešení:}}$"
   ]
  }
 ],
 "metadata": {
  "kernelspec": {
   "display_name": "praktikum",
   "language": "python",
   "name": "praktikum"
  },
  "language_info": {
   "codemirror_mode": {
    "name": "ipython",
    "version": 3
   },
   "file_extension": ".py",
   "mimetype": "text/x-python",
   "name": "python",
   "nbconvert_exporter": "python",
   "pygments_lexer": "ipython3",
   "version": "3.9.21"
  }
 },
 "nbformat": 4,
 "nbformat_minor": 5
}
