{
 "cells": [
  {
   "cell_type": "markdown",
   "id": "132234fa",
   "metadata": {},
   "source": [
    "# Particle physics at the LHC\n",
    "\n",
    "The Standard Model (SM) is our most successful theory for describing the fundamental building blocks of the universe and how they interact. The basic particles are quarks and leptons, which are fermions with a spin of 1/2. Four fundamental forces act on these particles: electromagnetic, strong, weak, and gravity. These forces are mediated by the exchange of bosons. The SM, however, does not describe gravity.\n",
    "\n",
    "## Z and Higgs bosons\n",
    "The Z boson is a neutral particle that, along with the charged W bosons, mediates the weak force. The Z boson is produced in large numbers in high-energy proton collisions at the Large Hadron Collider (LHC). It has a mass of 91 GeV and a very short lifetime, decaying into lighter particles almost instantly. These lighter decay products, such as pairs of charged leptons (like electrons and muons), are what scientists actually detect.\n",
    "\n",
    "The Higgs boson was the last particle of the Standard Model to be discovered, confirmed in 2012 by the ATLAS and CMS experiments at CERN. It has a mass of approximately 125 GeV and, like the Z boson, is highly unstable and decays rapidly. The Higgs boson is never observed directly; instead, its decay products are detected.\n",
    "\n",
    "## Searching for new physics\n",
    "\n",
    "The LHC's high-energy proton collisions open up the possibility of discovering new particles beyond the Standard Model. One theoretical prediction is the existence of a heavier version of the Z boson, called the Z' boson. Its properties are expected to be similar to the Z boson, but its higher mass would make it a signature of \"new physics.\"\n",
    "\n",
    "## Background and signal\n",
    "\n",
    "In particle collisions, many different particles are produced. Signal refers to the particles of interest (like Z or Higgs bosons), while background includes all other processes that have a similar final state and are difficult to distinguish from the signal. To separate the signal from the background, physicists use specific criteria, such as checking the total charge of the decay products. Some background processes are \"irreducible,\" meaning they cannot be removed and must be accounted for in the statistical analysis.\n"
   ]
  },
  {
   "cell_type": "markdown",
   "id": "3ade94bc",
   "metadata": {},
   "source": [
    "# Analyzing ATLAS events using Hypatia\n",
    "\n",
    "The ATLAS experiment at CERN uses a large detector to register particles created in proton collisions. The detector measures the properties of these particles, such as their type, charge, momentum, and energy. We use a program called Hypatia to visualize these events and search for those that contain decay products of Z and Higgs bosons.\n",
    "While these bosons can decay into various particles, we focus on the Z decays into pairs of charged leptons (electrons or muons) and the H decays into pairs of photons; also, H decays into four leptons are sought. These decay channels are easier to identify than others and have lower background.\n",
    "\n",
    "## ATLAS layout\n",
    "\n",
    "The ATLAS detector is a complex, multi-layered instrument designed to capture a wide range of particles. Its main components include:\n",
    "\n",
    "1. **Inner Detector**: This is where charged particles are tracked. It consists of silicon pixel and strip detectors, as well as a transition radiation tracker (TRT) for identifying high-energy electrons.\n",
    "\n",
    "2. **Calorimeters**: These are used to measure the energy of particles. The electromagnetic calorimeter is designed to absorb photons and electrons, while the hadronic calorimeter (together with the electromagnetic calorimeter) absorbs hadrons.\n",
    "\n",
    "3. **Muon System**: This detects muons. Muons interact weakly with matter, allowing them to penetrate the inner detector and calorimeters. The muon system is located outside the calorimeters and consists of several layers of detectors.\n",
    "\n",
    "4. **Magnets**: A large superconducting solenoidal magnet surrounds the inner detector, creating a magnetic field that bends the paths of charged particles. This allows for the measurement of their momentum. Another huge magnet system, consisting of toroidal magnets, surrounds the calorimeters and muon system to provide additional bending power for muons.\n",
    "\n",
    "\n",
    "## Particle identification\n",
    "\n",
    "At the ATLAS experiment, scientists identify particles by observing how they interact with the detector's different layers. Each particle leaves a unique \"signature\" that helps us determine its properties.\n",
    "The following image illustrates how different particles interact with the various components of the ATLAS detector:\n",
    "\n",
    "![Particle signatures in the ATLAS detector](particle_identification.png)\n",
    "\n"
   ]
  },
  {
   "cell_type": "markdown",
   "id": "2c6ee7a8",
   "metadata": {},
   "source": [
    "### Electrons and Positrons\n",
    "\n",
    "These charged particles leave a track in the inner detector and deposit all their energy in the electromagnetic calorimeter. They leave no trace in the other layers. We distinguish between an electron and a positron by their opposite charge, which makes their paths curve in different directions within the detector's magnetic field.\n",
    "\n",
    "$\\color{red}{\\textbf{Task:}}$ Identify electron-positron pairs in the provided event images. Look for tracks in the inner detector that curve due to the magnetic field and end with a cluster of energy in the electromagnetic calorimeter. Insert one with an identified electron-positron pair below:\n"
   ]
  },
  {
   "cell_type": "markdown",
   "id": "7e195b75",
   "metadata": {},
   "source": [
    "$\\color{red}{\\textbf{Solution:}}$\n",
    "\n",
    "<!-- Insert the image here using the following syntax: ![Electron-positron pair](electron_positron_example.png) -->\n",
    "![Electron-positron pair](electron_positron_example.png)"
   ]
  },
  {
   "cell_type": "markdown",
   "id": "f738d78b",
   "metadata": {},
   "source": [
    "### Muons\n",
    "\n",
    "Muons are also charged and leave a track in the inner detector. However, they are much heavier than electrons, so they only lose a small amount of energy in the calorimeters and are the only particles that can travel all the way through to the outermost muon chambers.\n",
    "\n",
    "$\\color{red}{\\textbf{Task:}}$ Identify muon-antimuon pairs in the provided event images. Look for tracks in the inner detector that continue through the calorimeters and hit the muon detectors. Insert one with an identified muon-antimuon pair below:\n"
   ]
  },
  {
   "cell_type": "markdown",
   "id": "d6672c7d",
   "metadata": {},
   "source": [
    "$\\color{red}{\\textbf{Solution:}}$\n",
    "\n",
    "<!-- Insert the image here using the following syntax: ![muon-antimuon pair](muon_antimuon_example.png) -->\n",
    "![muon-antimuon pair](muon_antimuon_example.png)"
   ]
  },
  {
   "cell_type": "markdown",
   "id": "6cf2e750",
   "metadata": {},
   "source": [
    "### Photons\n",
    "\n",
    "As neutral particles, photons do not leave a track in the inner detector. They are identified by the energy they deposit in the electromagnetic calorimeter.\n",
    "\n",
    "$\\color{red}{\\textbf{Task:}}$ Identify photon pairs in the provided event images. Look for clusters of energy in the electromagnetic calorimeter without corresponding tracks in the inner detector. Insert one with an identified photon pair below:\n"
   ]
  },
  {
   "cell_type": "markdown",
   "id": "73a610b0",
   "metadata": {},
   "source": [
    "$\\color{red}{\\textbf{Solution:}}$\n",
    "\n",
    "<!-- Insert the image here using the following syntax: ![Photon pair](photon_pair_example.png) -->\n",
    "![Photon pair](photon_pair_example.png)\n"
   ]
  },
  {
   "cell_type": "markdown",
   "id": "bdb901a1",
   "metadata": {},
   "source": [
    "## Hunt for Z and Higgs bosons\n",
    "\n",
    "Since both Z and Higgs bosons are too short-lived to be detected directly, physicists analyze their decay products.\n",
    "The energy and momentum of the decay products are used to reconstruct the mass of the original \"parent\" particle using Einstein's famous relation $E=mc^2$ and the laws of conservation of energy and momentum.\n",
    "By plotting the reconstructed mass from many events in a histogram, a peak can appear at the unique mass of the parent particle, allowing scientists to identify it.\n",
    "This method helps to confirm the existence of known particles and to search for new, hypothetical ones.\n",
    "If the mother particle decays into two daughter particles, then its mass can be determined using the formula:\n",
    "\n",
    "$m_0 c^2 = \\sqrt{(E_1 + E_2)^2 - |\\vec{p}_1 + \\vec{p}_2|^2 c^2}$,\n",
    "\n",
    "where $m_0$ is the rest mass of the mother particle, $E_1$ and $E_2$ are the energies of the daughter particles, and $\\vec{p}_1$ and $\\vec{p}_2$ are their momentum vectors.\n",
    "The quantity $m_0$ is often referred to as the invariant mass, when evaluated using the system of daughter particles.\n"
   ]
  },
  {
   "cell_type": "markdown",
   "id": "04e3f242",
   "metadata": {},
   "source": [
    "$\\color{red}{\\textbf{Task:}}$ Process approximately 50 events and identify those that contain:\n",
    "- pairs of electrons or muons (potential Z boson decays)\n",
    "- pairs of photons (potential Higgs boson decays)\n",
    "- $4e$, $4\\mu$ or $2e2\\mu$ (potential Higgs boson decays)\n",
    "\n",
    "Display the invariant mass histograms for the different final states, using the ROOT framework."
   ]
  },
  {
   "cell_type": "markdown",
   "id": "9af0dc0b",
   "metadata": {},
   "source": [
    "$\\color{red}{\\textbf{Solution:}}$\n",
    "\n",
    "<!-- Insert the image here using the following syntax: ![Analyzed data](analyzed_data.png) -->\n",
    "![Analyzed data](analyzed_data.png)\n"
   ]
  },
  {
   "cell_type": "markdown",
   "id": "f9ecadee",
   "metadata": {},
   "source": [
    "$\\color{red}{\\textbf{Task:}}$ Display the same histograms as above, using all the students' data."
   ]
  },
  {
   "cell_type": "markdown",
   "id": "bf0e83d2",
   "metadata": {},
   "source": [
    "$\\color{red}{\\textbf{Solution:}}$\n",
    "\n",
    "<!-- Insert the image here using the following syntax: ![All students data](all_students_data.png) -->\n",
    "![All students data](all_students_data.png)\n"
   ]
  },
  {
   "cell_type": "markdown",
   "id": "fea8ad73",
   "metadata": {},
   "source": [
    "$\\color{red}{\\textbf{Task:}}$ \n",
    "- Describe what is shown in the histograms.\n",
    "- Discuss the peaks observed in the histograms.\n",
    "- Identify the Z boson and estimate its mass and width, using a Gaussian fit.\n",
    "- Can you see peaks corresponding to some other particles in the histograms?\n",
    "- If yes, what are the particles, their masses, and widths?\n",
    "- Is the Higgs peak visible in any of the histograms?\n",
    "- If it is not visible in some of them, explain why.\n"
   ]
  },
  {
   "cell_type": "markdown",
   "id": "d06969be",
   "metadata": {},
   "source": [
    "$\\color{red}{\\textbf{Solution:}}$"
   ]
  },
  {
   "cell_type": "markdown",
   "id": "19231312",
   "metadata": {},
   "source": [
    "## Z peak analysis\n",
    "\n",
    "The invariant mass we measure is not a single, exact value; it fluctuates around a central value.\n",
    "The width of the peak is influenced by factors like the particle's natural lifetime and the detector's resolution.\n",
    "As we collect more data, the number of events in the peak increases, which allows us to determine the particle's mass with greater certainty.\n",
    "To find the exact mass, we often fit a normal distribution (a Gaussian curve) to the peak.\n",
    "The Gaussian curve is parametrized by two parameters: the mean value, $\\mu$, and the width, $\\sigma$.\n",
    "The fit gives us estimates of the two parameters, $\\hat{\\mu}$ and $\\hat{\\sigma}$.\n",
    "Being estimates based on a finite number of events, they suffer from the statistical uncertainty.\n",
    "The uncertainty can also be estimated, and it decreases with the square root of the number of events:\n",
    "\n",
    "$\\hat{\\sigma}_{\\hat{\\mu}} \\propto \\frac{1}{\\sqrt{N}}$,\n",
    "\n",
    "$\\hat{\\sigma}_{\\hat{\\sigma}} \\propto \\frac{1}{\\sqrt{2N}}$,\n",
    "\n",
    "where $\\hat{\\sigma}_{\\hat{\\mu}}$ and $\\hat{\\sigma}_{\\hat{\\sigma}}$ are the uncertainties on $\\hat{\\mu}$ and $\\hat{\\sigma}$, and $N$ is the number of events in the peak."
   ]
  },
  {
   "cell_type": "markdown",
   "id": "9a38cd22",
   "metadata": {},
   "source": [
    "$\\color{red}{\\textbf{Task:}}$ Estimate the Z boson mass, $m$, and width, $\\Gamma$, from the histogram of lepton pairs. Use a Gaussian fit and the assumptions $\\hat{m} = \\hat{\\mu}$, $\\hat{\\Gamma} = \\hat{\\sigma}$. Do it six times, using samples of increasing size (e.g., 50, 100, 200, 500, 1000, and all available events). For each sample, provide the estimated values of $m$ and $\\Gamma$, along with their uncertainties. Plot the estimated values of $m$ and $\\Gamma$ as functions of the number of events used in the fit. Plot the estimated uncertainties as a function of the number of events.\n"
   ]
  },
  {
   "cell_type": "markdown",
   "id": "6b93de85",
   "metadata": {},
   "source": [
    "$\\color{red}{\\textbf{Solution:}}$\n",
    "\n",
    "<!-- Insert the image here using the following syntax: ![Z peak](z_peak.png) -->\n",
    "![Z peak](z_peak.png)\n"
   ]
  },
  {
   "cell_type": "markdown",
   "id": "a9cd7d4e",
   "metadata": {},
   "source": [
    "$\\color{red}{\\textbf{Task:}}$ Create a pandas DataFrame to store your measurements of the Z boson mass and width, along with their uncertainties."
   ]
  },
  {
   "cell_type": "code",
   "execution_count": null,
   "id": "32059ae8",
   "metadata": {},
   "outputs": [],
   "source": [
    "# Solution.\n",
    "\n",
    "import pandas as pd\n",
    "\n",
    "# TODO: Insert your data here.\n",
    "data = pd.DataFrame({\n",
    "    'N_events': [50, 100, 200, 500, 1000, 3125],\n",
    "    'mass [GeV]': [90.34, 89.79, 90.61, 90.50, 90.13, 90.21],\n",
    "    'mass unc. [GeV]': [0.90, 0.47, 0.31, 0.21, 0.13, 0.080],\n",
    "    'width [GeV]': [3.83, 3.39, 3.37, 3.55, 3.21, 3.56],\n",
    "    'width unc. [GeV]': [1.57, 0.63, 0.38, 0.24, 0.13, 0.084]\n",
    "})\n",
    "\n",
    "# Display the DataFrame, skipping the index.\n",
    "print(data.to_string(index=False))\n",
    "\n"
   ]
  },
  {
   "cell_type": "markdown",
   "id": "b690976e",
   "metadata": {},
   "source": [
    "$\\color{red}{\\textbf{Task:}}$\n",
    "- Fit mass vs. number of events with a constant function.\n",
    "- Fit width vs. number of events with a constant function.\n",
    "- Fit mass uncertainty vs. number of events with a $k \\times \\hat{\\Gamma}_\\mathrm{N max} / \\sqrt{N}$ function.\n",
    "- Fit width uncertainty vs. number of events with a $k \\times \\hat{\\Gamma}_\\mathrm{N max} / \\sqrt{2N}$ function.\n",
    "\n",
    "$\\hat{\\Gamma}_\\mathrm{N max}$ is the width of the Z peak estimated using all available events.\n",
    "Extract the fit parameters and their uncertainties.\n"
   ]
  },
  {
   "cell_type": "code",
   "execution_count": null,
   "id": "35fc4d16",
   "metadata": {},
   "outputs": [],
   "source": [
    "# Solution.\n",
    "\n",
    "# Fit mass vs. number of events with a constant function, and plot the result.\n",
    "import numpy as np\n",
    "import matplotlib.pyplot as plt\n",
    "from scipy.optimize import curve_fit\n",
    "\n",
    "# Plotting function.\n",
    "def plot_with_fit(x, y, yerr, x_fit, y_fit, x_label, y_label, title):\n",
    "    plt.errorbar(x, y, yerr=yerr, fmt='o', label='Data', color='black')\n",
    "    plt.plot(x_fit, y_fit, '-', label=\"Fit\", color='red')\n",
    "    # Swap the items in the legend to have the Data first.\n",
    "    handles, labels = plt.gca().get_legend_handles_labels()\n",
    "    plt.legend(handles[::-1], labels[::-1])\n",
    "    plt.xlabel(x_label)\n",
    "    plt.ylabel(y_label)\n",
    "    plt.title(title)\n",
    "    plt.show() \n",
    "\n",
    "# Define the constant function for fitting.\n",
    "def constant(x, a):\n",
    "    return a\n",
    "\n",
    "# For simple manipulation, create np.arrays from the DataFrame columns.\n",
    "x = np.array(data['N_events'])\n",
    "m = np.array(data['mass [GeV]'])\n",
    "m_unc = np.array(data['mass unc. [GeV]'])\n",
    "gamma = np.array(data['width [GeV]'])\n",
    "gamma_unc = np.array(data['width unc. [GeV]'])\n",
    "\n",
    "# Prepare common ingredients for fitting and plotting.\n",
    "x_fit = np.linspace(min(x), max(x), 100)\n",
    "Gamma_Nmax = gamma[-1]  # Using the last value as Gamma_Nmax\n",
    "\n",
    "# Fit mass vs. number of events with a constant function.\n",
    "# Plot the results.\n",
    "popt_mass, pcov_mass = curve_fit(constant, x, m)\n",
    "y_fit = np.ones_like(x_fit) * popt_mass[0]\n",
    "plot_with_fit(x, m, m_unc, x_fit, y_fit, \"Number of events\", \"Mass [GeV]\", \"Mass vs. Number of Events\")\n",
    "print(f\"Fitted mass: {popt_mass[0]:.2f} ± {np.sqrt(pcov_mass[0,0]):.2f} GeV\")\n",
    "\n",
    "# Fit width vs. number of events with a constant function.\n",
    "# Plot the results.\n",
    "popt_width, pcov_width = curve_fit(constant, x, gamma)\n",
    "y_fit = np.ones_like(x_fit) * popt_width[0]\n",
    "plot_with_fit(x, gamma, gamma_unc, x_fit, y_fit, \"Number of events\", \"Width [GeV]\", \"Width vs. Number of Events\")\n",
    "print(f\"Fitted width: {popt_width[0]:.2f} ± {np.sqrt(pcov_width[0,0]):.2f} GeV\")\n",
    "\n",
    "# Fit mass uncertainty vs. number of events with a k * Gamma_Nmax / sqrt(N) function.\n",
    "# Plot the results.\n",
    "print(Gamma_Nmax)\n",
    "def mass_uncertainty_func(N, k):\n",
    "    return k * Gamma_Nmax / np.sqrt(N)\n",
    "popt_mass_unc, pcov_mass_unc = curve_fit(mass_uncertainty_func, x, m_unc)\n",
    "y_fit = mass_uncertainty_func(x_fit, *popt_mass_unc)\n",
    "plot_with_fit(x, m_unc, None, x_fit, y_fit, \"Number of events\", \"Mass Uncertainty [GeV]\", \"Mass Uncertainty vs. Number of Events\")\n",
    "print(f\"Fitted k for mass uncertainty: {popt_mass_unc[0]:.2f} ± {np.sqrt(pcov_mass_unc[0,0]):.2f}\")\n",
    "\n",
    "# Fit width uncertainty vs. number of events with a k * Gamma_Nmax / sqrt(2N) function.\n",
    "# Plot the results.\n",
    "def width_uncertainty_func(N, k):\n",
    "    return k * Gamma_Nmax / np.sqrt(2 * N)\n",
    "popt_width_unc, pcov_width_unc = curve_fit(width_uncertainty_func, x, gamma_unc)\n",
    "y_fit = width_uncertainty_func(x_fit, *popt_width_unc)\n",
    "plot_with_fit(x, gamma_unc, None, x_fit, y_fit, \"Number of events\", \"Width Uncertainty [GeV]\", \"Width Uncertainty vs. Number of Events\")\n",
    "print(f\"Fitted k for width uncertainty: {popt_width_unc[0]:.2f} ± {np.sqrt(pcov_width_unc[0,0]):.2f}\")"
   ]
  },
  {
   "cell_type": "markdown",
   "id": "8c073f34",
   "metadata": {},
   "source": [
    "$\\color{red}{\\textbf{Task:}}$ Discuss the results of the fits. Do the data follow the expected trends? What is the expected value of $k$? Do the fitted values agree with the expectation? "
   ]
  },
  {
   "cell_type": "markdown",
   "id": "18b1d062",
   "metadata": {},
   "source": [
    "$\\color{red}{\\textbf{Solution:}}$"
   ]
  },
  {
   "cell_type": "markdown",
   "id": "f3c220ef",
   "metadata": {},
   "source": [
    "## Particle discoveries and hypothesis testing\n",
    "\n",
    "Every process measured at the LHC has a background of unwanted particles. To distinguish the signal (the particles we are looking for) from this background, we often create a histogram of \"invariant mass.\" Particles that come from the same parent particle will cluster at a specific mass, forming a sharp peak in the histogram. Random background particles, however, will be spread out, forming a smooth, continuous distribution. For common particles like the Z boson, the signal peak is easily visible. But for rare or new hypothetical particles, the signal might just be a tiny bump that is hard to distinguish from a random fluctuation in the background.\n",
    "\n",
    "To determine with confidence if we've made a discovery, we use statistical hypothesis testing. We start with a null hypothesis, $H_0$: that the new particle does not exist, and the data is just a sample of the background processes. We also have an alternative hypothesis, $H_1$: that the new particle does exist.\n",
    "The goal is to gather enough evidence from the data to reject the null hypothesis.\n",
    "We define a test statistic, which is a numerical summary of the data that helps us decide between the two hypotheses.\n",
    "Being a function of data, the test statistic is a random variable.\n",
    "We can evaluate its distribution under the null hypothesis, e.g. by simulating many experiments.\n",
    "If the test statistic falls in an extreme tail of this distribution, we have strong evidence against the null hypothesis.\n",
    "We calculate a \"p-value,\" which is the probability for the test statistic value to be at least as discrepant with the null hypothesis expectation as the observed value.\n",
    "For a discovery to be declared in particle physics, the p-value must be extremely low, typically less than $3 \\times 10^{-7}$.\n",
    "This corresponds to the so-called \"significance\" of $5\\sigma$, which is the gold standard for a discovery.\n",
    "In simple terms, a $5\\sigma$ discovery means there is only about a 1 in 3.5 million chance that the observed signal (the peak on a smooth curve) is just a random fluctuation. This high level of certainty is required before physicists can announce a new particle discovery.\n",
    "\n"
   ]
  },
  {
   "cell_type": "markdown",
   "id": "3bcca371",
   "metadata": {},
   "source": [
    "$\\color{red}{\\textbf{Task:}}$ Run the statistical analysis to search for a hypothetical Z' boson or graviton in the available mass range. Display the results."
   ]
  },
  {
   "cell_type": "markdown",
   "id": "c1e13bde",
   "metadata": {},
   "source": [
    "$\\color{red}{\\textbf{Solution:}}$\n",
    "\n",
    "<!-- Insert the image here using the following syntax: ![Statistical test](statistical_test.png) -->\n",
    "![Statistical test](statistical_test.png)\n"
   ]
  },
  {
   "cell_type": "markdown",
   "id": "8f8c6a62",
   "metadata": {},
   "source": [
    "$\\color{red}{\\textbf{Task:}}$ Discuss the results.\n",
    "- Did you find any significant peaks that could indicate the presence of a new particle?\n",
    "- What is the significance level of the most peak(s) you observed?\n",
    "- What particle(s) could they correspond to? Why?"
   ]
  }
 ],
 "metadata": {
  "kernelspec": {
   "display_name": "praktikum",
   "language": "python",
   "name": "praktikum"
  }
 },
 "nbformat": 4,
 "nbformat_minor": 5
}
