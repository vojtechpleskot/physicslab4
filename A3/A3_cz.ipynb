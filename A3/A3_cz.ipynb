{
 "cells": [
  {
   "cell_type": "code",
   "execution_count": null,
   "metadata": {},
   "outputs": [],
   "source": [
    "# TODO: Replace the string \"Your Name\" and \"Date of measurement\" with the appropriate values.\n",
    "\n",
    "from header import header\n",
    "_ = header(student=\"Your Name\", date=\"Date of measurement\", task_no=3)"
   ]
  },
  {
   "cell_type": "markdown",
   "metadata": {},
   "source": [
    "**IMPORTANT: before starting, you need to run the following cell!**"
   ]
  },
  {
   "cell_type": "code",
   "execution_count": null,
   "metadata": {},
   "outputs": [],
   "source": [
    "!pip install numpy matplotlib scipy pandas uncertainties"
   ]
  },
  {
   "cell_type": "markdown",
   "metadata": {},
   "source": [
    "# Identifikace prvků na základě jejich charakteristického rentgenového záření."
   ]
  },
  {
   "cell_type": "markdown",
   "metadata": {},
   "source": [
    "$\\color{red}{\\textbf{TODO}}$ vysazime sem Pracovni ukoly?\n",
    "\n",
    "Na webu praktika (a pote pridat do updatovaneho navodu) je potreba vyhodit slovo \"účinnosti\" z ukolu č. 3."
   ]
  },
  {
   "cell_type": "markdown",
   "metadata": {},
   "source": [
    "# Úvod\n",
    "\n",
    "Deexcitace vzbuzených stavů elektronového obalu je provázena emisí rentgenového záření. Protože energie tohoto záření je charakteristická pro daný prvek [1], lze jej využít ke kvalitativní i kvantitativní analýze složení materiálů. Elektronový obal lze excitovat několika způsoby. Rentgenová fluorescenční metoda využívá interakci fotonů s elektrony obalu: při fotoelektrickém jevu jsou elektrony vyráženy a obal se dostává do excitovaného stavu. Následná deexcitace vede k emisi charakteristických rentgenových čar.\n",
    "\n",
    "V našem experimentu měříme spektra vznikající při ozáření různých vzorků $\\gamma$–zářením z radioaktivního zdroje. Na základě energií rentgenových přechodů je možné identifikovat přítomné prvky a určit složení vzorku. Ke kvantitativnímu určení je nutné vyhodnotit i intenzity čar, které závisejí nejen na obsahu prvků, ale také na geometrii experimentu, tloušťce a složení vzorku, intenzitě buzení a vlastnostech detektoru. Citlivost metody je dána především energetickým rozlišením a účinností spektrometru.\n",
    "\n",
    "V našem experimentu je použitým zdrojem $\\gamma$–záření izotop $^{241}\\mathrm{Am}$. Jádra tohoto izotopu se $\\alpha$-rozpadem přeměňují na jádra $^{237}\\mathrm{Np}$, často ve vzbuzeném stavu. Při jejich deexcitaci vzniká několik $\\gamma$–linek [2], z nichž nejintenzivnější má energii 59,5 keV. V měřeném spektru se navíc objevuje rentgenové záření dceřinného neptunia, především L-série v oblasti 10–20 keV.\n",
    "\n",
    "Radioaktivní zdroj je umístěn ve stojánku nad vzorkem, vedle detektoru. Směrem od zdroje k detektoru stojánek funguje jako stínění, zatímco mezi vzorkem a detektorem stínění není. Charakteristické rentgenové záření je detekováno polovodičovým spektrometrem, který se skládá z germaniového detektoru s beryliovým okénkem, nábojově citlivého předzesilovače, lineárního zesilovače, vysokonapěťového zdroje a USB datového akvizičního modulu. Detektor pracuje při napětí přibližně 3,5 kV.\n",
    "\n",
    "Energetické rozlišení spektrometru je FWHM ≈ 0,9 keV v oblasti 5–60 keV. Kvůli tomuto relativně špatnému rozlišení a tlustému beryliovému okénku není možné registrovat záření s energiemi pod 4 keV. Proto nelze identifikovat prvky s protonovým číslem $Z < 20$, například příměsi hliníku, a výsledná analýza může být nepřesná.\n",
    "\n",
    "Vzhledem k energiím rentgenového záření a hustotám používaných vzorků je zřejmé, že zkoumáme jejich složení do hloubky několika desítek až málo stovek $\\mu\\text{m}$. Z hloubky větší než tři polotloušťky uniknou maximálně procenta vzniklého záření."
   ]
  },
  {
   "cell_type": "markdown",
   "metadata": {},
   "source": [
    "# Postup měření\n",
    "\n",
    "Nakalibrujeme spektrometr radioaktivním zářičem $^{241}\\mathrm{Am}$. Dále naměříme spektra rentgenového záření několika různých vzorků, zpracujeme spektra a identifikujeme materiál či materiály vzorků pomocí tabulek energií rentgenového záření. Dobu jednotlivých měření volíme tak, aby nejistota výtěžku byla menší než 3%."
   ]
  },
  {
   "cell_type": "markdown",
   "metadata": {},
   "source": [
    "# Výsledky měření\n",
    "\n",
    "$\\color{red}{\\textbf{Úkol:}}$ Nakalibrujte spektrometr pomocí radioaktivního zářiče $^{241}\\mathrm{Am}$. Použijte tabelované energie singletních píků. Systematickou nejistotu kalibrace odhadněte pomocí multipletu na energii asi 17,8 keV. Diskutujte výslednou kalibraci a její nejistoty."
   ]
  },
  {
   "cell_type": "markdown",
   "metadata": {},
   "source": [
    "$\\color{red}{\\textbf{Řešení:}}$ "
   ]
  },
  {
   "cell_type": "markdown",
   "metadata": {},
   "source": [
    "$\\color{green}{\\textbf{TODO SV check the software and keep the nomenclature (untranslated).}}$\n",
    "\n",
    "$\\color{red}{\\textbf{Úkol:}}$ Měřené vzorky jsou na první pohled kovy, předpokládejme, že jsou to buď jednoprvkové vzorky, nebo slitiny dvou prvků a to se $26 \\leq Z \\leq 52$.\n",
    "Určete chemické prvky v jednodruhových vzorcích. Vytvořte tabulku s číslem vzorku, naměřenou energií píku, čistou plochou a FWHM, aktivitou (čistý počet impulzů v píku za sekundu), nejistotou aktivity, identifikovaným prvkem a jeho protonovým číslem. Každý řádek v tabulce odpovídá jedné spektrální čáře daného vzorku. Určete také chemické složení víceprvkových vzorků - slitin. Uveďte je také v tabulce (jeden řádek pro každou spektrální čáru každého prvku)."
   ]
  },
  {
   "cell_type": "code",
   "execution_count": null,
   "metadata": {},
   "outputs": [],
   "source": [
    "###################################################################################################\n",
    "### TODO SV: add Net Area and FWHM to the example data below. The values of one are placeholders.\n",
    "###################################################################################################\n",
    "\n",
    "# Sem vložte svůj kód.\n",
    "# Vložte data do listu listů, jako v tomto příkladu:\n",
    "# data = [\n",
    "#     [1,   8.11, TODO, TODO, 34.2 , 0.2 , \"K_a+b\", \"Cu\", 29],  # Cu = 29\n",
    "#     [2,  25.29, TODO, TODO, 97.9 , 0.6 , \"K_a\"  , \"Sn\", 50],   # Sn = 50\n",
    "#     ...\n",
    "# ]\n",
    "# Elementy vnitřního listu jsou:\n",
    "#   [\"Vzorek\", \"Energie [keV]\", \"Net Area\", \"FWHM [keV]\", \"Intenzita [1/s]\", \"Nejistota Int. [1/s]\", \"Čára\", \"Prvek\", \"Z\"]\n",
    "\n",
    "data = [\n",
    "    [1,   8.11, 1, 1, 34.2 , 0.2 , \"K_a+b\", \"Cu\", 29],   # Cu = 29\n",
    "    [2,  25.29, 1, 1, 97.9 , 0.6 , \"K_a\"  , \"Sn\", 50],   # Sn = 50\n",
    "    [2,  28.61, 1, 1, 22.5 , 0.4 , \"K_b\"  , \"Sn\", 50],   # Sn = 50\n",
    "    [3,  20.25, 1, 1, 70.5 , 0.7 , \"K_a\"  , \"Rh\", 45],   # Rh = 45\n",
    "    [3,  22.83, 1, 1, 14.4 , 0.4 , \"K_b\"  , \"Rh\", 45],   # Rh = 45\n",
    "    [4,  10.59, 1, 1, 18.7 , 0.4 , \"L_a\"  , \"Pb\", 82],   # Pb = 82\n",
    "    [4,  12.68, 1, 1, 20.6 , 0.4 , \"L_b\"  , \"Pb\", 82],   # Pb = 82\n",
    "    [5,   8.40, 1, 1, 5.49 , 0.19, \"K_a+b\", \"Cu\", 29],   # Cu = 29\n",
    "    [5,  22.18, 1, 1, 47.0 , 0.3 , \"K_a\"  , \"Ag\", 47],   # Ag = 47\n",
    "    [5,  25.05, 1, 1, 13.4 , 0.2 , \"K_b\"  , \"Ag\", 47],   # Ag = 47\n",
    "    [6,  15.80, 1, 1, 53.1 , 0.5 , \"K_a\"  , \"Zr\", 40],   # Zr = 40\n",
    "    [6,  17.71, 1, 1, 11.1 , 0.3 , \"K_b\"  , \"Zr\", 40],   # Zr = 40\n",
    "    [9,  17.50, 1, 1, 85.8 , 0.8 , \"K_a\"  , \"Mo\", 42],   # Mo = 42\n",
    "    [9,  19.71, 1, 1, 16.5 , 0.4 , \"K_b\"  , \"Mo\", 42],   # Mo = 42\n",
    "    [11, 23.19, 1, 1, 100.5, 1.0 , \"K_a\"  , \"Cd\", 48],   # Cd = 48\n",
    "    [11, 26.19, 1, 1, 27.4 , 0.7 , \"K_b\"  , \"Cd\", 48],   # Cd = 48\n",
    "    [10,  8.68, 1, 1, 25.5 , 0.4 , \"K_a+b\", \"Zn\", 30],   # Zn = 30\n",
    "    [12,  6.41, 1, 1, 12.3 , 0.8 , \"K_a+b\", \"Fe\", 26],   # Fe = 26\n",
    "]"
   ]
  },
  {
   "cell_type": "markdown",
   "metadata": {},
   "source": [
    "$\\color{red}{\\textbf{Úkol:}}$ Vytvořte pandas DataFrame z listu dat."
   ]
  },
  {
   "cell_type": "code",
   "execution_count": null,
   "metadata": {},
   "outputs": [],
   "source": [
    "# Sem vložte svůj kód.\n",
    "\n",
    "import pandas as pd\n",
    "\n",
    "# Vytvořme DataFrame z dat a nastavme názvy sloupců.\n",
    "df = pd.DataFrame(data, columns=[\"Vzorek\", \"Energie [keV]\", \"Net Area\", \"FWHM [keV]\", \"Intenzita [1/s]\", \"Nejistota Int. [1/s]\", \"Čára\", \"Prvek\", \"Z\"])"
   ]
  },
  {
   "cell_type": "markdown",
   "metadata": {},
   "source": [
    "$\\color{red}{\\textbf{Úkol:}}$ Určete statistickou nejistotu naměřené energie. Přidejte ji do tabulky jako sloupec s názvem „Nejistota energie [keV]“. Poté z tabulky odstraňte sloupce „Net Area“ a „FWHM [keV]“."
   ]
  },
  {
   "cell_type": "code",
   "execution_count": null,
   "metadata": {},
   "outputs": [],
   "source": [
    "# Sem vložte svůj kód.\n",
    "\n",
    "import numpy as np\n",
    "\n",
    "# Spočítejme nejistoty energie.\n",
    "df[\"Nejistota Energie [keV]\"] = df[\"FWHM [keV]\"] / np.sqrt(8.*np.log(2)) / np.sqrt(df[\"Net Area\"])\n",
    "\n",
    "# Odstraňte sloupce „Net Area“ a „FWHM [keV]“.\n",
    "df = df.drop(columns=[\"Net Area\", \"FWHM [keV]\"])"
   ]
  },
  {
   "cell_type": "markdown",
   "metadata": {},
   "source": [
    "$\\color{red}{\\textbf{Úkol:}}$ Vypište DataFrame. Pro přehlednost vypište nejistotu energie píku za energii píku."
   ]
  },
  {
   "cell_type": "code",
   "execution_count": null,
   "metadata": {},
   "outputs": [],
   "source": [
    "# Sem vložte svůj kód.\n",
    "\n",
    "# Vysázejme DataFrame.\n",
    "# Metoda to_string() se používá k vysázení DataFrame bez sloupce indexu a\n",
    "#   k vysázení všech řádků bez rozdělení tabulky.\n",
    "# Parametr col_space se používá k nastavení minimální šířky sloupce (ve znacích).\n",
    "df = df[['Vzorek', 'Energie [keV]', 'Nejistota Energie [keV]', 'Intenzita [1/s]', 'Nejistota Int. [1/s]', 'Čára', 'Prvek', 'Z']]\n",
    "print(df.to_string(index=False, col_space=10))"
   ]
  },
  {
   "cell_type": "markdown",
   "metadata": {},
   "source": [
    "$\\color{red}{\\textbf{Úkol:}}$ Diskutujte rozdíly mezi systematickými a statistickými nejistotami naměřených energií. Která z nich je dominantní? Znemožňuje některá z nich, či jejich kombinace jednoznačnou identifikaci prvků?"
   ]
  },
  {
   "cell_type": "markdown",
   "metadata": {},
   "source": [
    "$\\color{red}{\\textbf{Řešení:}}$"
   ]
  },
  {
   "cell_type": "markdown",
   "metadata": {},
   "source": [
    "$\\color{red}{\\textbf{Úkol:}}$ Vyřaďte slitiny z výše uvedeného DataFrame. Vykreslete intenzity jednoprvkových vzorků jako funkci protonového čísla $Z$ prvku. Intenzita je součtem intenzit spektrálních čar $\\mathrm{K}_\\alpha$ a $\\mathrm{K}_\\beta$. Pokud nejsou přítomny, odeberte vzorek. K filtrování můžete použít buňku níže. Pokud chcete filtrování provést jiným způsobem (např. ručně), můžete vytvořit nový DataFrame libovolným způsobem. Pojmenujte jej `df_sum_intensities`, aby buňky pro vykreslení fungovaly."
   ]
  },
  {
   "cell_type": "code",
   "execution_count": null,
   "metadata": {},
   "outputs": [],
   "source": [
    "import numpy as np\n",
    "\n",
    "# Vyřaďte slitiny, tj. vzorky s více prvky, z výše uvedeného DataFrame.\n",
    "# Technicky vzato vyřadíme vzorky se stejným ID vzorku ('Vzorek') a vícero hodnotami ve sloupci 'Prvek'.\n",
    "# Seskupme podle Vzorku a Prvku a spočítejme počet prvků na vzorek.\n",
    "sample_element_counts = df.groupby('Vzorek')['Prvek'].nunique()\n",
    "\n",
    "# Vyberme vzorky, které obsahují právě jeden prvek.\n",
    "single_element_samples = sample_element_counts[sample_element_counts == 1].index\n",
    "\n",
    "# Vyfiltrujme DataFrame - zachovejme pouze ony jednoprvkové vzorky.\n",
    "df_single_element = df[df['Vzorek'].isin(single_element_samples)]\n",
    "\n",
    "# Vyfiltrujme DataFrame - zachovejme pouze vzorky s naměřenou K-sérií.\n",
    "df_single_element = df_single_element[df_single_element['Čára'].str.contains('K')]\n",
    "\n",
    "# Pro každý vzorek spočítejme sumu intenzit alfa a beta čar.\n",
    "# Vytvořme nový DataFrame s jedním řádkem pro každý vzorek, kde intenzita je již sumou intenzit alfa a beta čar s řádně šířenou nejistotou.\n",
    "df_sum_intensities = (df_single_element.groupby('Vzorek', as_index=False)\n",
    "                     .agg({\n",
    "                         'Prvek': 'first',\n",
    "                         'Z': 'first',\n",
    "                         'Intenzita [1/s]': 'sum',\n",
    "                         'Nejistota Int. [1/s]': lambda x: np.sqrt(np.sum(x**2))\n",
    "                     }))\n",
    "\n",
    "# Nakonec vyřaďme prvky, které z různých důvodů vypadají podezřele. V tomto příkladu jde o Fe a Zn:\n",
    "#  - Fe naměřená intenzita je velmi nízká, očividný \"outlier\"\n",
    "#  - Zn vzorek je na povrchu evidentně nehomogenní, pravděpodobně se jedná o pozinkovaný plech a část povrchové úpravy již není přítomna, tzn. ozářená plocha vzorku je dramaticky odlišná od dalších vzorků\n",
    "df_sum_intensities = df_sum_intensities.loc[~df_sum_intensities['Prvek'].isin(['Fe', 'Zn'])]\n",
    "\n",
    "# Vypišme výsledek filtrování a sumování.\n",
    "print(df_sum_intensities.to_string(index=False, col_space=10))\n"
   ]
  },
  {
   "cell_type": "code",
   "execution_count": null,
   "metadata": {},
   "outputs": [],
   "source": [
    "import matplotlib.pyplot as plt\n",
    "import matplotlib as mpl\n",
    "\n",
    "def plot(x, y, y_err, x_fit, y_fit, y_fit_lower, y_fit_upper, xlabel, ylabel):\n",
    "\n",
    "    # vykreslíme x a y s nejistotami\n",
    "    plt.errorbar(x, y, y_err, fmt='o', label='Data', color='black')\n",
    "\n",
    "    # vykreslíme fitovanou funkci a její interval nejistoty\n",
    "    plt.fill_between(x_fit, y_fit_lower, y_fit_upper, color='red', alpha=0.3)\n",
    "\n",
    "    # vytvoříme položku legendy pro fitovanou funkci a pro její interval nejistoty\n",
    "    line_with_band = mpl.lines.Line2D([], [], color='red', label='Fit', linestyle='-', linewidth=2)\n",
    "    band = mpl.patches.Patch(color='red', alpha=0.3, label='Fit uncertainty')\n",
    "\n",
    "    # získejme aktuální popisky a štítky (handles and labels) legendy \n",
    "    handles, labels = plt.gca().get_legend_handles_labels()\n",
    "    plt.legend(handles=handles + [(line_with_band, band)], labels=labels + ['Fit'])\n",
    "\n",
    "    # nakonec kreslíme\n",
    "    plt.plot(x_fit, y_fit, 'r-')\n",
    "    plt.xlabel(xlabel)\n",
    "    plt.ylabel(ylabel)\n",
    "    plt.show()\n",
    "\n",
    "    return"
   ]
  },
  {
   "cell_type": "code",
   "execution_count": null,
   "metadata": {},
   "outputs": [],
   "source": [
    "# Fitujme intenzitu v závislosti na Z pomocí mocninné funkce: $I = a Z^b$. Proč?\n",
    "# Určíme parametry $a$ a $b$ a jejich nejistoty.\n",
    "# Vykreslíme datové body a fitovanou funkci do stejného grafu.\n",
    "# Při výpočtu nejistoty fitované funkce nezapomeňme zohlednit korelaci mezi fitovanými parametry!\n",
    "\n",
    "from scipy.optimize import curve_fit\n",
    "import uncertainties\n",
    "import uncertainties.unumpy\n",
    "\n",
    "# Definujme mocninnou funkci.\n",
    "def power_law(Z, a, b):\n",
    "    return a * (Z**b)\n",
    "\n",
    "# Nafitujme mocninnou funkci na naše data.\n",
    "nom, cov = curve_fit(power_law, df_sum_intensities['Z'], df_sum_intensities['Intenzita [1/s]'], sigma=df_sum_intensities['Nejistota Int. [1/s]'], absolute_sigma=True)\n",
    "\n",
    "# Vypočítejme nejistoty fitovaných parametrů. Výsledky fitu vypišme.\n",
    "a, b = uncertainties.correlated_values(nom, cov)\n",
    "print(f'a = {a:.2uP}')\n",
    "print(f'b = {b:.2uP}')\n",
    "print(f'correlation coefficient: {cov[0, 1] / np.sqrt(cov[0, 0] * cov[1, 1]):.3f}')\n",
    "\n",
    "# Vypočítejme fitovanou funkci na celočíselných hodnotách Z.\n",
    "Z_fit = np.linspace(df_sum_intensities['Z'].min(), df_sum_intensities['Z'].max(), 100)\n",
    "I_fit = power_law(Z_fit, a, b)\n",
    "I_fit_nom = uncertainties.unumpy.nominal_values(I_fit)\n",
    "I_fit_std = uncertainties.unumpy.std_devs(I_fit)\n",
    "\n",
    "# Vykreslíme data a výslednou fitovanou funkci\n",
    "plot(df_sum_intensities['Z'], df_sum_intensities['Intenzita [1/s]'], df_sum_intensities['Nejistota Int. [1/s]'], \n",
    "     Z_fit, I_fit_nom, I_fit_nom - I_fit_std, I_fit_nom + I_fit_std, r'$Z$', r'$\\mathrm{Intenzita}\\ [s^{-1}]$')\n"
   ]
  },
  {
   "cell_type": "markdown",
   "metadata": {},
   "source": [
    "$\\color{red}{\\textbf{Úkol:}}$ Pro slitiny určete kvantitativně složení vzorků."
   ]
  },
  {
   "cell_type": "code",
   "execution_count": null,
   "metadata": {},
   "outputs": [],
   "source": [
    "# Sem vložte svůj kód.\n",
    "\n",
    "# Vyfiltrujme DataFrame - zachovejme pouze vzorky slitin.\n",
    "df_alloys = df[~df['Vzorek'].isin(single_element_samples)]\n",
    "\n",
    "# Vypišme nový DataFrame slitin.\n",
    "print(df_alloys.to_string(index=False, col_space=10))"
   ]
  },
  {
   "cell_type": "code",
   "execution_count": null,
   "metadata": {},
   "outputs": [],
   "source": [
    "# Se slitinami nedělejme nic složitého, prostě zkopírujme jejich hodnoty.\n",
    "\n",
    "# Vzorek 5: Ag + Cu\n",
    "I_Cu = uncertainties.ufloat(5.49, 0.19)\n",
    "I_Ag = uncertainties.ufloat(47.0, 0.3) + uncertainties.ufloat(13.4, 0.2)\n",
    "\n",
    "# Vypišme intenzity Cu a Ag ve slitině\n",
    "print(f'Intenzita Cu ve slitině: ({I_Cu:.2uP}) s⁻¹')\n",
    "print(f'Intenzita Ag ve slitině: ({I_Ag:.2uP}) s⁻¹')\n",
    "\n",
    "# Vypišme intenzity čistých vzorků Cu a Ag. Přístup je jiný, čistou měď jsme měřili, čisté stříbro nikoliv.\n",
    "I_Cu_ref = uncertainties.ufloat(34.2, 0.2) # naměřeno s čistým Cu vzorkem\n",
    "I_Ag_ref = power_law(47, a, b) # vyčísleno z fitované závislosti výtěžku na Z\n",
    "\n",
    "# Vypišme intenzity čistých vzorků Cu a Ag.\n",
    "print(f'Intenzita čistého vzorku Cu: ({I_Cu_ref:.2uP}) s⁻¹')\n",
    "print(f'Intenzita čistého vzorku Ag: ({I_Ag_ref:.2uP}) s⁻¹')\n",
    "\n",
    "# Spočítejme si normalizační faktor, protože uvažujeme frakce(Cu)+frakce(Ag)=1\n",
    "norm = I_Cu_ref*I_Ag_ref/(I_Ag_ref*I_Cu+I_Cu_ref*I_Ag)\n",
    "\n",
    "# Vypišme podíl Cu a Ag ve slitině.\n",
    "print(f'Frakce Cu ve slitině: {norm * I_Cu / (I_Cu_ref):.2uP}')\n",
    "print(f'Frakce Ag ve slitině: {norm * I_Ag / (I_Ag_ref):.2uP}')"
   ]
  },
  {
   "cell_type": "markdown",
   "metadata": {},
   "source": [
    "$\\color{red}{\\textbf{Úkol:}}$ Diskutuj měření a výsledky."
   ]
  },
  {
   "cell_type": "markdown",
   "metadata": {},
   "source": [
    "$\\color{red}{\\textbf{Řešení:}}$\n",
    "# Diskuse\n",
    "\n",
    "-> diskutujte zde <-"
   ]
  },
  {
   "cell_type": "markdown",
   "metadata": {},
   "source": [
    "$\\color{red}{\\textbf{Úkol:}}$ Sepiš Závěr."
   ]
  },
  {
   "cell_type": "markdown",
   "metadata": {},
   "source": [
    "$\\color{red}{\\textbf{Řešení:}}$\n",
    "# Závěr\n",
    "\n",
    "-> závěrujte zde <-"
   ]
  },
  {
   "cell_type": "markdown",
   "metadata": {},
   "source": [
    "# Literatura\n",
    "\n",
    "[1] Thompson, A. C., *et al.*, X-Ray Data Booklet, 3rd ed. (rev. 2009). Lawrence Berkeley National Laboratory, Berkeley, CA. Dostupné na https://xdb.lbl.gov/Section1/Table_1-2.pdf .\n",
    "\n",
    "[2] Basunia, M. S., Nucl. Data Sheets 107, 3323 (2006). DOI: 10.1016/j.nds.2006.07.001 , dostupné na https://www.nndc.bnl.gov/ensdf/ ."
   ]
  }
 ],
 "metadata": {
  "kernelspec": {
   "display_name": "praktikum",
   "language": "python",
   "name": "praktikum"
  },
  "language_info": {
   "codemirror_mode": {
    "name": "ipython",
    "version": 3
   },
   "file_extension": ".py",
   "mimetype": "text/x-python",
   "name": "python",
   "nbconvert_exporter": "python",
   "pygments_lexer": "ipython3",
   "version": "3.9.21"
  }
 },
 "nbformat": 4,
 "nbformat_minor": 4
}
