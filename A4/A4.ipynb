{
 "cells": [
  {
   "cell_type": "code",
   "execution_count": null,
   "metadata": {},
   "outputs": [],
   "source": [
    "# TODO: Replace the string \"Your Name\" and \"Date of measurement\" with the appropriate values.\n",
    "\n",
    "from header import header\n",
    "_ = header(student=\"Your Name\", date=\"Date of measurement\", task_no=4)"
   ]
  },
  {
   "cell_type": "markdown",
   "metadata": {},
   "source": [
    "$\\color{red}{\\textbf{IMPORTANT}}$ If you don't have all the necessary libraries installed, run the following cell:"
   ]
  },
  {
   "cell_type": "code",
   "execution_count": null,
   "metadata": {},
   "outputs": [],
   "source": [
    "!pip install numpy matplotlib scipy pandas uncertainties"
   ]
  },
  {
   "cell_type": "markdown",
   "metadata": {},
   "source": [
    "$\\color{red}{\\textbf{IMPORTANT}}$ If you don't have all the necessary input files locally, you can download them from GitHub: https://github.com/vojtechpleskot/physicslab4/tree/main/A4 \n",
    "\n",
    "If you are running this notebook on Google Colab or similar environment, you can download the files by running the following cell:"
   ]
  },
  {
   "cell_type": "code",
   "execution_count": null,
   "metadata": {},
   "outputs": [],
   "source": [
    "# Files with theory predictions.\n",
    "!wget https://raw.githubusercontent.com/vojtechpleskot/physicslab4/main/A4/Pb_theory_all.txt\n",
    "!wget https://raw.githubusercontent.com/vojtechpleskot/physicslab4/main/A4/Pb_attenuation_length.txt\n",
    "!wget https://raw.githubusercontent.com/vojtechpleskot/physicslab4/main/A4/Cd_attenuation_length.txt\n",
    "!wget https://raw.githubusercontent.com/vojtechpleskot/physicslab4/main/A4/Fe_attenuation_length.txt\n",
    "\n",
    "# To store files containing data, create a directory.\n",
    "!mkdir P-IV_A4_001\n",
    "\n",
    "!wget -P P-IV_A4_001 https://raw.githubusercontent.com/vojtechpleskot/physicslab4/main/A4/P-IV_A4_001/0.dat\n",
    "!wget -P P-IV_A4_001 https://raw.githubusercontent.com/vojtechpleskot/physicslab4/main/A4/P-IV_A4_001/Cd_0106.dat\n",
    "!wget -P P-IV_A4_001 https://raw.githubusercontent.com/vojtechpleskot/physicslab4/main/A4/P-IV_A4_001/Cd_0214.dat\n",
    "!wget -P P-IV_A4_001 https://raw.githubusercontent.com/vojtechpleskot/physicslab4/main/A4/P-IV_A4_001/Cd_0322.dat\n",
    "!wget -P P-IV_A4_001 https://raw.githubusercontent.com/vojtechpleskot/physicslab4/main/A4/P-IV_A4_001/Cd_0428.dat\n",
    "!wget -P P-IV_A4_001 https://raw.githubusercontent.com/vojtechpleskot/physicslab4/main/A4/P-IV_A4_001/Fe_0500.dat\n",
    "!wget -P P-IV_A4_001 https://raw.githubusercontent.com/vojtechpleskot/physicslab4/main/A4/P-IV_A4_001/Fe_1092.dat\n",
    "!wget -P P-IV_A4_001 https://raw.githubusercontent.com/vojtechpleskot/physicslab4/main/A4/P-IV_A4_001/Fe_1578.dat\n",
    "!wget -P P-IV_A4_001 https://raw.githubusercontent.com/vojtechpleskot/physicslab4/main/A4/P-IV_A4_001/Fe_2074.dat\n",
    "!wget -P P-IV_A4_001 https://raw.githubusercontent.com/vojtechpleskot/physicslab4/main/A4/P-IV_A4_001/Pb_0530.dat\n",
    "!wget -P P-IV_A4_001 https://raw.githubusercontent.com/vojtechpleskot/physicslab4/main/A4/P-IV_A4_001/Pb_0650.dat\n",
    "!wget -P P-IV_A4_001 https://raw.githubusercontent.com/vojtechpleskot/physicslab4/main/A4/P-IV_A4_001/Pb_0762.dat\n",
    "!wget -P P-IV_A4_001 https://raw.githubusercontent.com/vojtechpleskot/physicslab4/main/A4/P-IV_A4_001/Pb_0872.dat"
   ]
  },
  {
   "cell_type": "markdown",
   "metadata": {},
   "source": [
    "# Total gamma ray absorption coefficient"
   ]
  },
  {
   "cell_type": "markdown",
   "metadata": {},
   "source": [
    "# Introduction\n",
    "\n",
    "The process of attenuation of a gamma-ray beam in a medium cannot be considered continuous as is the case for heavy charged particles. In the interaction of a photon with electrons of an atomic shell of a medium, the photon either loses all its energy by the photoelectric effect or by the creation of electron-positron pairs, or part of it by Compton (incoherent) scattering. The creation of electron-positron pairs can naturally also occur in the field of the nucleus. In coherent scattering, the photon does not deposit energy but changes direction. In incoherent scattering, it also changes direction besides the energy loss. For the experiment, the consequence of these interactions is the attenuation of the gamma-ray beam when passing through a layer of material of thickness $t$ according to the relation:\n",
    "$$\n",
    "N = N_0 e^{-\\mu t},\n",
    "$$\n",
    "where $N_0$ is the number of gamma quanta incident on a layer of material of thickness $t$, $N$ is the number of photons with the original energy behind the layer of material, $\\mu$ is the absorption coefficient or linear attenuation coefficient with the dimension $\\mathrm{mm}^{-1}$.\n",
    "Since the dependence of the attenuation of the gamma-ray beam on the thickness of the material has an exponential character, there is always a non-zero probability that a gamma quantum will pass through any thickness of any material without interaction.\n",
    "Thus, for each given energy of incident photons, $E_\\gamma$, the free path of individual photons can differ significantly from the mean free path $1/\\mu(E_\\gamma)$.\n",
    "\n",
    "The interaction of electromagnetic radiation with matter is very well known. The individual cross-sections as a function of photon energy are, among other things, tabulated. The dependence of the absorption coefficient $\\mu$ on the energy of incident photons $E_\\gamma$ is shown for lead in the figure below (just run the python code). For specific experiments, it is often more practical to determine the attenuation of the beam experimentally (for a specific detector, geometry, ...) and possibly verify it using a computer simulation by the Monte Carlo method.\n",
    "For the interaction of photons with material, the \"nuclear photoelectric effect\" (i.e., photo-nuclear reactions - e.g., $(\\gamma, n)$) also has a non-zero effective cross-section. However, the effective cross-section of these reactions is negligible up to the initial photon energy on the order of ten MeV compared to the effective cross-sections of the above-mentioned interactions."
   ]
  },
  {
   "cell_type": "code",
   "execution_count": null,
   "metadata": {},
   "outputs": [],
   "source": [
    "import pandas as pd\n",
    "import matplotlib.pyplot as plt\n",
    "\n",
    "# Read in the theory values, and multiply them by the density of the material.\n",
    "# Convert units of E to keV and attenuation length to mm^-1.\n",
    "\n",
    "# Read.\n",
    "df = pd.read_csv('Pb_theory_all.txt', skiprows=3, sep='|', names=['E', 'sigma_R', 'sigma', 'tau', 'kappa_n', 'kappa_e', 'w', 'wo', ''])\n",
    "\n",
    "# Parameter scaling by density and conversion to mm^-1\n",
    "scale = 11.34 / 10\n",
    "\n",
    "# Convert energy to keV\n",
    "df['E']  *= 1000\n",
    "\n",
    "# Calculate the total electron-positron pair production cross section.\n",
    "df['kappa_tot'] = df['kappa_n'] + df['kappa_e']\n",
    "\n",
    "# Plot the curves.\n",
    "plt.plot(df['E'], df['w'] * scale, label=r'$\\mu_\\mathrm{with}$'   , color='black', linestyle='-')\n",
    "plt.plot(df['E'], df['wo'] * scale, label=r'$\\mu_\\mathrm{without}$', color='red', linestyle='-')\n",
    "plt.plot(df['E'], df['tau'] * scale, label=r'$\\tau$', color='gray', linestyle='-.')\n",
    "plt.plot(df['E'], df['sigma_R'] * scale, label=r'$\\sigma_\\mathrm{R}$', color='blue', linestyle=':')\n",
    "plt.plot(df['E'], df['sigma'] * scale, label=r'$\\sigma$', color='purple', linestyle='--')\n",
    "plt.plot(df['E'], df['kappa_tot'] * scale, label=r'$\\kappa$', color='green', linestyle='--')\n",
    "plt.xlabel(r'$E_\\gamma\\ [\\mathrm{keV}]$')\n",
    "plt.ylabel(r'$\\mu\\ [\\mathrm{mm}^{-1}]$')\n",
    "plt.title(f'Pb, Attenuation coefficient')\n",
    "plt.legend(ncol=2)\n",
    "plt.yscale('log')\n",
    "plt.ylim(1e-4, 1e2)\n",
    "plt.show()"
   ]
  },
  {
   "cell_type": "markdown",
   "metadata": {},
   "source": [
    "The figure above shows the dependence of the absorption coefficient $\\mu$ on the photon energy $E_\\gamma$ for lead. The graph distinguishes individual processes contributing to the attenuation of the photon beam in the measured energy range, specifically the photoelectric effect $\\tau$, coherent or Rayleigh scattering $\\sigma_\\mathrm{R}$, Compton scattering $\\sigma$, and electron-positron pair production $\\kappa$. The total attenuation of the beam is then described by two curves - with coherent scattering included as an attenuating process $\\mu_\\mathrm{with}$ and without it, $\\mu_\\mathrm{without}$. The curves are an interpolation of values from https://www.nist.gov/pml/xcom-photon-cross-sections-database"
   ]
  },
  {
   "cell_type": "markdown",
   "metadata": {},
   "source": [
    "# Experimental setup\n",
    "\n",
    "As a source of photons, $^{226}\\mathrm{Ra}$ emitter is used. The number of photons transmitted as a function of energy is measured using a semiconductor germanium detector connected to a computer with operating software. The slot in the stand between the emitter and the detector is used to insert layers of individual materials.\n",
    "\n"
   ]
  },
  {
   "cell_type": "markdown",
   "metadata": {},
   "source": [
    "# Measurement\n",
    "\n",
    "The measurement time for each material is typically set to 250 or 300 seconds. The measurement proceeds in the following steps:\n",
    "- The $^{226}\\mathrm{Ra}$ spectrum is measured without any shielding.\n",
    "  - The resulting spectrum is used for the spectrometer calibration. Energies of the intense $^{226}\\mathrm{Ra}$ lines are well known, and they are assigned to the corresponding peak locations in the spectrum.\n",
    "- Twelve more measurements of the spectrum are performed:\n",
    "  - For four different thicknesses of three different materials - Cd, Pb, Fe.\n",
    "    - There are several plates of each material that can be gradually stacked in the slot between the radioactive source and the detector.\n",
    "  - Thanks to this, we get the spectrum measurement for five different thicknesses of the shielding for each material, as the measurement without shielding (i.e. thickness of 0 mm) is also included, and it is common for all materials.\n",
    "- In each spectrum, 15 peaks are identified and the number of events in each peak is determined.\n",
    "  - The number of events in each peak is determined by the software used to control the spectrometer.\n",
    "    - The number of events in each peak is corrected for the background.\n",
    "  - The software also provides the energy of each peak.\n",
    "  - The number of events in each peak decreases exponentially with the thickness of the shielding.\n",
    "    - Recall the formula $N = N_0 e^{-\\mu t}$.\n",
    "    - Recall that the attenuation coefficient is a function of the energy of the photons: $\\mu = \\mu(E_\\gamma)$.\n",
    "      - The predefined 15 peaks correspond to 15 different photon energies. Thus, we can measure the attenuation coefficient for 15 different energies at the same time.\n",
    "  - The 15 peaks are predefined based on their intensity. We would need longer that 300 s measurements to be able to use more peaks in the $^{226}\\mathrm{Ra}$ spectrum.\n",
    "- In each spectrum, there is also the omnipresent 1460 keV peak from the decay of $^{40}\\mathrm{K}$.\n",
    "  - $^{40}\\mathrm{K}$ is a common source of background.\n",
    "  - Being background, photons from $^{40}\\mathrm{K}$ decays are coming to the detector from all directions. Therefore, the number of events in the 1460 keV peak is not affected by the thickness of the shielding."
   ]
  },
  {
   "cell_type": "markdown",
   "metadata": {},
   "source": [
    "$\\color{red}{\\textbf{Task:}}$ Read the measured data from the provided text files. Print the data corresponding to no shielding as a table. The data are summarized information about the 15 predefined peaks. For each peak, there is:\n",
    "- the energy of the peak,\n",
    "- the number of events in the peak."
   ]
  },
  {
   "cell_type": "code",
   "execution_count": null,
   "metadata": {},
   "outputs": [],
   "source": [
    "# Insert your code here\n",
    "\n",
    "import pandas as pd\n",
    "import numpy as np\n",
    "\n",
    "# Read in the data from the .dat file and store it in a pandas dataframe.\n",
    "# The data is stored in format separated by blank spaces.\n",
    "# Preprocess the file so that each row with less than 7 columns is filled with NaN values.\n",
    "# For preprocessing, read the file line by line and split the line by the separator.\n",
    "def read_data(file):\n",
    "    with open(file, 'r') as f:\n",
    "        lines = f.readlines()\n",
    "\n",
    "    # Write the updated lines to a new file\n",
    "    with open(file + '.2', 'w') as f:\n",
    "        for line in lines:\n",
    "            row = line.split()\n",
    "            if len(row) < 7:\n",
    "                row += [\"NaN\"] * (7 - len(row))\n",
    "            f.write(','.join(row) + '\\n')\n",
    "    \n",
    "    # Store the data in a pandas dataframe\n",
    "    data = pd.read_csv(file + '.2', sep=',', header=None, skiprows=1)\n",
    "\n",
    "    # Keep just the first 7 columns of the dataframe\n",
    "    data = data.iloc[:, 0:7]\n",
    "\n",
    "    # Rename the columns of the dataframe to the following:\n",
    "    data.columns = ['PN', 'E', 'FWHM', 'N', 'B', 'Net C/S', '%Err']\n",
    "\n",
    "    return data\n",
    "\n",
    "    \n",
    "# Read the data corresponding to no shielding.\n",
    "data0 = read_data('P-IV_A4_001/0.dat')\n",
    "\n",
    "# Print data0 to see whether the format is correct.\n",
    "print(data0)\n",
    "\n",
    "# Read in data from the following files in exactly the same way:\n",
    "#              Cd_0214.dat  Cd_0428.dat  Fe_0500.dat  Fe_1578.dat  Pb_0530.dat  Pb_0762.dat  \n",
    "# Cd_0106.dat  Cd_0322.dat  Fe_1092.dat  Fe_2074.dat  Pb_0650.dat  Pb_0872.dat  \n",
    "# All dataframes are stored in a dictionary with the keys being Cd, Fe, Pb.\n",
    "# The values are dictionaries: {thickness: dataframe, thickness: dataframe, ...}\n",
    "# where thickness is the thickness of the shielding in 10e-5 m and dataframe is the dataframe.\n",
    "# The thickness is the number in the file name before the .dat extension.\n",
    "\n",
    "files = ['P-IV_A4_001/Cd_0106.dat', 'P-IV_A4_001/Cd_0214.dat', 'P-IV_A4_001/Cd_0322.dat', 'P-IV_A4_001/Cd_0428.dat', 'P-IV_A4_001/Fe_0500.dat', 'P-IV_A4_001/Fe_1092.dat', 'P-IV_A4_001/Fe_1578.dat', 'P-IV_A4_001/Fe_2074.dat', 'P-IV_A4_001/Pb_0530.dat', 'P-IV_A4_001/Pb_0650.dat', 'P-IV_A4_001/Pb_0762.dat', 'P-IV_A4_001/Pb_0872.dat']\n",
    "data_dict = {}\n",
    "for file in files:\n",
    "    element = file.split('/')[-1].split('_')[0]\n",
    "    thickness = int(file.split('_')[-1].split('.')[0]) / 100.\n",
    "    data = read_data(file)\n",
    "    if element not in data_dict:\n",
    "        data_dict[element] = {0. : data0} # Store the data with no shielding to the first element of the list\n",
    "    data_dict[element][thickness] = data\n"
   ]
  },
  {
   "cell_type": "markdown",
   "metadata": {},
   "source": [
    "$\\color{red}{\\textbf{Task:}}$ Read the theoretic values of the attenuation coefficients of gamma rays in Fe, Cd, and Pb from text files that were provided by the online database https://www.nist.gov/pml/xcom-photon-cross-sections-database Note that the attenuation coefficients are given in $\\mathrm{cm}^2/\\mathrm{g}$. Multiply it by the density of the material to get the attenuation coefficient in $\\mathrm{cm}^{-1}$. Convert units to $\\mathrm{mm}^{-1}$. Plot the theoretical dependence of the attenuation coefficient on the energy of gamma rays for each material. The plot should contain two curves for each material - with coherent scattering included as an attenuating process and without it."
   ]
  },
  {
   "cell_type": "code",
   "execution_count": null,
   "metadata": {},
   "outputs": [],
   "source": [
    "# Insert your code here\n",
    "\n",
    "import pandas as pd\n",
    "import matplotlib.pyplot as plt\n",
    "\n",
    "def read_attenuation_length(file):\n",
    "    return pd.read_csv(file, skiprows=3, sep='|', names=['E', 'w', 'wo', ''])\n",
    "\n",
    "# Read in the data to the theory dictionary, and multiply by the density of the material.\n",
    "# Convert units of E to keV and attenuation length to mm^-1.\n",
    "density = {'Cd': 8.65, 'Fe': 7.86, 'Pb': 11.34}\n",
    "theory = {}\n",
    "for element in data_dict:\n",
    "    df = read_attenuation_length(f'{element}_attenuation_length.txt')\n",
    "    df['E']  *= 1000 # Convert to keV\n",
    "    df['w']  *= density[element] / 10 # Scale by density and convert to mm^-1\n",
    "    df['wo'] *= density[element] / 10 # Scale by density and convert to mm^-1\n",
    "    theory[element] = df\n",
    "\n",
    "# Plot the curves.\n",
    "for element in theory:\n",
    "    df = theory[element]\n",
    "    plt.plot(df['E'], df['w'] , label='With c. s.'   , color='black')\n",
    "    plt.plot(df['E'], df['wo'], label='Without c. s.', color='red')\n",
    "    plt.xlabel('Energy [keV]')\n",
    "    plt.ylabel(r'$\\mu\\ [\\mathrm{mm}^{-1}]$')\n",
    "    plt.title(f'{element}, Attenuation coefficient')\n",
    "    plt.legend()\n",
    "    plt.show()"
   ]
  },
  {
   "cell_type": "markdown",
   "metadata": {},
   "source": [
    "For plotting data together with the fitted curve, the following python function can be handy:"
   ]
  },
  {
   "cell_type": "code",
   "execution_count": null,
   "metadata": {},
   "outputs": [],
   "source": [
    "import matplotlib.pyplot as plt\n",
    "import matplotlib as mpl\n",
    "\n",
    "def plot(x, y, y_err, x_fit, y_fit, y_fit_lower, y_fit_upper, xlabel, ylabel, title = ''):\n",
    "\n",
    "    # draw x, y with error bars\n",
    "    plt.errorbar(x, y, y_err, fmt='o', label='Data', color='black')\n",
    "\n",
    "    # draw the fit function and its uncertainty band\n",
    "    plt.fill_between(x_fit, y_fit_lower, y_fit_upper, color='red', alpha=0.3)\n",
    "\n",
    "    # create a legend entry for the fit function and its uncertainty band\n",
    "    line_with_band = mpl.lines.Line2D([], [], color='red', label='Fit', linestyle='-', linewidth=2)\n",
    "    band = mpl.patches.Patch(color='red', alpha=0.3, label='Fit uncertainty')\n",
    "\n",
    "    # get the current legend handles and labels\n",
    "    handles, labels = plt.gca().get_legend_handles_labels()\n",
    "    plt.legend(handles=handles + [(line_with_band, band)], labels=labels + ['Fit'])\n",
    "\n",
    "    # finally, plot\n",
    "    plt.plot(x_fit, y_fit, 'r-')\n",
    "    plt.xlabel(xlabel)\n",
    "    plt.ylabel(ylabel)\n",
    "    if title != '':\n",
    "        plt.title(title)\n",
    "    plt.show()\n",
    "\n",
    "    return"
   ]
  },
  {
   "cell_type": "markdown",
   "metadata": {},
   "source": [
    "$\\color{red}{\\textbf{Task:}}$ For each shielding material (Fe, Cd, Pb), and for each peak, determine the attenuation coefficient $\\mu$:\n",
    "- Fit the graph of the number of events in the peak, $N$, vs. the shielding thickness.\n",
    "  - There are five points in the graph: no shielding and four different thicknesses of the shielding.\n",
    "  - The fit function is $N = N_0 e^{-\\mu t}$.\n",
    "  - Plot the data and the fitted curve for two peaks of your choice for each material.\n",
    "- Store the attenuation coefficient $\\mu$, and the corresponding energy for each peak.\n",
    "  - E.g. in a dictionary with the energy as the key and the attenuation coefficient as the value."
   ]
  },
  {
   "cell_type": "code",
   "execution_count": null,
   "metadata": {},
   "outputs": [],
   "source": [
    "\n",
    "# Do the following for each element in the dictionary:\n",
    "# - Create a new dataframe with the following columns:\n",
    "#   - PN\n",
    "#   - E\n",
    "#   - mu\n",
    "#   - mu_unc\n",
    "# mu is the linear attenuation coefficient in mm^-1 and mu_unc is the uncertainty on mu.\n",
    "# mu is evaluated in a fit of the form N = N0 * exp(-mu * thickness)\n",
    "# where N is the net counts in a peak, N0 is the net counts with no shielding, and thickness is the thickness of the shielding.\n",
    "# The uncertainty in N, estimated as sqrt(N), is taken into account in the fit.\n",
    "# The uncertainty in mu is calculated in the fitting algorithm.\n",
    "\n",
    "import numpy as np\n",
    "from scipy.optimize import curve_fit\n",
    "import uncertainties\n",
    "\n",
    "def fit_func(x, mu, N0):\n",
    "    return N0 * np.exp(-mu * x)\n",
    "\n",
    "# Store the fit results - the mu values and their uncertainties - in a dictionary together with the corresponding energies.\n",
    "fit_results = {element : {} for element in data_dict}\n",
    "\n",
    "for element in data_dict:\n",
    "    for irow in range(16):\n",
    "        if irow == 10: # Skip the row with the potassium 40 background peak\n",
    "            continue\n",
    "        thickness = np.array(sorted(data_dict[element].keys()))\n",
    "        N         = np.array([data_dict[element][t].loc[irow, 'N'] for t in thickness])\n",
    "\n",
    "        try:\n",
    "            nom, cov = curve_fit(fit_func, thickness, N, sigma=np.sqrt(N), absolute_sigma=True)\n",
    "            mu = nom[0]\n",
    "            mu_unc = np.sqrt(cov[0, 0])\n",
    "        except:\n",
    "            mu = np.nan\n",
    "            mu_unc = np.nan\n",
    "    \n",
    "        # Store the fit result\n",
    "        energy = data_dict[element][0.].loc[irow, 'E']\n",
    "        fit_results[element][energy] = uncertainties.ufloat(mu, mu_unc)\n",
    "\n",
    "        # Prepare the fit result plotting\n",
    "        x = np.linspace(thickness.min(), thickness.max(), 100)\n",
    "        mu, N0 = uncertainties.correlated_values(nom, cov)\n",
    "        wrapped_exp = uncertainties.wrap(fit_func)\n",
    "        y_fit_list = [wrapped_exp(x, mu, N0) for x in x]\n",
    "        y_fit      = np.array([y.nominal_value for y in y_fit_list])\n",
    "        sigma_fit  = np.array([y.std_dev       for y in y_fit_list])\n",
    "\n",
    "        # Plot the data and the fit function with its uncertainty band\n",
    "        title = f'Element: {element}, Energy: {data_dict[element][0.].loc[irow, \"E\"]} keV'\n",
    "        if irow in [8, 15]:\n",
    "            plot(thickness, N, np.sqrt(N), x, y_fit, y_fit - sigma_fit, y_fit + sigma_fit, 'Thickness [mm]', 'Net Counts', title)\n",
    "            print(f'{title}, Mu: {mu} mm^-1')\n",
    "\n",
    "\n"
   ]
  },
  {
   "cell_type": "markdown",
   "metadata": {},
   "source": [
    "$\\color{red}{\\textbf{Task:}}$ Print a table with the attenuation coefficients for each energy and each material. Also include the half-value layer (HVL), $t_{1/2}$, for each energy and each material. The HVL is defined as the thickness of the material that reduces the intensity of the gamma-ray beam to half of its initial value. The HVL can be calculated as:\n",
    "$$\n",
    "t_{1/2} = \\frac{\\ln(2)}{\\mu}.\n",
    "$$"
   ]
  },
  {
   "cell_type": "code",
   "execution_count": null,
   "metadata": {},
   "outputs": [],
   "source": [
    "# Python DataFrame is suitable for presenting the results.\n",
    "\n",
    "df = pd.DataFrame(fit_results)\n",
    "df = df.rename_axis('Energy [keV]').reset_index()\n",
    "\n",
    "for element in data_dict:\n",
    "    df[f't_{element} [mm]'] = np.log(2) / df[element]\n",
    "\n",
    "df = df.rename(columns={'Cd': 'mu_Cd [mm^-1]', 'Fe': 'mu_Fe [mm^-1]', 'Pb': 'mu_Pb [mm^-1]'})\n",
    "print(df)\n"
   ]
  },
  {
   "cell_type": "markdown",
   "metadata": {},
   "source": [
    "$\\color{red}{\\textbf{Task:}}$ For each material, plot the attenuation coefficient as a function of the energy of gamma rays.\n",
    "- Plot the theoretical values of the attenuation coefficients on the same graph.\n",
    "  - Two curves: with coherent scattering included as an attenuating process and without it.\n",
    "- Display the measured values as points, and their uncertainties as vertical error bars."
   ]
  },
  {
   "cell_type": "code",
   "execution_count": null,
   "metadata": {},
   "outputs": [],
   "source": [
    "# Insert your code here\n",
    "\n",
    "for element in fit_results:\n",
    "\n",
    "    energies = np.array(sorted(fit_results[element].keys()))\n",
    "    # Remove elements around 1460 from energies (the potassium 40 peak)\n",
    "    energies = np.delete(energies, np.where((energies > 1450) & (energies < 1470)))\n",
    "\n",
    "    # Plot the data.\n",
    "    mus = np.array([fit_results[element][e].nominal_value for e in energies])\n",
    "    mus_unc = np.array([fit_results[element][e].std_dev for e in energies])\n",
    "    plt.errorbar(energies, mus, mus_unc, fmt='o', label='Data', color='black')\n",
    "\n",
    "    # Plot the theory curves.\n",
    "    df = theory[element]\n",
    "    plt.plot(df['E'], df['w'] , label='With c. s.'   , color='black')\n",
    "    plt.plot(df['E'], df['wo'], label='Without c. s.', color='red')\n",
    "\n",
    "    # Labels etc.\n",
    "    plt.xlabel('Energy [keV]')\n",
    "    plt.ylabel(r'$\\mu\\ [\\mathrm{mm}^{-1}]$')\n",
    "    plt.title(f'{element}')\n",
    "    plt.legend()\n",
    "    x = np.linspace(energies.min(), energies.max(), 100)\n",
    "    plt.show()\n"
   ]
  },
  {
   "cell_type": "markdown",
   "metadata": {},
   "source": [
    "$\\color{red}{\\textbf{Task:}}$ Discuss the results:\n",
    "- Compare the measured and theoretical values of the attenuation coefficients.\n",
    "- Discuss the uncertainty determination of the measured values.\n",
    "  - Are some effects neglected in the uncertainty determination?\n",
    "    - Discuss the influence of the apparatus geometry on the measurement results (in relation to any possible systematic trends in the measured values)."
   ]
  },
  {
   "cell_type": "markdown",
   "metadata": {},
   "source": [
    "$\\color{red}{\\textbf{Solution}}$ "
   ]
  },
  {
   "cell_type": "markdown",
   "metadata": {},
   "source": [
    "$\\color{red}{\\textbf{Task:}}$ For the $^{40}\\mathrm{K}$ background peak (1460 keV):\n",
    "- Make a graph of the number of events in the peak as a function of the thickness of the shielding.\n",
    "  - Show the data from all measurements (Fe, Cd, Pb) in the same graph.\n",
    "- Fit the graph with a constant function."
   ]
  },
  {
   "cell_type": "code",
   "execution_count": null,
   "metadata": {},
   "outputs": [],
   "source": [
    "# Insert your code here\n",
    "\n",
    "# Check the index of the row with the potassium 40 peak, based on the energy.\n",
    "idx = data_dict['Cd'][0.][data_dict['Cd'][0.]['E'].between(1450, 1470)].index[0]\n",
    "\n",
    "# Check if we found the correct peak by printing its energy\n",
    "print(f\"Found peak at energy {data_dict['Cd'][0.].loc[idx, 'E']} keV\")\n",
    "\n",
    "# Plot N vs thickness for the potassium 40 peak for each material\n",
    "for element in data_dict:\n",
    "    thickness = np.array(sorted(data_dict[element].keys()))\n",
    "    N = np.array([data_dict[element][t].loc[idx, 'N'] for t in thickness])\n",
    "    plt.errorbar(thickness, N, yerr=np.sqrt(N), fmt='o', label=element)\n",
    "\n",
    "# Fit with a constant function\n",
    "def fit_func(x, c):\n",
    "    return c * np.ones_like(x)\n",
    "\n",
    "# Combine all data points for the fit\n",
    "all_N = []\n",
    "all_thickness = []\n",
    "all_N_err = []\n",
    "for element in data_dict:\n",
    "    thickness = np.array(sorted(data_dict[element].keys()))\n",
    "    N = np.array([data_dict[element][t].loc[idx, 'N'] for t in thickness])\n",
    "    all_N.extend(N)\n",
    "    all_thickness.extend(thickness)\n",
    "    all_N_err.extend(np.sqrt(N))\n",
    "\n",
    "all_N = np.array(all_N)\n",
    "all_thickness = np.array(all_thickness)\n",
    "all_N_err = np.array(all_N_err)\n",
    "\n",
    "# Do the fit\n",
    "nom, cov = curve_fit(fit_func, all_thickness, all_N, sigma=all_N_err, absolute_sigma=True)\n",
    "c = uncertainties.ufloat(nom[0], np.sqrt(cov[0, 0]))\n",
    "\n",
    "# Plot the fit result\n",
    "x = np.linspace(0, max(all_thickness), 100)\n",
    "plt.plot(x, fit_func(x, c.nominal_value), 'r-')\n",
    "\n",
    "# draw the fit function uncertainty band\n",
    "plt.fill_between(x, fit_func(x, c.nominal_value - c.std_dev), fit_func(x, c.nominal_value + c.std_dev), color='red', alpha=0.3)\n",
    "\n",
    "plt.xlabel('Thickness [mm]')\n",
    "plt.ylabel('Net Counts')\n",
    "plt.title('K-40 peak (1461 keV)')\n",
    "\n",
    "\n",
    "# create a legend entry for the fit function and its uncertainty band\n",
    "line_with_band = mpl.lines.Line2D([], [], color='red', label='Fit', linestyle='-', linewidth=2)\n",
    "band = mpl.patches.Patch(color='red', alpha=0.3, label='Fit uncertainty')\n",
    "\n",
    "# get the current legend handles and labels\n",
    "handles, labels = plt.gca().get_legend_handles_labels()\n",
    "plt.legend(handles=handles + [(line_with_band, band)], labels=labels + ['Fit'])\n",
    "\n",
    "plt.show()\n",
    "\n",
    "# Print the fit result\n",
    "print(f'K-40 peak (1461 keV) fit result: c = {c}')\n"
   ]
  },
  {
   "cell_type": "markdown",
   "metadata": {},
   "source": [
    "$\\color{red}{\\textbf{Task:}}$ Discuss the results obtained for the $^{40}\\mathrm{K}$ background peak (1461 keV)."
   ]
  },
  {
   "cell_type": "markdown",
   "metadata": {},
   "source": [
    "$\\color{red}{\\textbf{Solution:}}$"
   ]
  }
 ],
 "metadata": {
  "kernelspec": {
   "display_name": "praktikum",
   "language": "python",
   "name": "praktikum"
  },
  "language_info": {
   "codemirror_mode": {
    "name": "ipython",
    "version": 3
   },
   "file_extension": ".py",
   "mimetype": "text/x-python",
   "name": "python",
   "nbconvert_exporter": "python",
   "pygments_lexer": "ipython3",
   "version": "3.9.21"
  }
 },
 "nbformat": 4,
 "nbformat_minor": 4
}
