{
 "cells": [
  {
   "cell_type": "code",
   "execution_count": null,
   "metadata": {},
   "outputs": [],
   "source": [
    "# TODO: Replace the string \"Your Name\" and \"Date of measurement\" with the appropriate values.\n",
    "\n",
    "from header import header\n",
    "_ = header(student=\"Your Name\", date=\"Date of measurement\", task_no=4)"
   ]
  },
  {
   "cell_type": "markdown",
   "metadata": {},
   "source": [
    "$\\color{red}{\\textbf{DŮLEŽITÉ}}$ Pokud nemáte nainstalované všechny potřebné knihovny, spusťte následující buňku:"
   ]
  },
  {
   "cell_type": "code",
   "execution_count": null,
   "metadata": {},
   "outputs": [],
   "source": [
    "!pip install numpy matplotlib scipy pandas uncertainties"
   ]
  },
  {
   "cell_type": "markdown",
   "metadata": {},
   "source": [
    "$\\color{red}{\\textbf{DŮLEŽITÉ}}$ Pokud nemáte všechny potřebné vstupní soubory lokálně, můžete si je stáhnout z GitHubu: https://github.com/vojtechpleskot/physicslab4/tree/main/A4 \n",
    "\n",
    "Pokud spouštíte tento notebook v Google Colab nebo podobném prostředí, můžete soubory stáhnout spuštěním následující buňky:"
   ]
  },
  {
   "cell_type": "code",
   "execution_count": null,
   "metadata": {},
   "outputs": [],
   "source": [
    "# Files with theory predictions.\n",
    "!wget https://raw.githubusercontent.com/vojtechpleskot/physicslab4/main/A4/Pb_theory_all.txt\n",
    "!wget https://raw.githubusercontent.com/vojtechpleskot/physicslab4/main/A4/Pb_attenuation_length.txt\n",
    "!wget https://raw.githubusercontent.com/vojtechpleskot/physicslab4/main/A4/Cd_attenuation_length.txt\n",
    "!wget https://raw.githubusercontent.com/vojtechpleskot/physicslab4/main/A4/Fe_attenuation_length.txt\n",
    "\n",
    "# To store files containing data, create a directory.\n",
    "!mkdir P-IV_A4_001\n",
    "\n",
    "!wget -P P-IV_A4_001 https://raw.githubusercontent.com/vojtechpleskot/physicslab4/main/A4/P-IV_A4_001/0.dat\n",
    "!wget -P P-IV_A4_001 https://raw.githubusercontent.com/vojtechpleskot/physicslab4/main/A4/P-IV_A4_001/Cd_0106.dat\n",
    "!wget -P P-IV_A4_001 https://raw.githubusercontent.com/vojtechpleskot/physicslab4/main/A4/P-IV_A4_001/Cd_0214.dat\n",
    "!wget -P P-IV_A4_001 https://raw.githubusercontent.com/vojtechpleskot/physicslab4/main/A4/P-IV_A4_001/Cd_0322.dat\n",
    "!wget -P P-IV_A4_001 https://raw.githubusercontent.com/vojtechpleskot/physicslab4/main/A4/P-IV_A4_001/Cd_0428.dat\n",
    "!wget -P P-IV_A4_001 https://raw.githubusercontent.com/vojtechpleskot/physicslab4/main/A4/P-IV_A4_001/Fe_0500.dat\n",
    "!wget -P P-IV_A4_001 https://raw.githubusercontent.com/vojtechpleskot/physicslab4/main/A4/P-IV_A4_001/Fe_1092.dat\n",
    "!wget -P P-IV_A4_001 https://raw.githubusercontent.com/vojtechpleskot/physicslab4/main/A4/P-IV_A4_001/Fe_1578.dat\n",
    "!wget -P P-IV_A4_001 https://raw.githubusercontent.com/vojtechpleskot/physicslab4/main/A4/P-IV_A4_001/Fe_2074.dat\n",
    "!wget -P P-IV_A4_001 https://raw.githubusercontent.com/vojtechpleskot/physicslab4/main/A4/P-IV_A4_001/Pb_0530.dat\n",
    "!wget -P P-IV_A4_001 https://raw.githubusercontent.com/vojtechpleskot/physicslab4/main/A4/P-IV_A4_001/Pb_0650.dat\n",
    "!wget -P P-IV_A4_001 https://raw.githubusercontent.com/vojtechpleskot/physicslab4/main/A4/P-IV_A4_001/Pb_0762.dat\n",
    "!wget -P P-IV_A4_001 https://raw.githubusercontent.com/vojtechpleskot/physicslab4/main/A4/P-IV_A4_001/Pb_0872.dat"
   ]
  },
  {
   "cell_type": "markdown",
   "metadata": {},
   "source": [
    "# Celkový absorpční koeficient gama záření"
   ]
  },
  {
   "cell_type": "markdown",
   "metadata": {},
   "source": [
    "# Úvod\n",
    "\n",
    "Proces zeslabení svazku gama záření v prostředí nelze považovat za spojitý, jak je tomu u těžkých nabitých částic. Při interakci fotonu s elektrony atomového obalu prostředí buď foton ztratí veškerou svou energii fotoelektrickým jevem nebo tvorbou elektron-pozitronových párů, nebo její část Comptonovým (nekoherentním) rozptylem. Tvorba elektron-pozitronových párů může přirozeně probíhat také v poli jádra. Při koherentním rozptylu foton nedeponuje energii, ale mění směr. Při nekoherentním rozptylu kromě ztráty energie také mění směr. Důsledkem těchto interakcí pro experiment je zeslabení svazku gama záření při průchodu vrstvou materiálu tloušťky $t$ podle vztahu:\n",
    "$$\n",
    "N = N_0 e^{-\\mu t},\n",
    "$$\n",
    "kde $N_0$ je počet gama kvant dopadajících na vrstvu materiálu tloušťky $t$, $N$ je počet fotonů s původní energií za vrstvou materiálu, $\\mu$ je absorpční koeficient nebo lineární zeslabovací koeficient s rozměrem $\\mathrm{mm}^{-1}$.\n",
    "Protože závislost zeslabení svazku gama záření na tloušťce materiálu má exponenciální charakter, vždy existuje nenulová pravděpodobnost, že gama kvantum projde jakoukoli tloušťkou jakéhokoli materiálu bez interakce.\n",
    "Pro každou danou energii dopadajících fotonů $E_\\gamma$ se tak může volná dráha jednotlivých fotonů významně lišit od střední volné dráhy $1/\\mu(E_\\gamma)$.\n",
    "\n",
    "Interakce elektromagnetického záření s hmotou je velmi dobře známa. Jednotlivé účinné průřezy jako funkce energie fotonu jsou mimo jiné tabelovány. Závislost absorpčního koeficientu $\\mu$ na energii dopadajících fotonů $E_\\gamma$ je ukázána pro olovo na níže uvedeném obrázku (stačí spustit python kód). Pro konkrétní experimenty je často praktičtější určit zeslabení svazku experimentálně (pro konkrétní detektor, geometrii, ...) a případně jej ověřit pomocí počítačové simulace metodou Monte Carlo.\n",
    "Pro interakci fotonů s materiálem má také nenulový účinný průřez \"jaderný fotoelektrický jev\" (tj. foto-jaderné reakce - např. $(\\gamma, n)$). Účinný průřez těchto reakcí je však zanedbatelný až do počáteční energie fotonu řádově desítky MeV ve srovnání s účinnými průřezy výše zmíněných interakcí."
   ]
  },
  {
   "cell_type": "code",
   "execution_count": null,
   "metadata": {},
   "outputs": [],
   "source": [
    "import pandas as pd\n",
    "import matplotlib.pyplot as plt\n",
    "\n",
    "# Read in the theory values, and multiply them by the density of the material.\n",
    "# Convert units of E to keV and attenuation length to mm^-1.\n",
    "\n",
    "# Read.\n",
    "df = pd.read_csv('Pb_theory_all.txt', skiprows=3, sep='|', names=['E', 'sigma_R', 'sigma', 'tau', 'kappa_n', 'kappa_e', 'w', 'wo', ''])\n",
    "\n",
    "# Parameter scaling by density and conversion to mm^-1\n",
    "scale = 11.34 / 10\n",
    "\n",
    "# Convert energy to keV\n",
    "df['E']  *= 1000\n",
    "\n",
    "# Calculate the total electron-positron pair production cross section.\n",
    "df['kappa_tot'] = df['kappa_n'] + df['kappa_e']\n",
    "\n",
    "# Plot the curves.\n",
    "plt.plot(df['E'], df['w'] * scale, label=r'$\\mu_\\mathrm{with}$'   , color='black', linestyle='-')\n",
    "plt.plot(df['E'], df['wo'] * scale, label=r'$\\mu_\\mathrm{without}$', color='red', linestyle='-')\n",
    "plt.plot(df['E'], df['tau'] * scale, label=r'$\\tau$', color='gray', linestyle='-.')\n",
    "plt.plot(df['E'], df['sigma_R'] * scale, label=r'$\\sigma_\\mathrm{R}$', color='blue', linestyle=':')\n",
    "plt.plot(df['E'], df['sigma'] * scale, label=r'$\\sigma$', color='purple', linestyle='--')\n",
    "plt.plot(df['E'], df['kappa_tot'] * scale, label=r'$\\kappa$', color='green', linestyle='--')\n",
    "plt.xlabel(r'$E_\\gamma\\ [\\mathrm{keV}]$')\n",
    "plt.ylabel(r'$\\mu\\ [\\mathrm{mm}^{-1}]$')\n",
    "plt.title(f'Pb, Attenuation coefficient')\n",
    "plt.legend(ncol=2)\n",
    "plt.yscale('log')\n",
    "plt.ylim(1e-4, 1e2)\n",
    "plt.show()"
   ]
  },
  {
   "cell_type": "markdown",
   "metadata": {},
   "source": [
    "Výše uvedený obrázek ukazuje závislost absorpčního koeficientu $\\mu$ na energii fotonu $E_\\gamma$ pro olovo. Graf rozlišuje jednotlivé procesy přispívající k zeslabení fotonového svazku v měřeném energetickém rozsahu, konkrétně fotoelektrický jev $\\tau$, koherentní nebo Rayleighův rozptyl $\\sigma_\\mathrm{R}$, Comptonův rozptyl $\\sigma$ a tvorbu elektron-pozitronových párů $\\kappa$. Celkové zeslabení svazku je pak popsáno dvěma křivkami - se zahrnutím koherentního rozptylu jako zeslabujícího procesu $\\mu_\\mathrm{with}$ a bez něj, $\\mu_\\mathrm{without}$. Křivky jsou interpolací hodnot z https://www.nist.gov/pml/xcom-photon-cross-sections-database"
   ]
  },
  {
   "cell_type": "markdown",
   "metadata": {},
   "source": [
    "# Experimentální sestava\n",
    "\n",
    "Jako zdroj fotonů se používá emitor $^{226}\\mathrm{Ra}$. Počet přenesených fotonů jako funkce energie se měří pomocí polovodičového germaniového detektoru připojeného k počítači s operačním softwarem. Štěrbina ve stojanu mezi emitorem a detektorem slouží k vkládání vrstev jednotlivých materiálů.\n"
   ]
  },
  {
   "cell_type": "markdown",
   "metadata": {},
   "source": [
    "# Měření\n",
    "\n",
    "Doba měření pro každý materiál je typicky nastavena na 250 nebo 300 sekund. Měření probíhá v následujících krocích:\n",
    "- Spektrum $^{226}\\mathrm{Ra}$ se měří bez jakéhokoli stínění.\n",
    "  - Výsledné spektrum se používá pro kalibraci spektrometru. Energie intenzivních linií $^{226}\\mathrm{Ra}$ jsou dobře známy a jsou přiřazeny odpovídajícím pozicím píků ve spektru.\n",
    "- Provede se dvanáct dalších měření spektra:\n",
    "  - Pro čtyři různé tloušťky tří různých materiálů - Cd, Pb, Fe.\n",
    "    - U každého materiálu je k dispozici několik destiček, které lze postupně navršit do štěrbiny mezi radioaktivní zdroj a detektor.\n",
    "  - Díky tomu získáme měření spektra pro pět různých tlouštěk stínění pro každý materiál, protože je zahrnuto také měření bez stínění (tj. tloušťka 0 mm), které je společné pro všechny materiály.\n",
    "- V každém spektru je identifikováno 15 píků a je určen počet událostí v každém píku.\n",
    "  - Počet událostí v každém píku je určen softwarem používaným k ovládání spektrometru.\n",
    "    - Počet událostí v každém píku je korigován na pozadí.\n",
    "  - Software také poskytuje energii každého píku.\n",
    "  - Počet událostí v každém píku klesá exponenciálně s tloušťkou stínění.\n",
    "    - Připomeňme si vzorec $N = N_0 e^{-\\mu t}$.\n",
    "    - Připomeňme si, že zeslabovací koeficient je funkcí energie fotonů: $\\mu = \\mu(E_\\gamma)$.\n",
    "      - Předem definovaných 15 píků odpovídá 15 různým energiím fotonů. Můžeme tak současně měřit zeslabovací koeficient pro 15 různých energií.\n",
    "  - 15 píků je předem definováno na základě jejich intenzity. Pro využití více píků ve spektru $^{226}\\mathrm{Ra}$ bychom potřebovali delší než 300sekundová měření.\n",
    "- V každém spektru je také všudypřítomný pík 1460 keV z rozpadu $^{40}\\mathrm{K}$.\n",
    "  - $^{40}\\mathrm{K}$ je běžný zdroj pozadí.\n",
    "  - Jako pozadí přicházejí fotony z rozpadů $^{40}\\mathrm{K}$ k detektoru ze všech směrů. Proto počet událostí v píku 1460 keV není ovlivněn tloušťkou stínění."
   ]
  },
  {
   "cell_type": "markdown",
   "metadata": {},
   "source": [
    "$\\color{red}{\\textbf{Úkol:}}$ Načtěte naměřená data z poskytnutých textových souborů. Vytiskněte data odpovídající stavu bez stínění jako tabulku. Data jsou souhrnné informace o 15 předem definovaných pících. Pro každý pík je uvedena:\n",
    "- energie píku,\n",
    "- počet událostí v píku."
   ]
  },
  {
   "cell_type": "code",
   "execution_count": null,
   "metadata": {},
   "outputs": [],
   "source": [
    "# Insert your code here\n",
    "\n",
    "import pandas as pd\n",
    "import numpy as np\n",
    "\n",
    "# Read in the data from the .dat file and store it in a pandas dataframe.\n",
    "# The data is stored in format separated by blank spaces.\n",
    "# Preprocess the file so that each row with less than 7 columns is filled with NaN values.\n",
    "# For preprocessing, read the file line by line and split the line by the separator.\n",
    "def read_data(file):\n",
    "    with open(file, 'r') as f:\n",
    "        lines = f.readlines()\n",
    "\n",
    "    # Write the updated lines to a new file\n",
    "    with open(file + '.2', 'w') as f:\n",
    "        for line in lines:\n",
    "            row = line.split()\n",
    "            if len(row) < 7:\n",
    "                row += [\"NaN\"] * (7 - len(row))\n",
    "            f.write(','.join(row) + '\\n')\n",
    "    \n",
    "    # Store the data in a pandas dataframe\n",
    "    data = pd.read_csv(file + '.2', sep=',', header=None, skiprows=1)\n",
    "\n",
    "    # Keep just the first 7 columns of the dataframe\n",
    "    data = data.iloc[:, 0:7]\n",
    "\n",
    "    # Rename the columns of the dataframe to the following:\n",
    "    data.columns = ['PN', 'E', 'FWHM', 'N', 'B', 'Net C/S', '%Err']\n",
    "\n",
    "    return data\n",
    "\n",
    "    \n",
    "# Read the data corresponding to no shielding.\n",
    "data0 = read_data('P-IV_A4_001/0.dat')\n",
    "\n",
    "# Print data0 to see whether the format is correct.\n",
    "print(data0)\n",
    "\n",
    "# Read in data from the following files in exactly the same way:\n",
    "#              Cd_0214.dat  Cd_0428.dat  Fe_0500.dat  Fe_1578.dat  Pb_0530.dat  Pb_0762.dat  \n",
    "# Cd_0106.dat  Cd_0322.dat  Fe_1092.dat  Fe_2074.dat  Pb_0650.dat  Pb_0872.dat  \n",
    "# All dataframes are stored in a dictionary with the keys being Cd, Fe, Pb.\n",
    "# The values are dictionaries: {thickness: dataframe, thickness: dataframe, ...}\n",
    "# where thickness is the thickness of the shielding in 10e-5 m and dataframe is the dataframe.\n",
    "# The thickness is the number in the file name before the .dat extension.\n",
    "\n",
    "files = ['P-IV_A4_001/Cd_0106.dat', 'P-IV_A4_001/Cd_0214.dat', 'P-IV_A4_001/Cd_0322.dat', 'P-IV_A4_001/Cd_0428.dat', 'P-IV_A4_001/Fe_0500.dat', 'P-IV_A4_001/Fe_1092.dat', 'P-IV_A4_001/Fe_1578.dat', 'P-IV_A4_001/Fe_2074.dat', 'P-IV_A4_001/Pb_0530.dat', 'P-IV_A4_001/Pb_0650.dat', 'P-IV_A4_001/Pb_0762.dat', 'P-IV_A4_001/Pb_0872.dat']\n",
    "data_dict = {}\n",
    "for file in files:\n",
    "    element = file.split('/')[-1].split('_')[0]\n",
    "    thickness = int(file.split('_')[-1].split('.')[0]) / 100.\n",
    "    data = read_data(file)\n",
    "    if element not in data_dict:\n",
    "        data_dict[element] = {0. : data0} # Store the data with no shielding to the first element of the list\n",
    "    data_dict[element][thickness] = data\n"
   ]
  },
  {
   "cell_type": "markdown",
   "metadata": {},
   "source": [
    "$\\color{red}{\\textbf{Úkol:}}$ Načtěte teoretické hodnoty zeslabovacích koeficientů gama záření ve Fe, Cd a Pb z textových souborů, které byly poskytnuty online databází https://www.nist.gov/pml/xcom-photon-cross-sections-database Všimněte si, že zeslabovací koeficienty jsou uvedeny v $\\mathrm{cm}^2/\\mathrm{g}$. Vynásobte je hustotou materiálu, abyste získali zeslabovací koeficient v $\\mathrm{cm}^{-1}$. Převeďte jednotky na $\\mathrm{mm}^{-1}$. Vykreslte teoretickou závislost zeslabovacího koeficientu na energii gama záření pro každý materiál. Graf by měl obsahovat dvě křivky pro každý materiál - se zahrnutím koherentního rozptylu jako zeslabujícího procesu a bez něj."
   ]
  },
  {
   "cell_type": "code",
   "execution_count": null,
   "metadata": {},
   "outputs": [],
   "source": [
    "# Insert your code here\n",
    "\n",
    "import pandas as pd\n",
    "import matplotlib.pyplot as plt\n",
    "\n",
    "def read_attenuation_length(file):\n",
    "    return pd.read_csv(file, skiprows=3, sep='|', names=['E', 'w', 'wo', ''])\n",
    "\n",
    "# Read in the data to the theory dictionary, and multiply by the density of the material.\n",
    "# Convert units of E to keV and attenuation length to mm^-1.\n",
    "density = {'Cd': 8.65, 'Fe': 7.86, 'Pb': 11.34}\n",
    "theory = {}\n",
    "for element in data_dict:\n",
    "    df = read_attenuation_length(f'{element}_attenuation_length.txt')\n",
    "    df['E']  *= 1000 # Convert to keV\n",
    "    df['w']  *= density[element] / 10 # Scale by density and convert to mm^-1\n",
    "    df['wo'] *= density[element] / 10 # Scale by density and convert to mm^-1\n",
    "    theory[element] = df\n",
    "\n",
    "# Plot the curves.\n",
    "for element in theory:\n",
    "    df = theory[element]\n",
    "    plt.plot(df['E'], df['w'] , label='With c. s.'   , color='black')\n",
    "    plt.plot(df['E'], df['wo'], label='Without c. s.', color='red')\n",
    "    plt.xlabel('Energy [keV]')\n",
    "    plt.ylabel(r'$\\mu\\ [\\mathrm{mm}^{-1}]$')\n",
    "    plt.title(f'{element}, Attenuation coefficient')\n",
    "    plt.legend()\n",
    "    plt.show()"
   ]
  },
  {
   "cell_type": "markdown",
   "metadata": {},
   "source": [
    "Pro vykreslování dat spolu s fitovanou křivkou může být užitečná následující python funkce:"
   ]
  },
  {
   "cell_type": "code",
   "execution_count": null,
   "metadata": {},
   "outputs": [],
   "source": [
    "import matplotlib.pyplot as plt\n",
    "import matplotlib as mpl\n",
    "\n",
    "def plot(x, y, y_err, x_fit, y_fit, y_fit_lower, y_fit_upper, xlabel, ylabel, title = ''):\n",
    "\n",
    "    # draw x, y with error bars\n",
    "    plt.errorbar(x, y, y_err, fmt='o', label='Data', color='black')\n",
    "\n",
    "    # draw the fit function and its uncertainty band\n",
    "    plt.fill_between(x_fit, y_fit_lower, y_fit_upper, color='red', alpha=0.3)\n",
    "\n",
    "    # create a legend entry for the fit function and its uncertainty band\n",
    "    line_with_band = mpl.lines.Line2D([], [], color='red', label='Fit', linestyle='-', linewidth=2)\n",
    "    band = mpl.patches.Patch(color='red', alpha=0.3, label='Fit uncertainty')\n",
    "\n",
    "    # get the current legend handles and labels\n",
    "    handles, labels = plt.gca().get_legend_handles_labels()\n",
    "    plt.legend(handles=handles + [(line_with_band, band)], labels=labels + ['Fit'])\n",
    "\n",
    "    # finally, plot\n",
    "    plt.plot(x_fit, y_fit, 'r-')\n",
    "    plt.xlabel(xlabel)\n",
    "    plt.ylabel(ylabel)\n",
    "    if title != '':\n",
    "        plt.title(title)\n",
    "    plt.show()\n",
    "\n",
    "    return"
   ]
  },
  {
   "cell_type": "markdown",
   "metadata": {},
   "source": [
    "$\\color{red}{\\textbf{Úkol:}}$ Pro každý stínicí materiál (Fe, Cd, Pb) a pro každý pík určete zeslabovací koeficient $\\mu$:\n",
    "- Provedněte fit grafu počtu událostí v píku, $N$, proti tloušťce stínění.\n",
    "  - V grafu je pět bodů: bez stínění a čtyři různé tloušťky stínění.\n",
    "  - Fitovací funkce je $N = N_0 e^{-\\mu t}$.\n",
    "  - Vykreslete data a fitovanou křivku pro dva vámi vybrané píky pro každý materiál.\n",
    "- Uložte zeslabovací koeficient $\\mu$ a odpovídající energii pro každý pík.\n",
    "  - Např. do slovníku s energií jako klíčem a zeslabovacím koeficientem jako hodnotou."
   ]
  },
  {
   "cell_type": "code",
   "execution_count": null,
   "metadata": {},
   "outputs": [],
   "source": [
    "\n",
    "# Do the following for each element in the dictionary:\n",
    "# - Create a new dataframe with the following columns:\n",
    "#   - PN\n",
    "#   - E\n",
    "#   - mu\n",
    "#   - mu_unc\n",
    "# mu is the linear attenuation coefficient in mm^-1 and mu_unc is the uncertainty on mu.\n",
    "# mu is evaluated in a fit of the form N = N0 * exp(-mu * thickness)\n",
    "# where N is the net counts in a peak, N0 is the net counts with no shielding, and thickness is the thickness of the shielding.\n",
    "# The uncertainty in N, estimated as sqrt(N), is taken into account in the fit.\n",
    "# The uncertainty in mu is calculated in the fitting algorithm.\n",
    "\n",
    "import numpy as np\n",
    "from scipy.optimize import curve_fit\n",
    "import uncertainties\n",
    "\n",
    "def fit_func(x, mu, N0):\n",
    "    return N0 * np.exp(-mu * x)\n",
    "\n",
    "# Store the fit results - the mu values and their uncertainties - in a dictionary together with the corresponding energies.\n",
    "fit_results = {element : {} for element in data_dict}\n",
    "\n",
    "for element in data_dict:\n",
    "    for irow in range(16):\n",
    "        if irow == 10: # Skip the row with the potassium 40 background peak\n",
    "            continue\n",
    "        thickness = np.array(sorted(data_dict[element].keys()))\n",
    "        N         = np.array([data_dict[element][t].loc[irow, 'N'] for t in thickness])\n",
    "\n",
    "        try:\n",
    "            nom, cov = curve_fit(fit_func, thickness, N, sigma=np.sqrt(N), absolute_sigma=True)\n",
    "            mu = nom[0]\n",
    "            mu_unc = np.sqrt(cov[0, 0])\n",
    "        except:\n",
    "            mu = np.nan\n",
    "            mu_unc = np.nan\n",
    "    \n",
    "        # Store the fit result\n",
    "        energy = data_dict[element][0.].loc[irow, 'E']\n",
    "        fit_results[element][energy] = uncertainties.ufloat(mu, mu_unc)\n",
    "\n",
    "        # Prepare the fit result plotting\n",
    "        x = np.linspace(thickness.min(), thickness.max(), 100)\n",
    "        mu, N0 = uncertainties.correlated_values(nom, cov)\n",
    "        wrapped_exp = uncertainties.wrap(fit_func)\n",
    "        y_fit_list = [wrapped_exp(x, mu, N0) for x in x]\n",
    "        y_fit      = np.array([y.nominal_value for y in y_fit_list])\n",
    "        sigma_fit  = np.array([y.std_dev       for y in y_fit_list])\n",
    "\n",
    "        # Plot the data and the fit function with its uncertainty band\n",
    "        title = f'Element: {element}, Energy: {data_dict[element][0.].loc[irow, \"E\"]} keV'\n",
    "        if irow in [8, 15]:\n",
    "            plot(thickness, N, np.sqrt(N), x, y_fit, y_fit - sigma_fit, y_fit + sigma_fit, 'Thickness [mm]', 'Net Counts', title)\n",
    "            print(f'{title}, Mu: {mu} mm^-1')\n",
    "\n",
    "\n"
   ]
  },
  {
   "cell_type": "markdown",
   "metadata": {},
   "source": [
    "$\\color{red}{\\textbf{Úkol:}}$ Vytiskněte tabulku se zeslabovacími koeficienty pro každou energii a každý materiál. Zahrňte také poloviční vrstvu (HVL), $t_{1/2}$, pro každou energii a každý materiál. HVL je definována jako tloušťka materiálu, která sníží intenzitu svazku gama záření na polovinu jeho počáteční hodnoty. HVL lze vypočítat jako:\n",
    "$$\n",
    "t_{1/2} = \\frac{\\ln(2)}{\\mu}.\n",
    "$$"
   ]
  },
  {
   "cell_type": "code",
   "execution_count": null,
   "metadata": {},
   "outputs": [],
   "source": [
    "# Python DataFrame is suitable for presenting the results.\n",
    "\n",
    "df = pd.DataFrame(fit_results)\n",
    "df = df.rename_axis('Energy [keV]').reset_index()\n",
    "\n",
    "for element in data_dict:\n",
    "    df[f't_{element} [mm]'] = np.log(2) / df[element]\n",
    "\n",
    "df = df.rename(columns={'Cd': 'mu_Cd [mm^-1]', 'Fe': 'mu_Fe [mm^-1]', 'Pb': 'mu_Pb [mm^-1]'})\n",
    "print(df)\n"
   ]
  },
  {
   "cell_type": "markdown",
   "metadata": {},
   "source": [
    "$\\color{red}{\\textbf{Úkol:}}$ Pro každý materiál vykreslete zeslabovací koeficient jako funkci energie gama záření.\n",
    "- Na stejný graf vykreslete teoretické hodnoty zeslabovacích koeficientů.\n",
    "  - Dvě křivky: se zahrnutím koherentního rozptylu jako zeslabujícího procesu a bez něj.\n",
    "- Naměřené hodnoty zobrazte jako body a jejich nejistoty jako svislé chybové úsečky."
   ]
  },
  {
   "cell_type": "code",
   "execution_count": null,
   "metadata": {},
   "outputs": [],
   "source": [
    "# Insert your code here\n",
    "\n",
    "for element in fit_results:\n",
    "\n",
    "    energies = np.array(sorted(fit_results[element].keys()))\n",
    "    # Remove elements around 1460 from energies (the potassium 40 peak)\n",
    "    energies = np.delete(energies, np.where((energies > 1450) & (energies < 1470)))\n",
    "\n",
    "    # Plot the data.\n",
    "    mus = np.array([fit_results[element][e].nominal_value for e in energies])\n",
    "    mus_unc = np.array([fit_results[element][e].std_dev for e in energies])\n",
    "    plt.errorbar(energies, mus, mus_unc, fmt='o', label='Data', color='black')\n",
    "\n",
    "    # Plot the theory curves.\n",
    "    df = theory[element]\n",
    "    plt.plot(df['E'], df['w'] , label='With c. s.'   , color='black')\n",
    "    plt.plot(df['E'], df['wo'], label='Without c. s.', color='red')\n",
    "\n",
    "    # Labels etc.\n",
    "    plt.xlabel('Energy [keV]')\n",
    "    plt.ylabel(r'$\\mu\\ [\\mathrm{mm}^{-1}]$')\n",
    "    plt.title(f'{element}')\n",
    "    plt.legend()\n",
    "    x = np.linspace(energies.min(), energies.max(), 100)\n",
    "    plt.show()\n"
   ]
  },
  {
   "cell_type": "markdown",
   "metadata": {},
   "source": [
    "$\\color{red}{\\textbf{Úkol:}}$ Diskutujte výsledky:\n",
    "- Porovnejte naměřené a teoretické hodnoty zeslabovacích koeficientů.\n",
    "- Diskutujte určení nejistoty naměřených hodnot.\n",
    "  - Jsou některé efekty při určování nejistoty zanedbány?\n",
    "    - Diskutujte vliv geometrie aparatury na výsledky měření (ve vztahu k možným systematickým trendům v naměřených hodnotách)."
   ]
  },
  {
   "cell_type": "markdown",
   "metadata": {},
   "source": [
    "$\\color{red}{\\textbf{Řešení:}}$ "
   ]
  },
  {
   "cell_type": "markdown",
   "metadata": {},
   "source": [
    "$\\color{red}{\\textbf{Úkol:}}$ Pro pozaďový pík $^{40}\\mathrm{K}$ (1460 keV):\n",
    "- Vytvořte graf počtu událostí v píku jako funkci tloušťky stínění.\n",
    "  - Zobrazte data ze všech měření (Fe, Cd, Pb) ve stejném grafu.\n",
    "- Fitujte graf konstantní funkcí."
   ]
  },
  {
   "cell_type": "code",
   "execution_count": null,
   "metadata": {},
   "outputs": [],
   "source": [
    "# Insert your code here\n",
    "\n",
    "# Check the index of the row with the potassium 40 peak, based on the energy.\n",
    "idx = data_dict['Cd'][0.][data_dict['Cd'][0.]['E'].between(1450, 1470)].index[0]\n",
    "\n",
    "# Check if we found the correct peak by printing its energy\n",
    "print(f\"Found peak at energy {data_dict['Cd'][0.].loc[idx, 'E']} keV\")\n",
    "\n",
    "# Plot N vs thickness for the potassium 40 peak for each material\n",
    "for element in data_dict:\n",
    "    thickness = np.array(sorted(data_dict[element].keys()))\n",
    "    N = np.array([data_dict[element][t].loc[idx, 'N'] for t in thickness])\n",
    "    plt.errorbar(thickness, N, yerr=np.sqrt(N), fmt='o', label=element)\n",
    "\n",
    "# Fit with a constant function\n",
    "def fit_func(x, c):\n",
    "    return c * np.ones_like(x)\n",
    "\n",
    "# Combine all data points for the fit\n",
    "all_N = []\n",
    "all_thickness = []\n",
    "all_N_err = []\n",
    "for element in data_dict:\n",
    "    thickness = np.array(sorted(data_dict[element].keys()))\n",
    "    N = np.array([data_dict[element][t].loc[idx, 'N'] for t in thickness])\n",
    "    all_N.extend(N)\n",
    "    all_thickness.extend(thickness)\n",
    "    all_N_err.extend(np.sqrt(N))\n",
    "\n",
    "all_N = np.array(all_N)\n",
    "all_thickness = np.array(all_thickness)\n",
    "all_N_err = np.array(all_N_err)\n",
    "\n",
    "# Do the fit\n",
    "nom, cov = curve_fit(fit_func, all_thickness, all_N, sigma=all_N_err, absolute_sigma=True)\n",
    "c = uncertainties.ufloat(nom[0], np.sqrt(cov[0, 0]))\n",
    "\n",
    "# Plot the fit result\n",
    "x = np.linspace(0, max(all_thickness), 100)\n",
    "plt.plot(x, fit_func(x, c.nominal_value), 'r-')\n",
    "\n",
    "# draw the fit function uncertainty band\n",
    "plt.fill_between(x, fit_func(x, c.nominal_value - c.std_dev), fit_func(x, c.nominal_value + c.std_dev), color='red', alpha=0.3)\n",
    "\n",
    "plt.xlabel('Thickness [mm]')\n",
    "plt.ylabel('Net Counts')\n",
    "plt.title('K-40 peak (1461 keV)')\n",
    "\n",
    "\n",
    "# create a legend entry for the fit function and its uncertainty band\n",
    "line_with_band = mpl.lines.Line2D([], [], color='red', label='Fit', linestyle='-', linewidth=2)\n",
    "band = mpl.patches.Patch(color='red', alpha=0.3, label='Fit uncertainty')\n",
    "\n",
    "# get the current legend handles and labels\n",
    "handles, labels = plt.gca().get_legend_handles_labels()\n",
    "plt.legend(handles=handles + [(line_with_band, band)], labels=labels + ['Fit'])\n",
    "\n",
    "plt.show()\n",
    "\n",
    "# Print the fit result\n",
    "print(f'K-40 peak (1461 keV) fit result: c = {c}')\n"
   ]
  },
  {
   "cell_type": "markdown",
   "metadata": {},
   "source": [
    "$\\color{red}{\\textbf{Úkol:}}$ Diskutujte výsledky získané pro pozaďový pík $^{40}\\mathrm{K}$ (1461 keV)."
   ]
  },
  {
   "cell_type": "markdown",
   "metadata": {},
   "source": [
    "$\\color{red}{\\textbf{Řešení:}}$"
   ]
  }
 ],
 "metadata": {
  "kernelspec": {
   "display_name": "praktikum",
   "language": "python",
   "name": "praktikum"
  },
  "language_info": {
   "codemirror_mode": {
    "name": "ipython",
    "version": 3
   },
   "file_extension": ".py",
   "mimetype": "text/x-python",
   "name": "python",
   "nbconvert_exporter": "python",
   "pygments_lexer": "ipython3",
   "version": "3.9.21"
  }
 },
 "nbformat": 4,
 "nbformat_minor": 4
}
