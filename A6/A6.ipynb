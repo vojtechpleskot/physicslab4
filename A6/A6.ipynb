{
 "cells": [
  {
   "cell_type": "code",
   "execution_count": null,
   "metadata": {},
   "outputs": [],
   "source": [
    "# TODO: Replace the string \"Your Name\" and \"Date of measurement\" with the appropriate values.\n",
    "\n",
    "from header import header\n",
    "_ = header(student=\"Your Name\", date=\"Date of measurement\", task_no=6)"
   ]
  },
  {
   "cell_type": "markdown",
   "metadata": {},
   "source": [
    "# A6 Simulace průchodu částic hadronovým kalorimetrem\n",
    "\n",
    "Počítačové modelování odezvy detektoru na průchod částic umožňuje vizualizaci průchodu různých částic materiálem kalorimetru v interaktivní verzi a výpočet energetických ztrát částic ve všech částech kalorimetru. V simulačním programu je implementována jednoduchá struktura podobná hadronovému kalorimetru TileCal [1], který je součástí experimentu ATLAS [2] umístěného na urychlovači LHC v CERNu. Simulace je naprogramována v Geant4 [3] a ke zpracování výsledků se používá program ROOT [4]. Model kalorimetru o celkové délce $160~\\mathrm{cm}$ se skládá z 80 vrstev scintilátoru a železa a má příčné rozměry $80\\times 80~\\mathrm{cm}^2$."
   ]
  },
  {
   "cell_type": "markdown",
   "metadata": {},
   "source": [
    "# Kalorimetry\n",
    "\n",
    "Kalorimetry měří energii a směr nabitých i neutrálních částic. Měření energie je založeno na úplné absorpci částice. Vysokoenergetická částice vstupující do kalorimetru interaguje s jeho materiálem, ztrácí energii a vytváří sekundární částice. Ty mohou vytvářet další částice v kaskádě zvané sprška. Sprška se zastaví, když energie každé částice klesne pod prahovou hodnotu. Směr původní částice se určuje z příčného profilu spršky. Existují homogenní a tzv. sampling kalorimetry. Sampling kalorimetry používají střídavé vrstvy hustých absorbátorů (jako je železo nebo olovo) a aktivních médií (jako jsou ionizační komory nebo scintilátory). Sekundární částice se vytvářejí v absorbátoru a ukládají detekovatelnou energii v aktivním médiu. Celkový signál je úměrný energii původní částice."
   ]
  },
  {
   "cell_type": "markdown",
   "metadata": {},
   "source": [
    "### Interakce částic v kalorimetru\n",
    "\n",
    "Částice interagují s materiálem kalorimetru několika způsoby. Níže jsou seřazeny podle toho, jak efektivně deponují energii v kalorimetru:\n",
    "\n",
    "- Elektromagnetické (EM) spršky. Elektrony ($e^-$), pozitrony ($e^+$), fotony ($\\gamma$) a neutrální piony ($\\pi^0$) vytvářejí EM spršky. Vysokoenergetické fotony se konvertují na páry $e^-e^+$, které produkují brzdné fotony, čímž proces opakují. $\\pi^0$ se rychle rozpadá na dva fotony, což také vytváří EM spršku.\n",
    "\n",
    "- Hadronové spršky. Všechny vysokoenergetické hadrony (kromě $\\pi^0$) produkují hadronové spršky, které mají dvě komponenty:\n",
    "  - EM komponentu z produkce $\\pi^0$.\n",
    "  - Čistě hadronovou komponentu, včetně sekundárních hadronů a \"neviditelné\" energie (energie použité k rozbití jader nebo odnesené neinteragujícími částicemi jako neutrina).\n",
    "Kvůli \"neviditelné\" energii obecně elektron produkuje větší signál než hadron se stejnou počáteční energií. Také interakční délky pro elektrony/fotony jsou mnohem menší než pro hadrony.\n",
    "\n",
    "- Ionizující částice. Nízkoenergetické nabité částice a miony ztrácejí energii primárně ionizací. Miony s energiemi několika set GeV ukládají v kalorimetrech pouze malou část své energie (asi 1 GeV na metr v železe).\n",
    "\n",
    "- Neinteragující částice. Neutrina interagují pouze slabě a mají tak dlouhé střední volné dráhy, že téměř nikdy neinteragují v kalorimetru.\n"
   ]
  },
  {
   "cell_type": "markdown",
   "metadata": {},
   "source": [
    "### Model kalorimetru\n",
    "\n",
    "V našem specifickém případě se model kalorimetru skládá z vrstev železa a scintilátoru v podobném poměru, jaký se nachází v hadronovém kalorimetru experimentu ATLAS v CERNu. Přibližně 3-4% energie se ztrácí při průchodu částic scintilátorem a tato část představuje měřitelnou energii z fyzikálního hlediska. Část energie uložené ve scintilátoru se vyzařuje jako světlo, které může být vedeno optickými vlákny k fotonásobiči. Zde se světelný signál převádí na elektrický náboj, který je poté dále zpracováván."
   ]
  },
  {
   "cell_type": "markdown",
   "metadata": {},
   "source": [
    "### Měření energie a rozlišení\n",
    "\n",
    "Při měření počáteční energie částice ($E_0$) v kalorimetrech používáme tyto principy:\n",
    "\n",
    "- Počet částic v maximu spršky je úměrný počáteční energii: $N_{max} \\propto E_0$\n",
    "- Celková délka dráhy nabitých částic je úměrná počáteční energii: $L \\propto E_0$\n",
    "- Měřitelný signál je úměrný celkové délce dráhy: $E_{dep} \\propto L$\n",
    "\n",
    "Tedy v ideálním kalorimetru je viditelná energie spršky úměrná počáteční energii částice. Tento vztah se liší pro elektromagnetické (EM) a hadronové spršky.\n",
    "V ideálním kalorimetru (dokonalý krystal) je detekována veškerá absorbovaná energie. Energetické rozlišení je \n",
    "$$\n",
    "\\frac{\\sigma(E_{dep})}{E_{dep}} \\propto \\frac{\\sigma(N_{max})}{N_{max}} \\propto \\frac{1}{\\sqrt{N_{max}}} \\propto \\frac{1}{\\sqrt{E_0~[\\mathrm{GeV}]}},\n",
    "$$\n",
    "často zapisováno jako\n",
    "$$\n",
    "\\frac{\\sigma(E_{dep})}{E_{dep}} = \\frac{a}{\\sqrt{E_0~[\\mathrm{GeV}]}},\n",
    "$$\n",
    "kde $a$ je stochastický/sampling člen. V tomto textu je $E_0$ vždy uvedeno v GeV.\n",
    "\n",
    "V reálném detektoru je energetické rozlišení také ovlivněno šumem (škáluje jako $b/E_0$) a konstantním členem $c$ představujícím nedokonalosti detektoru (nehomogenita, chyby kalibrace, únik spršky a rozdíly v odzevech EM a hadronových spršek ($e/h \\neq 1$)). Obecný vzorec pro energetické rozlišení je:\n",
    "$$\n",
    "\\frac{\\sigma(E_{dep})}{E_{dep}} = \\sqrt{\\frac{a^2}{E_0} + \\frac{b^2}{E_0^2} + c^2}.\n",
    "$$\n",
    "V zjednodušených simulacích, kde je šum zanedbatelný ($b = 0$), se vzorec stává:\n",
    "$$\n",
    "\\frac{\\sigma(E_{dep})}{E_{dep}} = \\sqrt{\\frac{a^2}{E_0} + c^2}.\n",
    "$$\n",
    "Jednotná kalibrace nutně neznamená, že konstantní člen $c$ je nulový.\n"
   ]
  },
  {
   "cell_type": "markdown",
   "metadata": {},
   "source": [
    "# Analýza"
   ]
  },
  {
   "cell_type": "markdown",
   "metadata": {},
   "source": [
    "Spusťte simulační program a pozorujte průchod různých částic kalorimetrem. Analyzujte profily deponované energie, vývoj spršek a další relevantní veličiny pro různé typy částic a energie. Porovnejte chování elektromagnetických a hadronových spršek, stejně jako interakci mionů a neutrin s materiálem kalorimetru. Prozkoumejte stochastické fluktuace ve vývoji spršek a energetickou závislost pozorovaných vlastností.\n",
    "\n",
    "Očekávaná pozorování:\n",
    "\n",
    "- Elektromagnetické spršky ($e^-$, $e^+$, $\\gamma$): Pozorujte charakteristický vývoj EM spršky: tvorba párů, brzdné záření a relativně kompaktní profil spršky. Porovnejte spršky produkované elektrony, pozitrony a fotony.\n",
    "- Hadronové spršky (protony, piony, atd.): Pozorujte nepravidelnější a více penetrující povahu hadronových spršek ve srovnání s EM sprškami. Všimněte si přítomnosti sekundárních hadronů a větších fluktuací v ukládání energie.\n",
    "- Miony: Pozorujte minimální interakci mionů, primárně prostřednictvím ionizace. Uloží výrazně méně energie než jiné nabité částice se stejnou energií.\n",
    "- Neutrina: Pozorujte téměř úplnou absenci interakce neutrin v kalorimetru.\n",
    "- Stochastické fluktuace: Pozorujte variace ve vývoji spršek mezi identickými běhy.\n",
    "- Nábojové efekty: Potvrďte, že neexistují rozdíly mezi kladně a záporně nabitými částicemi.\n",
    "- Energetická závislost: Analyzujte, jak se vlastnosti spršky (délka, šířka, uložení energie) mění s rostoucí energií."
   ]
  },
  {
   "cell_type": "markdown",
   "metadata": {},
   "source": [
    "### Interaktivní simulace"
   ]
  },
  {
   "cell_type": "markdown",
   "metadata": {},
   "source": [
    "$\\color{red}{\\textbf{Úkol:}}$ vložte ilustrace očekávaných pozorování - obrázky, které vytvořte pomocí simulačního programu, a příkladné nastavení (typ částice a energie). Přidejte diskusi pozorovaných jevů pod každý obrázek. Klíčové otázky k diskusi jsou:\n",
    "- Jaké fyzikální procesy vytvářejí spršku a jaké částice jsou produkované?\n",
    "- Jak sprška začíná, jak se vyvíjí a jak končí?\n",
    "- Uniká nějaká energie z kalorimetru?\n",
    "\n",
    "Následující obrázky musí být zahrnuty:\n",
    "- Elektromagnetická sprška ($\\sim 10~\\mathrm{GeV}$),\n",
    "- Hadronová interakce ($\\sim 10~\\mathrm{GeV}$)\n",
    "- Miony: zastavení (viz níže v textu), $\\sim 10~\\mathrm{GeV}$, brzdné záření,\n",
    "- Rozpad $\\pi^0 \\rightarrow \\gamma \\gamma$ (viz níže v textu)\n",
    "- Cokoli jiného, co upoutá pozornost studenta...\n",
    "\n",
    "Poznámka: v JupyterHub přídáte obrázek přetažením do markdown buňky notebooku přepnuté v editačním módu. Alternativně můžete soubor obrázku nahrát do složky notebooku a vložit pomocí markdown syntaxe `![title](image_path)`."
   ]
  },
  {
   "cell_type": "markdown",
   "metadata": {},
   "source": [
    "$\\color{red}{\\textbf{Řešení:}}$\n",
    "\n",
    "<!-- Vložte obrázek přetažením do markdown buňky na příslušné místo.\n",
    "Alternativně můžete soubor obrázku nahrát do složky notebooku a vložit pomocí markdown syntaxe: \n",
    "![Popis obrázku](nazev_souboru.png) -->\n",
    "\n",
    "<!-- Příklad: ![Elektromagnetická sprška](em_shower_10GeV.png) -->\n",
    "\n",
    "<!-- Přidejte své obrázky a diskuse pod tento řádek -->\n",
    "Elektromagnetická sprška iniciovaná elektronem o energii 10 GeV:\n",
    "\n",
    "![Electron 10 GeV](electron_10gev.png)\n",
    "\n",
    "Hadronová sprška iniciovaná protonem o energii 10 GeV:\n",
    "\n",
    "![Proton 10 GeV](proton_10gev.png)\n",
    "\n",
    "Hadronová sprška iniciovaná neutronem o energii 3 GeV; tato sprška má dvě oddělená jádra:\n",
    "\n",
    "![Neutron 3 GeV](neutron_two_cores.png)\n",
    "\n",
    "Mion procházející kalorimetrem; počáteční energie mionu je 10 GeV:\n",
    "\n",
    "![Muon 10 GeV](muon_10gev.png)\n"
   ]
  },
  {
   "cell_type": "markdown",
   "metadata": {},
   "source": [
    "$\\color{red}{\\textbf{Úkol:}}$ Při jaké energii (přibližně) se mion ještě zastaví uvnitř kalorimetru? Formulujte odpověď a podpořte ji obrázkem."
   ]
  },
  {
   "cell_type": "markdown",
   "metadata": {},
   "source": [
    "$\\color{red}{\\textbf{Řešení:}}$\n",
    "\n",
    "<!-- Vložte obrázek přetažením do markdown buňky na příslušné místo.\n",
    "Alternativně můžete soubor obrázku nahrát do složky notebooku a vložit pomocí markdown syntaxe: \n",
    "![Zastavující se mion](muon_stopping.png) -->\n",
    "\n",
    "<!-- Přidejte svůj obrázek a diskusi pod tento řádek -->\n",
    "\n",
    "Mion s počáteční energií přibližně 2 GeV se zastaví uvnitř kalorimetru. Níže je obrázek ukazující mion, který se zastaví v kalorimetru:\n",
    "![Stopping muon](muon_stopping.png)"
   ]
  },
  {
   "cell_type": "markdown",
   "metadata": {},
   "source": [
    "$\\color{red}{\\textbf{Úkol:}}$ Jaká je přibližně kritická energie mionu, při které začíná vytvářet významné sekundární spršky? Formulujte odpověď a podpořte ji obrázkem."
   ]
  },
  {
   "cell_type": "markdown",
   "metadata": {},
   "source": [
    "$\\color{red}{\\textbf{Řešení:}}$\n",
    "\n",
    "<!-- Vložte obrázky zde pomocí následující syntaxe: ![Popis obrázku](nazev_souboru.png) -->\n",
    "<!-- Příklad: ![Sprškující mion](muon_showering.png) -->\n",
    "<!-- Přidejte svůj obrázek a diskusi pod tento řádek -->"
   ]
  },
  {
   "cell_type": "markdown",
   "metadata": {},
   "source": [
    "$\\color{red}{\\textbf{Úkol:}}$ Vytvořte hadronovou spršku se dvěma jasně oddělenými 'jádry' (primární a sekundární interakce). Přidejte obrázek s krátkým popisem."
   ]
  },
  {
   "cell_type": "markdown",
   "metadata": {},
   "source": [
    "$\\color{red}{\\textbf{Řešení:}}$\n",
    "\n",
    "<!-- Vložte obrázek přetažením do markdown buňky na příslušné místo.\n",
    "Alternativně můžete soubor obrázku nahrát do složky notebooku a vložit pomocí markdown syntaxe: \n",
    "![Hadronová sprška se dvěma jádry](hadron_two_cores.png) -->\n",
    "\n",
    "<!-- Přidejte svůj obrázek a diskusi pod tento řádek -->\n",
    "Níže je obrázek hadronové spršky iniciované neutronem o energii 3 GeV, která ukazuje dvě oddělená jádra:\n",
    "![Neutron 3 GeV](neutron_two_cores.png)\n"
   ]
  },
  {
   "cell_type": "markdown",
   "metadata": {},
   "source": [
    "$\\color{red}{\\textbf{Úkol:}}$ Rozpad $\\pi^0 \\rightarrow \\gamma \\gamma$; přibližně při jaké energii lze ještě rozlišit spršky od dvou fotonů? Formulujte odpověď a podpořte ji obrázkem."
   ]
  },
  {
   "cell_type": "markdown",
   "metadata": {},
   "source": [
    "$\\color{red}{\\textbf{Řešení:}}$\n",
    "\n",
    "<!-- Vložte obrázek přetažením do markdown buňky na příslušné místo.\n",
    "Alternativně můžete soubor obrázku nahrát do složky notebooku a vložit pomocí markdown syntaxe: \n",
    "![Pion na dva fotony](pion_two_photons.png) -->\n",
    "\n",
    "<!-- Přidejte svůj obrázek a diskusi pod tento řádek -->\n",
    "Přibližně 2 GeV neutrální pion se může rozpadnout na dva fotony rozlišitelné v kalorimetru:\n",
    "![Pion to two photons](pion_two_photons.png)"
   ]
  },
  {
   "cell_type": "markdown",
   "metadata": {},
   "source": [
    "### Batch simulace"
   ]
  },
  {
   "cell_type": "markdown",
   "metadata": {},
   "source": [
    "$\\color{red}{\\textbf{Úkol:}}$ Spusťte batch simulaci pro elektron, nabitý pion a mion při předem definované pevné energii ($\\gtrsim 10~\\mathrm{GeV}$). Energie musí být stejná po celou dobu tohoto cvičení. Každá částice je vstřelena $N$-krát do kalorimetru a odezva kalorimetru je analyzována statisticky. Výsledkem tohoto úkolu jsou tři sady grafů (pro elektron, nabitý pion a mion), které vložíte do tohoto notebooku. Každá sada grafů se skládá z následujícího:\n",
    "1. Histogram depozice energie částic v železe\n",
    "   - Poznámka: tuto veličinu lze vyhodnotit pouze v simulacích, protože železo neprodukuje signál při průchodu žádné částice\n",
    "2. Histogram depozice energie částic ve scintilátoru\n",
    "3. Graf průměrné depozice energie částic v každé vrstvě železa\n",
    "4. Graf průměrné depozice energie částic v každé vrstvě scintilátoru\n",
    "5. Graf průměrného laterálního úniku energie částic z každé vrstvy kalorimetru (scintilátoru a železa)\n",
    "\n",
    "Diskutujte souvislosti pozorování z interaktivních simulací (tvar spršky, náhodnost spršky, zastavení nebo rozpad částice) s:\n",
    "- Přesností měření energie (rozlišení Gaussova rozdělení ve scintilátoru: porovnejte $e^-$ vs $\\pi^+$)\n",
    "- Celkovou ztrátou energie v kalorimetru (železo + scintilátoru)\n",
    "- Podélným profilem spršky\n",
    "- Celkovou délkou spršky\n",
    "- Únikem energie z kalorimetru\n",
    "- Ztrátou energie mionů vs. zastavením mionu v interaktivní simulaci."
   ]
  },
  {
   "cell_type": "markdown",
   "metadata": {},
   "source": [
    "$\\color{red}{\\textbf{Řešení:}}$\n",
    "\n",
    "<!-- Vložte obrázek přetažením do markdown buňky na příslušné místo.\n",
    "Alternativně můžete soubor obrázku nahrát do složky notebooku a vložit pomocí markdown syntaxe: \n",
    "![Dávka elektron](batch_electron.png) -->\n",
    "\n",
    "<!-- Přidejte své obrázky a diskuse pod tento řádek -->\n",
    "Výsledky batch simulace pro elektrony při 11 GeV:\n",
    "\n",
    "![Batch electron](batch_electron_11gev.png)\n",
    "\n",
    "Výsledky batch simulace pro nabité piony při 11 GeV:\n",
    "\n",
    "![Batch pion](batch_pion_11gev.png)\n",
    "\n",
    "Výsledky batch simulace pro miony při 11 GeV:\n",
    "\n",
    "![Batch muon](batch_muon_11gev.png)"
   ]
  },
  {
   "cell_type": "markdown",
   "metadata": {},
   "source": [
    "### Energetický sken\n",
    "\n",
    "Studujte energetickou závislost odezvy a rozlišení kalorimetru pro elektrony nebo nabité piony (vyberte jednu možnost). Spusťte simulaci pro pět energií v rozsahu: $E_0 \\in (8, 50)~\\mathrm{GeV}$, např. $E_0 = 8, 13, 20, 30, 50~\\mathrm{GeV}$."
   ]
  },
  {
   "cell_type": "markdown",
   "metadata": {},
   "source": [
    "$\\color{red}{\\textbf{Úkol:}}$ Spusťte simulaci a vytvořte tabulku, která ji shrne. Výsledek najdete v souboru `scan.txt`.\n",
    "- Svůj soubor `scan.txt` získáte po spuštění simulace.\n",
    "\n",
    "Tabulka by měla obsahovat následujících pět sloupců:\n",
    "- Energie částice, $E_0$\n",
    "- Průměrná energie uložená ve scintilátoru, $E_\\mathrm{dep}$, a její nejistota\n",
    "- Rozlišení energie uložené ve scintilátoru, $\\sigma(E_\\mathrm{dep})$, a jeho nejistota\n",
    "\n",
    "Poznámky k formátu souboru `scan.txt`:\n",
    "- Počet simulovaných událostí $N$ = `Number of events processed`.\n",
    "- Energie částice $E_0$ = `Beam particle E`.\n",
    "- Průměrná uložená energie v železe nebo scintilátoru $E_\\mathrm{dep}$ = `Deposited Energy`\n",
    "  - Je to stejná veličina jako Mean v histogramu `a` a `b` v předchozím úkolu \"Batch simulace\".\n",
    "  - Pozn. Gaussovo rozdělení má dva parametry: $\\mu$ a $\\sigma$. Jejich odhady se obvykle označují jako $\\hat{\\mu}$ a $\\hat{\\sigma}$.\n",
    "    - $\\hat{\\mu}$ se vyhodnocuje jako průměr $N$ naměřených hodnot. Jeho nejistota se odhaduje jako $\\hat{\\sigma}/\\sqrt{N}$.\n",
    "    - $\\hat{\\sigma}$ se vyhodnocuje jako směrodatná odchylka $N$ naměřených hodnot. Jeho nejistota se odhaduje jako $\\hat{\\sigma}/\\sqrt{2N}$.\n",
    "- Fluktuace uložené energie v železe nebo scintilátoru $\\sigma(E_\\mathrm{dep})$ = `Resolution`\n",
    "  - Je to stejná veličina jako Sigma v histogramech `a` a `b` v předchozím úkolu \"Batch simulace\"."
   ]
  },
  {
   "cell_type": "code",
   "execution_count": null,
   "metadata": {},
   "outputs": [],
   "source": [
    "# Solution.\n",
    "\n",
    "# TODO: Copy your data from the scan.txt file to the dictionary below.\n",
    "\n",
    "from pandas import DataFrame\n",
    "\n",
    "# Create a dictionary with your data.\n",
    "# Each key is a column name, and the value is a list of column values.\n",
    "data = {'E_0'            : [x/1000 for x in [8000, 13000, 20000, 30000, 50000]], \n",
    "        'E_dep'          : [x/1000 for x in [194.88 , 317.83 , 490.75 , 742.06 , 1240]], \n",
    "        'E_dep_unc'      : [x/1000 for x in [0.48695, 0.62212, 0.79772, 1.03   , 1.40]],\n",
    "        'sigma_E_dep'    : [x/1000 for x in [28.02  , 37.03  , 47.54  , 61.12  , 82.31]],\n",
    "        'sigma_E_dep_unc': [x/1000 for x in [0.34554, 0.42843, 0.59638, 0.74750, 1.07]],\n",
    "        }\n",
    "display_names = {'E_0'            : 'E_0 [GeV]',\n",
    "                 'E_dep'          : 'E_dep [GeV]',\n",
    "                 'E_dep_unc'      : 'E_dep_unc [GeV]',\n",
    "                 'sigma_E_dep'    : 'sigma_E_dep [GeV]',\n",
    "                 'sigma_E_dep_unc': 'sigma_E_dep_unc [GeV]',\n",
    "                }\n",
    "df = DataFrame(data)\n",
    "print(df.rename(columns=display_names).to_string(index=False, float_format=\"%.3f\"))"
   ]
  },
  {
   "cell_type": "markdown",
   "metadata": {},
   "source": [
    "$\\color{red}{\\textbf{Úkol:}}$ Pro scintilátor zobrazte graf a fitujte lineární závislost odezvy $E_\\mathrm{dep}$ na $E_0$.\n",
    "- V kódu níže jsou uvedeny tři možnosti, jak provést fit. Rozhodněte se, kterou je správné použít.\n",
    "- Nezapomeňte na nejistoty na ose $y$.\n",
    "- Vypište hodnoty fitovaných parametrů a jejich nejistoty."
   ]
  },
  {
   "cell_type": "code",
   "execution_count": null,
   "metadata": {},
   "outputs": [],
   "source": [
    "# Solution.\n",
    "\n",
    "# TODO: decide which line to uncomment to perform the fit correctly.\n",
    "\n",
    "import matplotlib.pyplot as plt\n",
    "import numpy as np\n",
    "from scipy.optimize import curve_fit\n",
    "import uncertainties\n",
    "from uncertainties import unumpy\n",
    "\n",
    "def plot(x, y, y_err, x_fit, y_fit, xlabel, ylabel):\n",
    "\n",
    "    # draw x, y with error bars\n",
    "    plt.errorbar(x, y, y_err, fmt='o', label='Data', color='black')\n",
    "\n",
    "    # draw the fit function and its uncertainty band\n",
    "    plt.plot(x_fit, y_fit, color='red', linewidth=2, label='Fit')\n",
    "\n",
    "    # get the current legend handles and labels and reverse their order\n",
    "    handles, labels = plt.gca().get_legend_handles_labels()\n",
    "    plt.legend(handles=handles[::-1], labels=labels[::-1])\n",
    "\n",
    "    # finally, plot\n",
    "    plt.plot(x_fit, y_fit, 'r-')\n",
    "    plt.xlabel(xlabel)\n",
    "    plt.ylabel(ylabel)\n",
    "    plt.show()\n",
    "\n",
    "    return\n",
    "\n",
    "\n",
    "# define the linear fit function\n",
    "def linear(x, a, b):\n",
    "    return a*x + b\n",
    "\n",
    "# fit the linear function to the data; choose the correct line to perform the fit\n",
    "nom_ab, cov_ab = curve_fit(linear, df['E_0'], df['E_dep'], sigma=df['E_dep_unc'], absolute_sigma=True)\n",
    "# nom_ab, cov_ab = curve_fit(linear, df['E_0'], df['E_dep'])\n",
    "# nom_ab, cov_ab = curve_fit(linear, df['E_0'], df['E_dep'], sigma=np.ones_like(df['E_dep']), absolute_sigma=True)\n",
    "\n",
    "# to draw the fit function, we need to evaluate it at many points\n",
    "x = np.linspace(df['E_0'].min(), df['E_0'].max(), 100)\n",
    "y_fit = linear(x, *nom_ab)\n",
    "\n",
    "# plot the data and the fit function\n",
    "plot(df['E_0'], df['E_dep'], df['E_dep_unc'], x, y_fit, '$E_0$ [GeV]', r'$E_\\mathrm{dep}$ [GeV]')\n",
    "\n",
    "# evaluate and print the fit parameters with their uncertainties\n",
    "a, b = uncertainties.correlated_values(nom_ab, cov_ab)\n",
    "print('a =', a)\n",
    "print('b =', b,'GeV')"
   ]
  },
  {
   "cell_type": "markdown",
   "metadata": {},
   "source": [
    "$\\color{red}{\\textbf{Úkol:}}$ Vypočítejte kvalitu fitu ($\\chi^2/\\mathrm{NDF}$) a vytiskněte ji na obrazovku.\n",
    "Nezapomeňte vzít v úvahu úplnou kovarianční matici fitovaných parametrů"
   ]
  },
  {
   "cell_type": "code",
   "execution_count": null,
   "metadata": {},
   "outputs": [],
   "source": [
    "# Calcutate the chi2 value and the degrees of freedom\n",
    "\n",
    "# Calculate residuals\n",
    "residuals = df['E_dep'] - linear(df['E_0'], a, b)\n",
    "\n",
    "# Calculate chi-squared\n",
    "chi_squared = np.sum((residuals / df['E_dep_unc']) ** 2)\n",
    "\n",
    "# Degrees of freedom\n",
    "degrees_of_freedom = len(df['E_0']) - len(nom_ab) \n",
    "\n",
    "print(f\"Chi-squared: {unumpy.nominal_values(chi_squared)}\")\n",
    "print(f\"Degrees of freedom: {degrees_of_freedom}\")\n",
    "print(f\"Reduced chi-squared: {unumpy.nominal_values(chi_squared) / degrees_of_freedom}\")\n"
   ]
  },
  {
   "cell_type": "markdown",
   "metadata": {},
   "source": [
    "$\\color{red}{\\textbf{Úkol:}}$ Pro scintilátoru fitujte a vykreslete závislost rozlišení $\\sigma(E_\\mathrm{dep})/E_\\mathrm{dep}$ na $E_0$.\n",
    "- Nezapomeňte na nejistoty na ose $y$!\n",
    "- Vypište hodnoty fitovaných parametrů a jejich nejistoty."
   ]
  },
  {
   "cell_type": "code",
   "execution_count": null,
   "metadata": {},
   "outputs": [],
   "source": [
    "# Solution.\n",
    "\n",
    "from IPython.display import display, Latex\n",
    "\n",
    "# define the resolution function\n",
    "def resolution(E_0, a, c):\n",
    "    return np.sqrt(a**2/E_0 + c**2)\n",
    "\n",
    "# calculate the the relative energy resolution and its uncertainty\n",
    "E_dep_unumpy       = unumpy.uarray(df['E_dep']      , df['E_dep_unc'])\n",
    "sigma_E_dep_unumpy = unumpy.uarray(df['sigma_E_dep'], df['sigma_E_dep_unc'])\n",
    "rel_res_unc        = sigma_E_dep_unumpy / E_dep_unumpy\n",
    "\n",
    "# fit the resolution function to the data\n",
    "nom_ac, cov_ac = curve_fit(resolution, df['E_0'], unumpy.nominal_values(rel_res_unc), sigma=unumpy.std_devs(rel_res_unc), absolute_sigma=True)\n",
    "# nom_ac, cov_ac = curve_fit(resolution, df['E_0'], unumpy.nominal_values(rel_res_unc))\n",
    "# nom_ac, cov_ac = curve_fit(resolution, df['E_0'], unumpy.nominal_values(rel_res_unc), sigma=np.ones_like(df['E_0']), absolute_sigma=True)\n",
    "\n",
    "# to draw the fit function and its uncertainty band, we need to evaluate the fit function at many points\n",
    "x = np.linspace(df['E_0'].min(), df['E_0'].max(), 100)\n",
    "a, c = uncertainties.correlated_values(nom_ac, cov_ac)\n",
    "wrapped_resolution = uncertainties.wrap(resolution)\n",
    "y_fit_list = [wrapped_resolution(x, a, c) for x in x]\n",
    "y_fit     = np.array([y.nominal_value for y in y_fit_list])\n",
    "\n",
    "# plot the data and the fit function with its uncertainty band\n",
    "plot(df['E_0'], unumpy.nominal_values(rel_res_unc), unumpy.std_devs(rel_res_unc), x, y_fit, '$E_0$ [GeV]', r'$\\sigma(E_\\mathrm{dep}) / E_\\mathrm{dep}$')\n",
    "\n",
    "# print the fit parameters\n",
    "display(Latex(f'$a = {a}~\\\\mathrm{{GeV}}^{{1/2}}$'))\n",
    "display(Latex(f'$c = {c}$'))"
   ]
  },
  {
   "cell_type": "markdown",
   "metadata": {},
   "source": [
    "$\\color{red}{\\textbf{Úkol:}}$ Vypočítejte kvalitu fitu ($\\chi^2/\\mathrm{NDF}$) a vytiskněte ji na obrazovku."
   ]
  },
  {
   "cell_type": "code",
   "execution_count": null,
   "metadata": {},
   "outputs": [],
   "source": [
    "# Calcutate the chi2 value and the degrees of freedom\n",
    "\n",
    "# Calculate residuals\n",
    "residuals = df['sigma_E_dep'] / df['E_dep'] - resolution(df['E_0'], *nom_ac)\n",
    "\n",
    "# Calculate chi-squared\n",
    "chi_squared = np.sum((residuals / (df['sigma_E_dep_unc'] / df['E_dep'])) ** 2)\n",
    "\n",
    "# Degrees of freedom\n",
    "degrees_of_freedom = len(df['E_0']) - len(nom_ac) \n",
    "\n",
    "print(f\"Chi-squared: {chi_squared}\")\n",
    "print(f\"Degrees of freedom: {degrees_of_freedom}\")\n",
    "print(f\"Reduced chi-squared: {chi_squared / degrees_of_freedom}\")\n"
   ]
  },
  {
   "cell_type": "markdown",
   "metadata": {},
   "source": [
    "$\\color{red}{\\textbf{Úkol:}}$ Diskutujte číselné hodnoty fitovaných parametrů v protokolu: \n",
    "- Je $c$ kompatibilní s nulou? Proč?\n",
    "- Odpovídá $a$ řádově hodnotám z tabulek PDG [5]?"
   ]
  },
  {
   "cell_type": "markdown",
   "metadata": {},
   "source": [
    "$\\color{red}{\\textbf{Řešení:}}$"
   ]
  },
  {
   "cell_type": "markdown",
   "metadata": {},
   "source": [
    "# Literatura\n",
    "\n",
    "[1] ATLAS Collaboration, Readiness of the ATLAS Tile Calorimeter for LHC collisions, Eur. Phys. J. C 70 (2010) s. 1193–1236, arXiv: 1007.5423\n",
    "\n",
    "[2] ATLAS Collaboration), The ATLAS Experiment at the CERN Large Hadron Collider, JINST 3 (2008) S08003, http://cdsweb.cern.ch/record/1129811, https://atlas.cern\n",
    "\n",
    "[3] Geant4 Collaboration, Geant4 - A Simulation Toolkit, Nucl. Instrum. Meth. A 506 (2003) 250-303, https://geant4.web.cern.ch \n",
    "\n",
    "[4] R. Brun, F. Rademakers a S. Panacek, ROOT, an object oriented data analysis framework, CERN School of Computing (CSC 2000) (2000) s. 11–42, https://root.cern.ch\n",
    "\n",
    "[5] Particle Data Group, The Review of Particle Physics (2024), to be published in Phys. Rev. D 110 (2024) s. 030001, Section 35.10 ’Calorimeters’ in https://pdg.lbl.gov/2024/web/viewer.html?file=../reviews/rpp2024-rev-particle-detectors-accel.pdf"
   ]
  }
 ],
 "metadata": {
  "kernelspec": {
   "display_name": "praktikum",
   "language": "python",
   "name": "praktikum"
  }
 },
 "nbformat": 4,
 "nbformat_minor": 4
}
