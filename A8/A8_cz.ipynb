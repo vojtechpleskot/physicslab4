{
 "cells": [
  {
   "cell_type": "code",
   "execution_count": null,
   "metadata": {},
   "outputs": [],
   "source": [
    "# TODO: Replace the string \"Your Name\" and \"Date of measurement\" with the appropriate values.\n",
    "\n",
    "from header import header\n",
    "_ = header(student=\"Your Name\", date=\"Date of measurement\", task_no=8)"
   ]
  },
  {
   "cell_type": "markdown",
   "metadata": {},
   "source": [
    "# Absorpce beta záření"
   ]
  },
  {
   "cell_type": "markdown",
   "metadata": {},
   "source": [
    "# Geigerův-Muellerův počítač\n",
    "\n",
    "Geigerův-Muellerův (GM) počítač je speciální druh plynového detektoru.\n",
    "Obvykle má válcovitý tvar.\n",
    "Válcová stěna tvoří katodu, tenký anodový drát je napnut v ose válce a prostor mezi nimi je vyplněn vhodnou plynovou směsí (obvykle vzácný plyn s tzv. zhášecí příměsí).\n",
    "Když je GM detektor vystaven beta záření, toto záření ionizuje atomy plynu uvnitř.\n",
    "Uvolněné elektrony se vlivem elektrického pole pohybují směrem k anodě a kationty se pohybují mnohem pomaleji směrem ke katodě.\n",
    "Při dostatečném napětí je elektrická intenzita kolem tenké anody tak velká, že zrychlované elektrony ionizují a excitují další atomy, což vede k rozvoji elektrického výboje.\n",
    "Ten je zastaven poklesem elektrické intenzity v důsledku přítomnosti prostorového náboje složeného z pomalých kationtů.\n",
    "Zhášecí příměs v plynu pak zabrání opětovnému rozběhnutí výboje, když se elektrická intenzita opět zvýší na dostatečnou úroveň.\n",
    "Množství přenesného náboje a tím i velikost zaznamenaného signálu (typicky napěťový impulz na pracovním odporu) jsou při konstantním napětí vždy stejné bez ohledu na energii původní ionizující částice (ale strmě rostou se zvyšujícím se napětím).\n",
    "Důležitou charakteristikou GM detektoru je závislost četnosti signálu na přiloženém napětí.\n",
    "Po překonánı́ určitého přivedeného napětı́ dojde k prudkému nárůstu četnosti, což je dáno nastavenı́m elektroniky, která zaznamenává pouze impulzy, jejichž amplituda překročı́ určitý práh.\n",
    "Po tomto nárůstu následuje téměř konstantní úsek, typicky označovaný jako plato.\n",
    "Pokud napětí dále zvyšujeme, začínají se vyskytovat spontánní výboje a četnost se opět rychle zvyšuje.\n",
    "To má negativní vliv na životnost plynové náplně GM detektoru.\n",
    "Při svém měření proto nepřekračujte napětí 800 V!\n",
    "Provozní napětí se obvykle volí kolem středu plata."
   ]
  },
  {
   "cell_type": "markdown",
   "metadata": {},
   "source": [
    "$\\color{red}{\\textbf{Úloha:}}$ Změřte charakteristiku GM detektoru.\n",
    "\n",
    "- Použijte absorbátor s plošnou hustotou přibližně 100 $\\mathrm{mg}\\,\\mathrm{cm}^{-2}$ (tj. jednu silnější desku).\n",
    "- Změřte počet signálů v intervalu 400 V - 800 V v krocích po 5 V s dobou měření 20 s."
   ]
  },
  {
   "cell_type": "code",
   "execution_count": null,
   "metadata": {},
   "outputs": [],
   "source": [
    "# Solution.\n",
    "\n",
    "# TODO: Read in the data from the text file containing your measured values.\n",
    "# If you store the file in the current working directory `A8`, then you can read it with a command similar to:\n",
    "#\n",
    "# df = pd.read_csv('plato.txt', sep='\\s+', skiprows=6, usecols=[0, 4], header=None)\n",
    "#\n",
    "# The file content is read into a pandas DataFrame with two columns: 'U' (for the applied voltage) and 'N' (for the number of events).\n",
    "# The full code is given below.\n",
    "# Note:\n",
    "#  - 'plato.txt' is the name of the text file containing your measured values. Change it if your file has a different name.\n",
    "#  - sep='\\s+' means that the values are separated by whitespace (one or more spaces or tabs) in the input file.\n",
    "#  - skiprows=6 means that the first six lines of the file are skipped (header information).\n",
    "#  - usecols=[0, 4] means that only the first and fifth columns are read (indexing starts at 0).\n",
    "#  - header=None means that the file does not contain a header row with column names.\n",
    "\n",
    "import pandas as pd\n",
    "import matplotlib.pyplot as plt\n",
    "\n",
    "df = pd.read_csv('example_data/plato.txt', sep='\\s+', skiprows=6, usecols=[0, 4], header=None)\n",
    "df.columns = ['U', 'N']"
   ]
  },
  {
   "cell_type": "markdown",
   "metadata": {},
   "source": [
    "$\\color{red}{\\textbf{Úloha:}}$ Vyneste závislost počtu signálů na napětí přiloženém na GM detektor. V grafu označte, kde se nachází plato charakteristiky a jaké je vhodné pracovní napětí."
   ]
  },
  {
   "cell_type": "code",
   "execution_count": null,
   "metadata": {},
   "outputs": [],
   "source": [
    "# Solution.\n",
    "\n",
    "# TODO: set the variables `plateau_min` and `plateau_max` below to the voltage values that define the plateau region.\n",
    "plateau_min = 500\n",
    "plateau_max = 750\n",
    "\n",
    "# TODO: set the variable `working_voltage` below to the voltage value that you will use for your measurements.\n",
    "working_voltage = 600\n",
    "\n",
    "# Plot the data in the DataFrame. Use the first column as the x-axis and the second column as the y-axis.\n",
    "def plot_data(df):\n",
    "    plt.plot(df['U'], df['N'], label = 'Data', color = 'black')\n",
    "    plt.xlabel('U [V]')\n",
    "    plt.ylabel('N')\n",
    "    return\n",
    "\n",
    "plot_data(df)\n",
    "plt.legend()\n",
    "plt.show()\n",
    "\n",
    "# Identify the plateau region of the data. Display the plateau region with two vertical lines in the plot.\n",
    "# The plateau region is the region where the counts are approximately constant. In the plot, the plateau region should be displayed with two vertical red lines.\n",
    "# The region is to be identified manually by looking at the plot.\n",
    "plot_data(df)\n",
    "plt.axvline(x = plateau_min, color = 'r', label = 'Plateau')\n",
    "plt.axvline(x = plateau_max, color = 'r')\n",
    "plt.axvline(x = working_voltage, color = 'blue', label = 'Working\\nvoltage')\n",
    "plt.legend()\n",
    "plt.show()"
   ]
  },
  {
   "cell_type": "markdown",
   "metadata": {},
   "source": [
    "# Beta záření a jeho absorpce\n",
    "\n",
    "Beta záření se skládá z elektronů emitovaných při beta rozpadech atomových jader:\n",
    "$$\n",
    "^{A}_{Z}\\mathrm{X} \\rightarrow ^{A}_{Z+1}\\mathrm{Y} + e^- + \\bar{\\nu}_e,\n",
    "$$\n",
    "kde X a Y označují mateřské a dceřiné jádro, $e^-$ elektron a $\\bar{\\nu}_e$ a elektronové antineutrino. Jelikož se jedná o rozpad na tři částice, kinetická energie produktů rozpadu závisí nejen na jejich hmotnostech, ale také na úhlech, pod kterými od sebe odlétají. Energie emitovaných elektronů tak tvoří spojité spektrum od nuly do určité maximální hodnoty. Ta se typicky pohybuje v rozmezí od desítek keV do jednotek MeV v závislosti na rozpadajícím se izotopu X (mateřském jádře). Elektrony emitované při beta rozpadu interagují hlavně excitací nebo ionizací atomového obalu nebo elastickými srážkami s atomovými jádry. To je postupně zpomaluje a mění směr jejich letu, takže některé z nich se již nedostanou do detektoru - tato ztráta se nazývá absorpce. Absorpční křivka je pak definována jako závislost počtu elektronů procházejících absorbátorem na tloušťce absorbátoru. Tvar této křivky pro monoenergetické elektrony není exponenciální (narozdíl od fotonů). Když ale vezmeme v úvahu skutečnost, že elektrony z beta rozpadu mají spojité spektrum, a nikoliv monoenergetické, získáme absorpční křivku, jejíž tvar lze aproximovat exponenciální funkcí (toto je netriviální fakt, který zde nebudeme diskutovat):\n",
    "$$\n",
    "N(d) = N(0) e^{-\\mu(E_0) d};\n",
    "$$\n",
    "$N(d)$ označuje počet elektronů procházejících absorbátorem s plošnou hustotou $d$. Veličina $\\mu$ představuje absorpční koeficient, jehož hodnota závisí na maximální pozorované energii beta rozpadu $E_0$ a na materiálu absorbátoru. Použitý zářič, $^{90}\\mathrm{Sr}$, se rozpadá v kaskádě dvou po sobě následujících beta rozpadů:\n",
    "$$\n",
    "^{90}_{38}\\mathrm{Sr} \\rightarrow ^{90}_{39}\\mathrm{Y} \\rightarrow ^{90}_{40}\\mathrm{Zr},\n",
    "$$\n",
    "kde se maximální energie elektronů emitovaných v každém kroku kaskády $E_{0}^{1}$, $E_{0}^{2}$ liší. Odpovídající absorpční křivka je tedy dána součtem dvou exponenciálních funkcí\n",
    "$$\n",
    "N(d) = N_{1}(0) e^{-\\mu(E_{0}^{1}) d} + N_{2}(0) e^{-\\mu(E_{0}^{2}) d} + N_\\mathrm{B},\n",
    "$$\n",
    "kde jsme také přidali konstantní člen $N_B$, který odpovídá pozadí signálů, jejichž frekvence nezávisí nebo jen slabě závisí na tloušťce absorbátoru."
   ]
  },
  {
   "cell_type": "markdown",
   "metadata": {},
   "source": [
    "$\\color{red}{\\textbf{Úloha:}}$ Změřte absorpční křivku beta záření emitovaného $^{90}\\mathrm{Sr}$ pomocí GM detektoru.\n",
    "\n",
    "- Měření se provádí s GM detektorem při napětí v oblasti plata.\n",
    "- Doba měření je nastavena na 100 s pro každou tloušťku absorbátoru.\n",
    "- Hliníkové desky jsou postupně přidávány mezi zdroj a detektor od nejtenčích po nejtlustší. Tímto způsobem je pokryt interval plošných hustot od 0 do přibližně $1100\\ \\mathrm{mg}\\,\\mathrm{cm}^{-2}$.\n",
    "  - Po přidání všech hliníkových desek se provede ještě jedno měření s olověnou deskou."
   ]
  },
  {
   "cell_type": "code",
   "execution_count": null,
   "metadata": {},
   "outputs": [],
   "source": [
    "# Solution.\n",
    "\n",
    "# TODO: Insert your measured data into a DataFrame whose columns are named 'd' (for the absorber thickness), 'N' (for the number of events), and 'N_unc' (for the uncertainty on N).\n",
    "# Read your measured data from the text file containing it.\n",
    "# You can check the meaning of the parameters of the function pd.read_csv() in the code above.\n",
    "# Convert d to g / cm^2.\n",
    "# Add a column 'N_unc' to the DataFrame that contains the uncertainty on N.\n",
    "\n",
    "df = pd.read_csv('example_data/absorption.txt', sep='\\s+', skiprows=1, usecols=[1, 2], header=None)\n",
    "# remove the last row\n",
    "df = df[:-1]\n",
    "# name the columns\n",
    "df.columns = ['d', 'N']\n",
    "# cast the columns to float\n",
    "df['d'] = df['d'].astype(float) / 1000.\n",
    "df['N'] = df['N'].astype(float)\n",
    "# calculate the uncertainty on N\n",
    "df['N_unc'] = df['N']**0.5\n",
    "print(df.rename(columns={'d': 'd [g/cm^2]', 'N': 'N', 'N_unc': 'N_unc'}))"
   ]
  },
  {
   "cell_type": "markdown",
   "metadata": {},
   "source": [
    "$\\color{red}{\\textbf{Úloha:}}$ Vyneste naměřené body a fitem nalezněte hodnoty parametrů absorpční křivky."
   ]
  },
  {
   "cell_type": "code",
   "execution_count": null,
   "metadata": {},
   "outputs": [],
   "source": [
    "# Solution.\n",
    "\n",
    "import matplotlib.pyplot as plt\n",
    "from IPython.display import display, Latex\n",
    "import uncertainties\n",
    "from uncertainties import unumpy\n",
    "import numpy as np\n",
    "from scipy.optimize import curve_fit\n",
    "\n",
    "# Drawing function definition.\n",
    "def plot(x, y, y_err, x_fit, y_fit, xlabel, ylabel):\n",
    "\n",
    "    # draw x, y with error bars\n",
    "    plt.errorbar(x, y, y_err, fmt='o', label='Data', color='black')\n",
    "\n",
    "    # draw the fit function and its uncertainty band\n",
    "    plt.plot(x_fit, y_fit, color='red', alpha=0.3, label='Fit')\n",
    "\n",
    "    # get the current legend handles and labels and reverse their order\n",
    "    handles, labels = plt.gca().get_legend_handles_labels()\n",
    "    plt.legend(handles=handles[::-1], labels=labels[::-1])\n",
    "\n",
    "    # finally, plot\n",
    "    plt.plot(x_fit, y_fit, 'r-')\n",
    "    plt.xlabel(xlabel)\n",
    "    plt.ylabel(ylabel)\n",
    "    plt.show()\n",
    "\n",
    "    return\n",
    "\n",
    "\n",
    "# Define the absorption function\n",
    "def absorption_curve(d, N_1, mu_E1, N_2, mu_E2, N_B):\n",
    "    return N_1 * np.exp(-mu_E1 * d) + N_2 * np.exp(-mu_E2 * d) + N_B\n",
    "\n",
    "# fit the resolution function to the data\n",
    "nom, cov = curve_fit(absorption_curve, df['d'], df['N'], sigma = df['N_unc'], absolute_sigma = True)\n",
    "\n",
    "# to draw the fit function and its uncertainty band, we need to evaluate the fit function at many points\n",
    "x = np.linspace(df['d'].min(), df['d'].max(), 100)\n",
    "y_fit = absorption_curve(x, *nom)\n",
    "\n",
    "# plot the data and the fit function\n",
    "plot(df['d'], df['N'], df['N_unc'], x, y_fit, '$d$ [g $\\mathrm{cm}^{-2}$]', '$N$')\n",
    "\n",
    "# extract the fit parameters and their uncertainties\n",
    "N_1, mu_E1, N_2, mu_E2, N_B = uncertainties.correlated_values(nom, cov)\n",
    "\n",
    "# print the fit parameters\n",
    "display(Latex(f'$\\mu_{{E^1_0}} = {mu_E1}~\\mathrm{{g}}^{{-1}}\\ \\mathrm{{cm}}^2$'))\n",
    "display(Latex(f'$\\mu_{{E^2_0}} = {mu_E2}~\\mathrm{{g}}^{{-1}}\\ \\mathrm{{cm}}^2$'))\n",
    "display(Latex(f'$N_\\mathrm{{B}} = {N_B}$'))"
   ]
  },
  {
   "cell_type": "markdown",
   "metadata": {},
   "source": [
    "$\\color{red}{\\textbf{Úloha:}}$ Porovnejte, jak se proložený parametr $N_\\mathrm{B}$ (ne)shoduje s hodnotou naměřenou se silným absorbátorem, a diskutujte proč."
   ]
  },
  {
   "cell_type": "markdown",
   "metadata": {},
   "source": [
    "$\\color{red}{\\textbf{Řešení:}}$ "
   ]
  },
  {
   "cell_type": "markdown",
   "metadata": {},
   "source": [
    "$\\color{red}{\\textbf{Úloha:}}$ Vypočtěte maximální energii elektronů emitovaných při beta rozpadu $^{90}\\mathrm{Sr}$. Pro zde použitý hliník existuje empirický vztah mezi $\\mu$ a $E_0$:\n",
    "$$\n",
    "\\mu[g^{-1} \\mathrm{cm}^2] = 17(E_0[\\mathrm{MeV}])^{-1.43},\n",
    "$$\n",
    "do kterého je nutné dosadit v uvedených jednotkách."
   ]
  },
  {
   "cell_type": "code",
   "execution_count": null,
   "metadata": {},
   "outputs": [],
   "source": [
    "# Solution.\n",
    "\n",
    "# calculate E_0 and its uncertainty for the two decays\n",
    "E_1 = (17 / mu_E1) ** (1 / 1.43)\n",
    "E_2 = (17 / mu_E2) ** (1 / 1.43)\n",
    "display(Latex(f'$E_{{0}}^{{1}} = {E_1}\\ \\mathrm{{MeV}}$'))\n",
    "display(Latex(f'$E_{{0}}^{{2}} = {E_2}\\ \\mathrm{{MeV}}$'))\n"
   ]
  },
  {
   "cell_type": "markdown",
   "metadata": {},
   "source": [
    "# Dosah elektronů\n",
    "\n",
    "Dosah elektronů pro danou maximální energii, $R_\\beta(E_0)$, lze hrubě odhadnout jako tloušťku, při které je počet elektronů procházejících absorbátorem tak nízký, že je statisticky nerozlišitelný od pozadí. Tj. odhadněme jej jako tloušťku, při které je počet procházejících elektronů roven nejistotě veličiny $N_\\mathrm{B}$."
   ]
  },
  {
   "cell_type": "markdown",
   "metadata": {},
   "source": [
    "$\\color{red}{\\textbf{Úloha:}}$ Odhadněte $R_\\beta$ pro obě maximální energie elektronů z rozpadové řady $^{90}\\mathrm{Sr}$."
   ]
  },
  {
   "cell_type": "code",
   "execution_count": null,
   "metadata": {},
   "outputs": [],
   "source": [
    "# Solution.\n",
    "\n",
    "# Solve the equation N_1 * np.exp(-mu_E1 * R) = N_B.std_dev for R.\n",
    "\n",
    "import uncertainties.umath\n",
    "\n",
    "R_1 = -uncertainties.umath.log(N_B.std_dev / N_1) / mu_E1\n",
    "R_2 = -uncertainties.umath.log(N_B.std_dev / N_2) / mu_E2\n",
    "display(Latex(f'$R^1_{{\\\\beta}} = {R_1}\\ \\mathrm{{g}}\\,\\mathrm{{cm}}^{{-2}}$'))\n",
    "display(Latex(f'$R^2_{{\\\\beta}} = {R_2}\\ \\mathrm{{g}}\\,\\mathrm{{cm}}^{{-2}}$'))\n"
   ]
  },
  {
   "cell_type": "markdown",
   "metadata": {},
   "source": [
    "$\\color{red}{\\textbf{Úloha:}}$ Vyneste obě absorpční křivky a odhadované dosahy elektronů."
   ]
  },
  {
   "cell_type": "code",
   "execution_count": null,
   "metadata": {},
   "outputs": [],
   "source": [
    "# # Solution.\n",
    "\n",
    "# Plot the curves for the two decays in the same plot. Use the same x-axis range for both curves.\n",
    "# Plot the above estimated values of R_1 and R_2 with vertical lines in the plot.\n",
    "# The plot should have a logarithmic y-axis.\n",
    "\n",
    "# x values for the plot.\n",
    "x = np.linspace(df['d'].min(), df['d'].max(), 100)\n",
    "\n",
    "# wrap the absorption function to handle uncertainties\n",
    "wrapped_absorption = uncertainties.wrap(absorption_curve)\n",
    "\n",
    "# the first absorption curve\n",
    "y1 = [wrapped_absorption(x, N_1, mu_E1, 0, 0, 0) for x in x]\n",
    "y1_upper = unumpy.nominal_values(y1) + unumpy.std_devs(y1)\n",
    "y1_lower = unumpy.nominal_values(y1) - unumpy.std_devs(y1)\n",
    "plt.plot(x, unumpy.nominal_values(y1), label='$N_{1}(d)$', linewidth=1, color='red')\n",
    "plt.fill_between(x, y1_lower, y1_upper, color='red', alpha=0.3)\n",
    "\n",
    "# the second absorption curve\n",
    "y2 = [wrapped_absorption(x, 0, 0, N_2, mu_E2, 0) for x in x]\n",
    "y2_upper = unumpy.nominal_values(y2) + unumpy.std_devs(y2)\n",
    "y2_lower = unumpy.nominal_values(y2) - unumpy.std_devs(y2)\n",
    "plt.plot(x, unumpy.nominal_values(y2), label='$N_{2}(d)$', linewidth=1, color='blue')\n",
    "plt.fill_between(x, y2_lower, y2_upper, color='blue', alpha=0.3)\n",
    "\n",
    "# vertical lines at R_1 and R_2\n",
    "plt.vlines(x=R_1.nominal_value, ymin=1, ymax=N_B.std_dev, label='$R_1$', linestyle='--', linewidth=1, color='red')\n",
    "plt.vlines(x=R_2.nominal_value, ymin=1, ymax=N_B.std_dev, label='$R_2$', linestyle='--', linewidth=1, color='blue')\n",
    "\n",
    "# horizontal line at N_B.std_dev\n",
    "plt.axhline(y=N_B.std_dev, color='black', linestyle='--')\n",
    "\n",
    "# labels etc.\n",
    "plt.yscale('log')\n",
    "plt.ylim(1, 1e4)\n",
    "plt.xlabel('$d$ [g $\\mathrm{cm}^{-2}$]')\n",
    "plt.ylabel('$N$')\n",
    "plt.legend()\n",
    "plt.show()"
   ]
  },
  {
   "cell_type": "markdown",
   "metadata": {},
   "source": [
    "$\\color{red}{\\textbf{Úloha:}}$ Výše uvedená metoda odhadu dosahu elektronů je poměrně hrubá. Diskutujte, proč tomu tak je, a navrhněte nějakou alternativní metodu."
   ]
  },
  {
   "cell_type": "markdown",
   "metadata": {},
   "source": [
    "$\\color{red}{\\textbf{Řešení:}}$"
   ]
  },
  {
   "cell_type": "markdown",
   "metadata": {},
   "source": [
    "$\\color{red}{\\textbf{Úloha:}}$ Z maximálního dosahu elektronů $R_{\\beta}^{1,2}$ (v jednotkách plošné hustoty) odhadněte maximální energie elektronů $E_0^{1,2}$. Použijte následující empirické vztahy:\n",
    "$$\n",
    "R_{\\beta}[\\mathrm{g}\\,\\mathrm{cm}^{-2}] = \\begin{cases}\n",
    "0.407 \\times (E_0[\\mathrm{MeV}])^{1.38} & 0.15 \\mathrm{MeV} < E_0 \\leq 0.8 \\mathrm{MeV} \\\\\n",
    "0.542 \\times (E_0[\\mathrm{MeV}]) -0.133 & E_0 > 0.8 \\mathrm{MeV},\n",
    "\\end{cases}\n",
    "$$\n",
    "do kterých je nutné dosadit v uvedených jednotkách."
   ]
  },
  {
   "cell_type": "code",
   "execution_count": null,
   "metadata": {},
   "outputs": [],
   "source": [
    "# Solution.\n",
    "\n",
    "# From R_1 and R_2, calculate the maximum electron energies E_0^1 and E_0^2 of the beta particles. Use the empirical formula just above.\n",
    "\n",
    "E_1 = (R_1 / 0.407) ** (1 / 1.38)\n",
    "E_2 = (R_2 + 0.133) / 0.542\n",
    "display(Latex(f'$E_{{0}}^{{1}} = {E_1}\\ \\mathrm{{MeV}}$'))\n",
    "display(Latex(f'$E_{{0}}^{{2}} = {E_2}\\ \\mathrm{{MeV}}$'))"
   ]
  },
  {
   "cell_type": "markdown",
   "metadata": {},
   "source": [
    "$\\color{red}{\\textbf{Úloha:}}$ Porovnejte stanovené hodnoty maximálních energií $E_0^1$, $E_0^2$ s tabulkovými hodnotami [1]."
   ]
  },
  {
   "cell_type": "markdown",
   "metadata": {},
   "source": [
    "$\\color{red}{\\textbf{Řešení:}}$"
   ]
  },
  {
   "cell_type": "markdown",
   "metadata": {},
   "source": [
    "# Poissonovo rozdělení\n",
    "\n",
    "Detekce jednotlivých elektronů emitovaných při beta rozpadu v určitém časovém intervalu jsou vzájemně nezávislé náhodné události. Pravděpodobnost $P(k)$, že se taková událost vyskytne přesně $k$-krát, je dána Poissonovým rozdělením:\n",
    "$$\n",
    "P(k) = \\frac{\\mu^k}{k!} e^{-\\mu},\n",
    "$$\n",
    "kde $\\mu$ představuje střední hodnotu. Směrodatná odchylka tohoto rozdělení je $\\sqrt{\\mu}$. Se zvyšujícím se $\\mu$ Poissonovo rozdělení konverguje ke Gaussovu rozdělení:\n",
    "$$\n",
    "P(x) = \\frac{1}{\\sqrt{2\\pi\\sigma^2}} e^{-\\frac{(x-\\mu)^2}{2\\sigma^2}},\n",
    "$$\n",
    "kde $\\sigma = \\sqrt{\\mu}$."
   ]
  },
  {
   "cell_type": "markdown",
   "metadata": {},
   "source": [
    "$\\color{red}{\\textbf{Úloha:}}$ Ukažte, že počet emitovaných elektronů je popsán Poissonovým rozdělením.\n",
    "\n",
    "- Měření se provádí bez absorbátoru, 765krát, pokaždé po dobu 1 s."
   ]
  },
  {
   "cell_type": "code",
   "execution_count": null,
   "metadata": {},
   "outputs": [],
   "source": [
    "# Solution.\n",
    "\n",
    "# TODO: Insert your measured data into a DataFrame whose only column is named 'N'.\n",
    "# Read your measured data from the text file containing it.\n",
    "# You can check the meaning of the parameters of the function pd.read_csv() in the code above.\n",
    "\n",
    "df = pd.read_csv('example_data/poisson.txt', sep='\\s+', skiprows=1, usecols=[2], header=None)\n",
    "df.columns = ['N']"
   ]
  },
  {
   "cell_type": "markdown",
   "metadata": {},
   "source": [
    "$\\color{red}{\\textbf{Úloha:}}$ Proložte data Poissonovým rozdělením.\n",
    "- Pamatujte, že střední hodnota Poissonova rozdělení, $\\mu$, se odhaduje jako průměr naměřených hodnot.\n",
    "- Směrodatná odchylka $\\mu$ se pak odhaduje jako odmocnina variance dělená odmocninou počtu měření."
   ]
  },
  {
   "cell_type": "code",
   "execution_count": null,
   "metadata": {},
   "outputs": [],
   "source": [
    "\n",
    "# Solution.\n",
    "\n",
    "# The mean value estimate\n",
    "mu_fit = df['N'].mean()\n",
    "\n",
    "# Calculate the standard deviation of the mean\n",
    "mu_fit_unc = df['N'].std() / np.sqrt(len(df))\n",
    "\n",
    "# Print the fit parameter\n",
    "display(Latex(f'$\\mu = {mu_fit:.2f} \\pm {mu_fit_unc:.2f}$'))"
   ]
  },
  {
   "cell_type": "markdown",
   "metadata": {},
   "source": [
    "$\\color{red}{\\textbf{Úloha:}}$ Ověřte kvalitu proložení pomocí $\\chi^2$ testu - vypočtěte p-hodnotu a diskutujte, zda je proložení přijatelné."
   ]
  },
  {
   "cell_type": "code",
   "execution_count": null,
   "metadata": {},
   "outputs": [],
   "source": [
    "# Solution.\n",
    "\n",
    "# Calculate the chi-squared value of the fit\n",
    "residuals = df['N'] - mu_fit\n",
    "chi_square = np.sum(residuals ** 2 / mu_fit)\n",
    "ndf = len(df) - 1  # number of degrees of freedom\n",
    "display(Latex(f'$\\chi^2 = {chi_square:.2f}$'))\n",
    "display(Latex(f'ndf $= {ndf}$'))\n",
    "\n",
    "# Calculate the p-value.\n",
    "import scipy\n",
    "p_value = 1 - scipy.stats.chi2.cdf(chi_square, ndf)\n",
    "display(Latex(f'$p = {p_value:.4f}$'))"
   ]
  },
  {
   "cell_type": "markdown",
   "metadata": {},
   "source": [
    "$\\color{red}{\\textbf{Úloha:}}$ Vytvořte histogram výsledků.\n",
    "- Histogram by měl být normalizovaný na jednotkovou plochu (tj. každý bin by měl být dělen celkovým počtem měření)."
   ]
  },
  {
   "cell_type": "code",
   "execution_count": null,
   "metadata": {},
   "outputs": [],
   "source": [
    "# Solution.\n",
    "\n",
    "# histogram the data\n",
    "hist, bin_edges = np.histogram(df['N'], bins=[df['N'].min() - 0.5 + i for i in range(df['N'].max() - df['N'].min() + 1)], density=True)"
   ]
  },
  {
   "cell_type": "markdown",
   "metadata": {},
   "source": [
    "$\\color{red}{\\textbf{Úloha:}}$ Vyneste histogram a proložené Poissonovo rozdělení."
   ]
  },
  {
   "cell_type": "code",
   "execution_count": null,
   "metadata": {},
   "outputs": [],
   "source": [
    "# Solution.\n",
    "\n",
    "# to draw the fit function and its uncertainty band, we need to evaluate the fit function at many points\n",
    "x = np.arange(df['N'].min(), df['N'].max())\n",
    "from scipy.stats import poisson\n",
    "y_fit = poisson.pmf(x, mu_fit)\n",
    "\n",
    "# calculate the bin centers\n",
    "bin_centers = (bin_edges[:-1] + bin_edges[1:]) / 2\n",
    "\n",
    "# plot the data and the fit function\n",
    "plot(bin_centers, hist, None, x, y_fit, '$N$', 'Probability')"
   ]
  },
  {
   "cell_type": "markdown",
   "metadata": {},
   "source": [
    "# Literatura\n",
    "\n",
    "[1] S. K. Basu and E. A. McCutchan, Nuclear Data Sheets for A = 90, Nucl. Data Sheets 165 (2020) 1-329, dostupné na https://www.nndc.bnl.gov/ensdf/"
   ]
  }
 ],
 "metadata": {
  "kernelspec": {
   "display_name": "praktikum",
   "language": "python",
   "name": "praktikum"
  },
  "language_info": {
   "codemirror_mode": {
    "name": "ipython",
    "version": 3
   },
   "file_extension": ".py",
   "mimetype": "text/x-python",
   "name": "python",
   "nbconvert_exporter": "python",
   "pygments_lexer": "ipython3",
   "version": "3.9.21"
  }
 },
 "nbformat": 4,
 "nbformat_minor": 4
}
